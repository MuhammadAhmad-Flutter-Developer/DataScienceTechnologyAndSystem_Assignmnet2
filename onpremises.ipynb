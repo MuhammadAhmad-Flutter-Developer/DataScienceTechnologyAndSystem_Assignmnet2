{
 "cells": [
  {
   "cell_type": "markdown",
   "metadata": {},
   "source": [
    "# Problem: Predicting Airplane Delays\n",
    "\n",
    "The goals of this notebook are:\n",
    "- Process and create a dataset from downloaded ZIP files\n",
    "- Exploratory data analysis (EDA)\n",
    "- Establish a baseline model and improve it\n",
    "\n",
    "## Introduction to business scenario\n",
    "You work for a travel booking website that is working to improve the customer experience for flights that were delayed. The company wants to create a feature to let customers know if the flight will be delayed due to weather when the customers are booking the flight to or from the busiest airports for domestic travel in the US. \n",
    "\n",
    "You are tasked with solving part of this problem by leveraging machine learning to identify whether the flight will be delayed due to weather. You have been given access to the a dataset of on-time performance of domestic flights operated by large air carriers. You can use this data to train a machine learning model to predict if the flight is going to be delayed for the busiest airports.\n",
    "\n",
    "### Dataset\n",
    "The provided dataset contains scheduled and actual departure and arrival times reported by certified US air carriers that account for at least 1 percent of domestic scheduled passenger revenues. The data was collected by the Office of Airline Information, Bureau of Transportation Statistics (BTS). The dataset contains date, time, origin, destination, airline, distance, and delay status of flights for flights between 2014 and 2018.\n",
    "The data are in 60 compressed files, where each file contains a CSV for the flight details in a month for the five years (from 2014 - 2018). The data can be downloaded from this [link](https://ucstaff-my.sharepoint.com/:f:/g/personal/ibrahim_radwan_canberra_edu_au/EhWeqeQsh-9Mr1fneZc9_0sBOBzEdXngvxFJtAlIa-eAgA?e=8ukWwa). Please download the data files and place them on a relative path. Dataset(s) used in this assignment were compiled by the Office of Airline Information, Bureau of Transportation Statistics (BTS), Airline On-Time Performance Data, available with the following [link](https://www.transtats.bts.gov/Fields.asp?gnoyr_VQ=FGJ)."
   ]
  },
  {
   "cell_type": "markdown",
   "metadata": {},
   "source": [
    "# Step 1: Problem formulation and data collection\n",
    "\n",
    "Start this project off by writing a few sentences below that summarize the business problem and the business goal you're trying to achieve in this scenario. Include a business metric you would like your team to aspire toward. With that information defined, clearly write out the machine learning problem statement. Finally, add a comment or two about the type of machine learning this represents. \n",
    "\n",
    "\n",
    "### 1. Determine if and why ML is an appropriate solution to deploy."
   ]
  },
  {
   "cell_type": "markdown",
   "metadata": {},
   "source": [
    "\n",
    "ML is appropriate because we need to predict a binary outcome (arrival delay > 15 min) from many interacting factors (carrier, route, schedule, distance, seasonality, and—when joined—weather). These relationships are non-linear and context-dependent, so manual rules would be brittle and hard to maintain. We also have large historical, labeled data (BTS 2014–2018) that fits supervised learning and enables continuous improvement (retraining as patterns shift). Deployed models can serve real-time probabilities at search/booking time to improve customer experience and operational planning."
   ]
  },
  {
   "cell_type": "markdown",
   "metadata": {},
   "source": [
    "### 2. Formulate the business problem, success metrics, and desired ML output.\n",
    "Business problem (plain English).\n",
    "Before a customer books, estimate the likelihood that their flight will arrive late (>15 minutes), so the site can warn them, suggest alternatives, and set expectations—especially when weather risk is elevated at busy US airports.\n",
    "\n",
    "Business goal.\n",
    "Reduce unexpected delays experienced by customers and increase trust/retention by surfacing high-risk flights during search/booking.\n",
    "\n",
    "Success metrics (business + ML).\n",
    "\n",
    "Primary (imbalanced-aware): PR-AUC (average precision) and Recall@Top-k% (e.g., recall among the 10% highest-risk flights we flag).\n",
    "\n",
    "Secondary: ROC-AUC, F1 at an operating threshold tuned to business needs (e.g., higher recall during holidays/bad weather), and calibration (Brier score / reliability curve) so shown probabilities are trustworthy.\n",
    "\n",
    "Experience proxy: CTR/engagement with recommendations, re-routing uptake, and post-trip CSAT for flagged vs. unflagged bookings.\n",
    "\n",
    "Desired ML output.\n",
    "For each candidate itinerary, return P(delay > 15 min) (a probability). Downstream UI/decisions use a threshold (or top-k ranking) that balances false alarms vs. missed delays.\n",
    "\n",
    "Constraints/assumptions.\n",
    "Time-aware evaluation (train on 2014–2017, test on 2018); avoid leakage (don’t use realized post-departure fields at booking time); incorporate external weather features when available; handle class imbalance."
   ]
  },
  {
   "cell_type": "markdown",
   "metadata": {},
   "source": [
    "### 3. Identify the type of ML problem you’re dealing with."
   ]
  },
  {
   "cell_type": "markdown",
   "metadata": {},
   "source": [
    "Learning paradigm: Supervised learning\n",
    "\n",
    "Task: Binary classification (is_delay = 1 if ArrDel15 == 1, else 0)\n",
    "\n",
    "Data type: Tabular, mixed categorical + numeric, time-dependent\n",
    "\n",
    "Evaluation setting: Temporal generalization (out-of-time test), class-imbalanced\n",
    "\n",
    "Candidate models: Logistic Regression (baseline), tree-based ensembles (Random Forest, XGBoost), calibrated probabilities (Platt/Isotonic)\n",
    "\n",
    "Serving mode: Batch scoring for search results or low-latency real-time API (on-prem and on-cloud via SageMaker)"
   ]
  },
  {
   "cell_type": "markdown",
   "metadata": {},
   "source": [
    "### Setup\n",
    "\n",
    "Now that we have decided where to focus our energy, let's set things up so you can start working on solving the problem."
   ]
  },
  {
   "cell_type": "code",
   "execution_count": 1,
   "metadata": {},
   "outputs": [],
   "source": [
    "import os\n",
    "from pathlib2 import Path\n",
    "from zipfile import ZipFile\n",
    "import time\n",
    "\n",
    "import pandas as pd\n",
    "import numpy as np\n",
    "import subprocess\n",
    "\n",
    "import matplotlib.pyplot as plt\n",
    "import seaborn as sns\n",
    "\n",
    "sns.set()\n",
    "\n",
    "import warnings\n",
    "warnings.filterwarnings('ignore')\n",
    "\n",
    "%matplotlib inline\n",
    "\n",
    "# <please add any other library or function you are aiming to import here>\n"
   ]
  },
  {
   "cell_type": "markdown",
   "metadata": {},
   "source": [
    "# Step 2: Data preprocessing and visualization  \n",
    "In this data preprocessing phase, you should take the opportunity to explore and visualize your data to better understand it. First, import the necessary libraries and read the data into a Pandas dataframe. After that, explore your data. Look for the shape of the dataset and explore your columns and the types of columns you're working with (numerical, categorical). Consider performing basic statistics on the features to get a sense of feature means and ranges. Take a close look at your target column and determine its distribution.\n",
    "\n",
    "### Specific questions to consider\n",
    "1. What can you deduce from the basic statistics you ran on the features? \n",
    "\n",
    "2. What can you deduce from the distributions of the target classes?\n",
    "\n",
    "3. Is there anything else you deduced from exploring the data?"
   ]
  },
  {
   "cell_type": "markdown",
   "metadata": {},
   "source": [
    "Start by bringing in the dataset from an Amazon S3 public bucket to this notebook environment."
   ]
  },
  {
   "cell_type": "code",
   "execution_count": 13,
   "metadata": {},
   "outputs": [
    {
     "name": "stdout",
     "output_type": "stream",
     "text": [
      "✅ datacompressed.zip extracted!\n"
     ]
    }
   ],
   "source": [
    "from zipfile import ZipFile\n",
    "from pathlib import Path\n",
    "import os\n",
    "import shutil\n",
    "\n",
    "# Path to the main dataset zip file\n",
    "dataset_zip = Path(\"data_compressed.zip\")\n",
    "\n",
    "# Extract it to a folder\n",
    "with ZipFile(dataset_zip, 'r') as zip_ref:\n",
    "    zip_ref.extractall(\".\")  # extract here\n",
    "\n",
    "print(\"✅ datacompressed.zip extracted!\")"
   ]
  },
  {
   "cell_type": "code",
   "execution_count": 15,
   "metadata": {},
   "outputs": [
    {
     "name": "stdout",
     "output_type": "stream",
     "text": [
      "Project folder (resolved): C:\\Users\\M AHMAD\\Desktop\\SEMESTER 2 UC\\UC SEMESTER 3\\Data Science technology and systems\\Assignment 2\n",
      "Total zip files found: 60\n"
     ]
    }
   ],
   "source": [
    "# download the files\n",
    "# download the files\n",
    "\n",
    "# <note: using RELATIVE paths only as required>\n",
    "from pathlib import Path\n",
    "import os\n",
    "\n",
    "# Use current project folder as base\n",
    "base_path = Path(\".\")  # this means current folder where notebook is running\n",
    "\n",
    "# Relative paths to data folders\n",
    "zip_path = base_path / \"data_compressed\"    # folder containing the 60 zip files\n",
    "csv_base_path = base_path / \"data_csv\"      # where we will extract\n",
    "readmes_dir = csv_base_path / \"readmes\" \n",
    "\n",
    "# Create folder for extracted CSV if doesn't exist\n",
    "os.makedirs(csv_base_path, exist_ok=True)\n",
    "os.makedirs(readmes_dir, exist_ok=True) \n",
    "\n",
    "# Count ZIP files\n",
    "zip_files = list(zip_path.glob(\"*.zip\"))\n",
    "print(f\"Project folder (resolved): {base_path.resolve()}\")\n",
    "print(f\"Total zip files found: {len(zip_files)}\")"
   ]
  },
  {
   "cell_type": "markdown",
   "metadata": {},
   "source": [
    "# How many zip files do we have? write a code to answer it."
   ]
  },
  {
   "cell_type": "markdown",
   "metadata": {},
   "source": [
    "60 zip files found"
   ]
  },
  {
   "cell_type": "code",
   "execution_count": 21,
   "metadata": {},
   "outputs": [
    {
     "name": "stdout",
     "output_type": "stream",
     "text": [
      "Number of ZIP files in 'data_compressed': 60\n",
      "\n",
      "ZIP files found:\n",
      "  1. On_Time_Reporting_Carrier_On_Time_Performance_1987_present_2014_1.zip\n",
      "  2. On_Time_Reporting_Carrier_On_Time_Performance_1987_present_2014_10.zip\n",
      "  3. On_Time_Reporting_Carrier_On_Time_Performance_1987_present_2014_11.zip\n",
      "  4. On_Time_Reporting_Carrier_On_Time_Performance_1987_present_2014_12.zip\n",
      "  5. On_Time_Reporting_Carrier_On_Time_Performance_1987_present_2014_2.zip\n",
      "  6. On_Time_Reporting_Carrier_On_Time_Performance_1987_present_2014_3.zip\n",
      "  7. On_Time_Reporting_Carrier_On_Time_Performance_1987_present_2014_4.zip\n",
      "  8. On_Time_Reporting_Carrier_On_Time_Performance_1987_present_2014_5.zip\n",
      "  9. On_Time_Reporting_Carrier_On_Time_Performance_1987_present_2014_6.zip\n",
      "  10. On_Time_Reporting_Carrier_On_Time_Performance_1987_present_2014_7.zip\n",
      "  11. On_Time_Reporting_Carrier_On_Time_Performance_1987_present_2014_8.zip\n",
      "  12. On_Time_Reporting_Carrier_On_Time_Performance_1987_present_2014_9.zip\n",
      "  13. On_Time_Reporting_Carrier_On_Time_Performance_1987_present_2015_1.zip\n",
      "  14. On_Time_Reporting_Carrier_On_Time_Performance_1987_present_2015_10.zip\n",
      "  15. On_Time_Reporting_Carrier_On_Time_Performance_1987_present_2015_11.zip\n",
      "  16. On_Time_Reporting_Carrier_On_Time_Performance_1987_present_2015_12.zip\n",
      "  17. On_Time_Reporting_Carrier_On_Time_Performance_1987_present_2015_2.zip\n",
      "  18. On_Time_Reporting_Carrier_On_Time_Performance_1987_present_2015_3.zip\n",
      "  19. On_Time_Reporting_Carrier_On_Time_Performance_1987_present_2015_4.zip\n",
      "  20. On_Time_Reporting_Carrier_On_Time_Performance_1987_present_2015_5.zip\n",
      "  21. On_Time_Reporting_Carrier_On_Time_Performance_1987_present_2015_6.zip\n",
      "  22. On_Time_Reporting_Carrier_On_Time_Performance_1987_present_2015_7.zip\n",
      "  23. On_Time_Reporting_Carrier_On_Time_Performance_1987_present_2015_8.zip\n",
      "  24. On_Time_Reporting_Carrier_On_Time_Performance_1987_present_2015_9.zip\n",
      "  25. On_Time_Reporting_Carrier_On_Time_Performance_1987_present_2016_1.zip\n",
      "  26. On_Time_Reporting_Carrier_On_Time_Performance_1987_present_2016_10.zip\n",
      "  27. On_Time_Reporting_Carrier_On_Time_Performance_1987_present_2016_11.zip\n",
      "  28. On_Time_Reporting_Carrier_On_Time_Performance_1987_present_2016_12.zip\n",
      "  29. On_Time_Reporting_Carrier_On_Time_Performance_1987_present_2016_2.zip\n",
      "  30. On_Time_Reporting_Carrier_On_Time_Performance_1987_present_2016_3.zip\n",
      "  31. On_Time_Reporting_Carrier_On_Time_Performance_1987_present_2016_4.zip\n",
      "  32. On_Time_Reporting_Carrier_On_Time_Performance_1987_present_2016_5.zip\n",
      "  33. On_Time_Reporting_Carrier_On_Time_Performance_1987_present_2016_6.zip\n",
      "  34. On_Time_Reporting_Carrier_On_Time_Performance_1987_present_2016_7.zip\n",
      "  35. On_Time_Reporting_Carrier_On_Time_Performance_1987_present_2016_8.zip\n",
      "  36. On_Time_Reporting_Carrier_On_Time_Performance_1987_present_2016_9.zip\n",
      "  37. On_Time_Reporting_Carrier_On_Time_Performance_1987_present_2017_1.zip\n",
      "  38. On_Time_Reporting_Carrier_On_Time_Performance_1987_present_2017_10.zip\n",
      "  39. On_Time_Reporting_Carrier_On_Time_Performance_1987_present_2017_11.zip\n",
      "  40. On_Time_Reporting_Carrier_On_Time_Performance_1987_present_2017_12.zip\n",
      "  41. On_Time_Reporting_Carrier_On_Time_Performance_1987_present_2017_2.zip\n",
      "  42. On_Time_Reporting_Carrier_On_Time_Performance_1987_present_2017_3.zip\n",
      "  43. On_Time_Reporting_Carrier_On_Time_Performance_1987_present_2017_4.zip\n",
      "  44. On_Time_Reporting_Carrier_On_Time_Performance_1987_present_2017_5.zip\n",
      "  45. On_Time_Reporting_Carrier_On_Time_Performance_1987_present_2017_6.zip\n",
      "  46. On_Time_Reporting_Carrier_On_Time_Performance_1987_present_2017_7.zip\n",
      "  47. On_Time_Reporting_Carrier_On_Time_Performance_1987_present_2017_8.zip\n",
      "  48. On_Time_Reporting_Carrier_On_Time_Performance_1987_present_2017_9.zip\n",
      "  49. On_Time_Reporting_Carrier_On_Time_Performance_1987_present_2018_1.zip\n",
      "  50. On_Time_Reporting_Carrier_On_Time_Performance_1987_present_2018_10.zip\n",
      "  51. On_Time_Reporting_Carrier_On_Time_Performance_1987_present_2018_11.zip\n",
      "  52. On_Time_Reporting_Carrier_On_Time_Performance_1987_present_2018_12.zip\n",
      "  53. On_Time_Reporting_Carrier_On_Time_Performance_1987_present_2018_2.zip\n",
      "  54. On_Time_Reporting_Carrier_On_Time_Performance_1987_present_2018_3.zip\n",
      "  55. On_Time_Reporting_Carrier_On_Time_Performance_1987_present_2018_4.zip\n",
      "  56. On_Time_Reporting_Carrier_On_Time_Performance_1987_present_2018_5.zip\n",
      "  57. On_Time_Reporting_Carrier_On_Time_Performance_1987_present_2018_6.zip\n",
      "  58. On_Time_Reporting_Carrier_On_Time_Performance_1987_present_2018_7.zip\n",
      "  59. On_Time_Reporting_Carrier_On_Time_Performance_1987_present_2018_8.zip\n",
      "  60. On_Time_Reporting_Carrier_On_Time_Performance_1987_present_2018_9.zip\n"
     ]
    }
   ],
   "source": [
    "\n",
    "import os\n",
    "import glob\n",
    "\n",
    "# Count zip files in the raw_zips directory\n",
    "zip_files = glob.glob(os.path.join(zip_path, '*.zip'))\n",
    "num_zip_files = len(zip_files)\n",
    "\n",
    "print(f\"Number of ZIP files in '{zip_path}': {num_zip_files}\")\n",
    "\n",
    "# List the zip files if any are found\n",
    "if num_zip_files > 0:\n",
    "    print(\"\\nZIP files found:\")\n",
    "    for i, zip_file in enumerate(zip_files, 1):\n",
    "        print(f\"  {i}. {os.path.basename(zip_file)}\")\n",
    "else:\n",
    "    print(\"No ZIP files found in the specified directory.\")"
   ]
  },
  {
   "cell_type": "markdown",
   "metadata": {},
   "source": [
    "#### Extract CSV files from ZIP files"
   ]
  },
  {
   "cell_type": "code",
   "execution_count": 23,
   "metadata": {
    "scrolled": true
   },
   "outputs": [
    {
     "name": "stdout",
     "output_type": "stream",
     "text": [
      "Extracting data_compressed\\On_Time_Reporting_Carrier_On_Time_Performance_1987_present_2014_1.zip \n",
      "Extracting data_compressed\\On_Time_Reporting_Carrier_On_Time_Performance_1987_present_2014_10.zip \n",
      "Extracting data_compressed\\On_Time_Reporting_Carrier_On_Time_Performance_1987_present_2014_11.zip \n",
      "Extracting data_compressed\\On_Time_Reporting_Carrier_On_Time_Performance_1987_present_2014_12.zip \n",
      "Extracting data_compressed\\On_Time_Reporting_Carrier_On_Time_Performance_1987_present_2014_2.zip \n",
      "Extracting data_compressed\\On_Time_Reporting_Carrier_On_Time_Performance_1987_present_2014_3.zip \n",
      "Extracting data_compressed\\On_Time_Reporting_Carrier_On_Time_Performance_1987_present_2014_4.zip \n",
      "Extracting data_compressed\\On_Time_Reporting_Carrier_On_Time_Performance_1987_present_2014_5.zip \n",
      "Extracting data_compressed\\On_Time_Reporting_Carrier_On_Time_Performance_1987_present_2014_6.zip \n",
      "Extracting data_compressed\\On_Time_Reporting_Carrier_On_Time_Performance_1987_present_2014_7.zip \n",
      "Extracting data_compressed\\On_Time_Reporting_Carrier_On_Time_Performance_1987_present_2014_8.zip \n",
      "Extracting data_compressed\\On_Time_Reporting_Carrier_On_Time_Performance_1987_present_2014_9.zip \n",
      "Extracting data_compressed\\On_Time_Reporting_Carrier_On_Time_Performance_1987_present_2015_1.zip \n",
      "Extracting data_compressed\\On_Time_Reporting_Carrier_On_Time_Performance_1987_present_2015_10.zip \n",
      "Extracting data_compressed\\On_Time_Reporting_Carrier_On_Time_Performance_1987_present_2015_11.zip \n",
      "Extracting data_compressed\\On_Time_Reporting_Carrier_On_Time_Performance_1987_present_2015_12.zip \n",
      "Extracting data_compressed\\On_Time_Reporting_Carrier_On_Time_Performance_1987_present_2015_2.zip \n",
      "Extracting data_compressed\\On_Time_Reporting_Carrier_On_Time_Performance_1987_present_2015_3.zip \n",
      "Extracting data_compressed\\On_Time_Reporting_Carrier_On_Time_Performance_1987_present_2015_4.zip \n",
      "Extracting data_compressed\\On_Time_Reporting_Carrier_On_Time_Performance_1987_present_2015_5.zip \n",
      "Extracting data_compressed\\On_Time_Reporting_Carrier_On_Time_Performance_1987_present_2015_6.zip \n",
      "Extracting data_compressed\\On_Time_Reporting_Carrier_On_Time_Performance_1987_present_2015_7.zip \n",
      "Extracting data_compressed\\On_Time_Reporting_Carrier_On_Time_Performance_1987_present_2015_8.zip \n",
      "Extracting data_compressed\\On_Time_Reporting_Carrier_On_Time_Performance_1987_present_2015_9.zip \n",
      "Extracting data_compressed\\On_Time_Reporting_Carrier_On_Time_Performance_1987_present_2016_1.zip \n",
      "Extracting data_compressed\\On_Time_Reporting_Carrier_On_Time_Performance_1987_present_2016_10.zip \n",
      "Extracting data_compressed\\On_Time_Reporting_Carrier_On_Time_Performance_1987_present_2016_11.zip \n",
      "Extracting data_compressed\\On_Time_Reporting_Carrier_On_Time_Performance_1987_present_2016_12.zip \n",
      "Extracting data_compressed\\On_Time_Reporting_Carrier_On_Time_Performance_1987_present_2016_2.zip \n",
      "Extracting data_compressed\\On_Time_Reporting_Carrier_On_Time_Performance_1987_present_2016_3.zip \n",
      "Extracting data_compressed\\On_Time_Reporting_Carrier_On_Time_Performance_1987_present_2016_4.zip \n",
      "Extracting data_compressed\\On_Time_Reporting_Carrier_On_Time_Performance_1987_present_2016_5.zip \n",
      "Extracting data_compressed\\On_Time_Reporting_Carrier_On_Time_Performance_1987_present_2016_6.zip \n",
      "Extracting data_compressed\\On_Time_Reporting_Carrier_On_Time_Performance_1987_present_2016_7.zip \n",
      "Extracting data_compressed\\On_Time_Reporting_Carrier_On_Time_Performance_1987_present_2016_8.zip \n",
      "Extracting data_compressed\\On_Time_Reporting_Carrier_On_Time_Performance_1987_present_2016_9.zip \n",
      "Extracting data_compressed\\On_Time_Reporting_Carrier_On_Time_Performance_1987_present_2017_1.zip \n",
      "Extracting data_compressed\\On_Time_Reporting_Carrier_On_Time_Performance_1987_present_2017_10.zip \n",
      "Extracting data_compressed\\On_Time_Reporting_Carrier_On_Time_Performance_1987_present_2017_11.zip \n",
      "Extracting data_compressed\\On_Time_Reporting_Carrier_On_Time_Performance_1987_present_2017_12.zip \n",
      "Extracting data_compressed\\On_Time_Reporting_Carrier_On_Time_Performance_1987_present_2017_2.zip \n",
      "Extracting data_compressed\\On_Time_Reporting_Carrier_On_Time_Performance_1987_present_2017_3.zip \n",
      "Extracting data_compressed\\On_Time_Reporting_Carrier_On_Time_Performance_1987_present_2017_4.zip \n",
      "Extracting data_compressed\\On_Time_Reporting_Carrier_On_Time_Performance_1987_present_2017_5.zip \n",
      "Extracting data_compressed\\On_Time_Reporting_Carrier_On_Time_Performance_1987_present_2017_6.zip \n",
      "Extracting data_compressed\\On_Time_Reporting_Carrier_On_Time_Performance_1987_present_2017_7.zip \n",
      "Extracting data_compressed\\On_Time_Reporting_Carrier_On_Time_Performance_1987_present_2017_8.zip \n",
      "Extracting data_compressed\\On_Time_Reporting_Carrier_On_Time_Performance_1987_present_2017_9.zip \n",
      "Extracting data_compressed\\On_Time_Reporting_Carrier_On_Time_Performance_1987_present_2018_1.zip \n",
      "Extracting data_compressed\\On_Time_Reporting_Carrier_On_Time_Performance_1987_present_2018_10.zip \n",
      "Extracting data_compressed\\On_Time_Reporting_Carrier_On_Time_Performance_1987_present_2018_11.zip \n",
      "Extracting data_compressed\\On_Time_Reporting_Carrier_On_Time_Performance_1987_present_2018_12.zip \n",
      "Extracting data_compressed\\On_Time_Reporting_Carrier_On_Time_Performance_1987_present_2018_2.zip \n",
      "Extracting data_compressed\\On_Time_Reporting_Carrier_On_Time_Performance_1987_present_2018_3.zip \n",
      "Extracting data_compressed\\On_Time_Reporting_Carrier_On_Time_Performance_1987_present_2018_4.zip \n",
      "Extracting data_compressed\\On_Time_Reporting_Carrier_On_Time_Performance_1987_present_2018_5.zip \n",
      "Extracting data_compressed\\On_Time_Reporting_Carrier_On_Time_Performance_1987_present_2018_6.zip \n",
      "Extracting data_compressed\\On_Time_Reporting_Carrier_On_Time_Performance_1987_present_2018_7.zip \n",
      "Extracting data_compressed\\On_Time_Reporting_Carrier_On_Time_Performance_1987_present_2018_8.zip \n",
      "Extracting data_compressed\\On_Time_Reporting_Carrier_On_Time_Performance_1987_present_2018_9.zip \n",
      "\n",
      "🎉 All ZIP files have been extracted successfully!\n"
     ]
    }
   ],
   "source": [
    "def zip2csv(zipFile_name , file_path):\n",
    "    \"\"\"\n",
    "    Extract csv from zip files\n",
    "    zipFile_name: name of the zip file\n",
    "    file_path : name of the folder to store csv\n",
    "    \"\"\"\n",
    "\n",
    "    try:\n",
    "        with ZipFile(zipFile_name, 'r') as z: \n",
    "            print(f'Extracting {zipFile_name} ') \n",
    "            z.extractall(path=file_path) \n",
    "    except:\n",
    "        print(f'zip2csv failed for {zipFile_name}')\n",
    "\n",
    "# Loop through each ZIP file and extract\n",
    "for file in zip_files:\n",
    "    zip2csv(file, csv_base_path)\n",
    "\n",
    "print(\"\\n🎉 All ZIP files have been extracted successfully!\")"
   ]
  },
  {
   "cell_type": "code",
   "execution_count": null,
   "metadata": {},
   "outputs": [],
   "source": []
  },
  {
   "cell_type": "code",
   "execution_count": null,
   "metadata": {},
   "outputs": [],
   "source": []
  },
  {
   "cell_type": "code",
   "execution_count": null,
   "metadata": {},
   "outputs": [],
   "source": []
  },
  {
   "cell_type": "code",
   "execution_count": 25,
   "metadata": {},
   "outputs": [
    {
     "name": "stdout",
     "output_type": "stream",
     "text": [
      "✅ Number of CSV files extracted to 'data_csv': 60\n",
      "\n",
      "Sample extracted CSV files:\n",
      "  1. On_Time_Reporting_Carrier_On_Time_Performance_(1987_present)_2014_1.csv\n",
      "  2. On_Time_Reporting_Carrier_On_Time_Performance_(1987_present)_2014_10.csv\n",
      "  3. On_Time_Reporting_Carrier_On_Time_Performance_(1987_present)_2014_11.csv\n",
      "  4. On_Time_Reporting_Carrier_On_Time_Performance_(1987_present)_2014_12.csv\n",
      "  5. On_Time_Reporting_Carrier_On_Time_Performance_(1987_present)_2014_2.csv\n"
     ]
    }
   ],
   "source": [
    "# How many csv files have we extracted? write a code to answer it.\n",
    "import os\n",
    "import glob\n",
    "# Find all extracted CSV files in the csv_base_path folder\n",
    "\n",
    "csv_files = glob.glob(os.path.join(csv_base_path, '*.csv'))\n",
    "\n",
    "# Count the total number of CSV files\n",
    "num_csv_files = len(csv_files)\n",
    "\n",
    "print(f\"✅ Number of CSV files extracted to '{csv_base_path}': {num_csv_files}\")\n",
    "\n",
    "# Optionally, list the first few CSV files\n",
    "if num_csv_files > 0:\n",
    "    print(\"\\nSample extracted CSV files:\")\n",
    "    for i, csv_file in enumerate(csv_files[:5], 1):\n",
    "        print(f\"  {i}. {os.path.basename(csv_file)}\")\n",
    "else:\n",
    "    print(\"⚠️ No CSV files found — please check your extraction folder.\")\n"
   ]
  },
  {
   "cell_type": "markdown",
   "metadata": {},
   "source": [
    "Before loading the CSV file, read the HTML file from the extracted folder. This HTML file includes the background and more information on the features included in the dataset."
   ]
  },
  {
   "cell_type": "code",
   "execution_count": 29,
   "metadata": {},
   "outputs": [
    {
     "data": {
      "text/html": [
       "\n",
       "        <iframe\n",
       "            width=\"1000\"\n",
       "            height=\"600\"\n",
       "            src=\"data_csv\\readme.html\"\n",
       "            frameborder=\"0\"\n",
       "            allowfullscreen\n",
       "            \n",
       "        ></iframe>\n",
       "        "
      ],
      "text/plain": [
       "<IPython.lib.display.IFrame at 0x223a9fef7d0>"
      ]
     },
     "execution_count": 29,
     "metadata": {},
     "output_type": "execute_result"
    }
   ],
   "source": [
    "from IPython.display import IFrame\n",
    "IFrame(src=str(csv_base_path / \"readme.html\"), width=1000, height=600)"
   ]
  },
  {
   "cell_type": "markdown",
   "metadata": {},
   "source": [
    "#### Load sample CSV\n",
    "\n",
    "Before combining all the CSV files, get a sense of the data from a single CSV file. Using Pandas, read the `On_Time_Reporting_Carrier_On_Time_Performance_(1987_present)_2018_9.csv` file first. You can use the Python built-in `read_csv` function ([documentation](https://pandas.pydata.org/pandas-docs/stable/reference/api/pandas.read_csv.html))."
   ]
  },
  {
   "cell_type": "code",
   "execution_count": 31,
   "metadata": {},
   "outputs": [],
   "source": [
    "import pandas as pd\n",
    "import os\n",
    "\n",
    "# Path to the sample CSV file\n",
    "sample_csv = os.path.join(csv_base_path, 'On_Time_Reporting_Carrier_On_Time_Performance_(1987_present)_2018_9.csv')\n",
    "\n",
    "# Read the CSV file into a DataFrame\n",
    "df_temp = pd.read_csv(sample_csv, low_memory=False)\n",
    "\n"
   ]
  },
  {
   "cell_type": "markdown",
   "metadata": {},
   "source": [
    "**Question**: Print the row and column length in the dataset, and print the column names."
   ]
  },
  {
   "cell_type": "code",
   "execution_count": 33,
   "metadata": {},
   "outputs": [
    {
     "name": "stdout",
     "output_type": "stream",
     "text": [
      "✅ Rows and columns in one CSV file: (585749, 110)\n",
      "📋 Column names in this dataset:\n",
      "#################################\n",
      "Year\n",
      "Quarter\n",
      "Month\n",
      "DayofMonth\n",
      "DayOfWeek\n",
      "FlightDate\n",
      "Reporting_Airline\n",
      "DOT_ID_Reporting_Airline\n",
      "IATA_CODE_Reporting_Airline\n",
      "Tail_Number\n",
      "Flight_Number_Reporting_Airline\n",
      "OriginAirportID\n",
      "OriginAirportSeqID\n",
      "OriginCityMarketID\n",
      "Origin\n",
      "OriginCityName\n",
      "OriginState\n",
      "OriginStateFips\n",
      "OriginStateName\n",
      "OriginWac\n",
      "DestAirportID\n",
      "DestAirportSeqID\n",
      "DestCityMarketID\n",
      "Dest\n",
      "DestCityName\n",
      "DestState\n",
      "DestStateFips\n",
      "DestStateName\n",
      "DestWac\n",
      "CRSDepTime\n",
      "DepTime\n",
      "DepDelay\n",
      "DepDelayMinutes\n",
      "DepDel15\n",
      "DepartureDelayGroups\n",
      "DepTimeBlk\n",
      "TaxiOut\n",
      "WheelsOff\n",
      "WheelsOn\n",
      "TaxiIn\n",
      "CRSArrTime\n",
      "ArrTime\n",
      "ArrDelay\n",
      "ArrDelayMinutes\n",
      "ArrDel15\n",
      "ArrivalDelayGroups\n",
      "ArrTimeBlk\n",
      "Cancelled\n",
      "CancellationCode\n",
      "Diverted\n",
      "CRSElapsedTime\n",
      "ActualElapsedTime\n",
      "AirTime\n",
      "Flights\n",
      "Distance\n",
      "DistanceGroup\n",
      "CarrierDelay\n",
      "WeatherDelay\n",
      "NASDelay\n",
      "SecurityDelay\n",
      "LateAircraftDelay\n",
      "FirstDepTime\n",
      "TotalAddGTime\n",
      "LongestAddGTime\n",
      "DivAirportLandings\n",
      "DivReachedDest\n",
      "DivActualElapsedTime\n",
      "DivArrDelay\n",
      "DivDistance\n",
      "Div1Airport\n",
      "Div1AirportID\n",
      "Div1AirportSeqID\n",
      "Div1WheelsOn\n",
      "Div1TotalGTime\n",
      "Div1LongestGTime\n",
      "Div1WheelsOff\n",
      "Div1TailNum\n",
      "Div2Airport\n",
      "Div2AirportID\n",
      "Div2AirportSeqID\n",
      "Div2WheelsOn\n",
      "Div2TotalGTime\n",
      "Div2LongestGTime\n",
      "Div2WheelsOff\n",
      "Div2TailNum\n",
      "Div3Airport\n",
      "Div3AirportID\n",
      "Div3AirportSeqID\n",
      "Div3WheelsOn\n",
      "Div3TotalGTime\n",
      "Div3LongestGTime\n",
      "Div3WheelsOff\n",
      "Div3TailNum\n",
      "Div4Airport\n",
      "Div4AirportID\n",
      "Div4AirportSeqID\n",
      "Div4WheelsOn\n",
      "Div4TotalGTime\n",
      "Div4LongestGTime\n",
      "Div4WheelsOff\n",
      "Div4TailNum\n",
      "Div5Airport\n",
      "Div5AirportID\n",
      "Div5AirportSeqID\n",
      "Div5WheelsOn\n",
      "Div5TotalGTime\n",
      "Div5LongestGTime\n",
      "Div5WheelsOff\n",
      "Div5TailNum\n",
      "Unnamed: 109\n"
     ]
    }
   ],
   "source": [
    "# Display the shape (rows, columns)\n",
    "print(f\"✅ Rows and columns in one CSV file: {df_temp.shape}\")\n",
    "# Print all column names\n",
    "print(\"📋 Column names in this dataset:\")\n",
    "print(\"#################################\")\n",
    "for col in df_temp.columns:\n",
    "    print(col)"
   ]
  },
  {
   "cell_type": "markdown",
   "metadata": {},
   "source": [
    "**Question**: Print the first 10 rows of the dataset.  "
   ]
  },
  {
   "cell_type": "code",
   "execution_count": 35,
   "metadata": {},
   "outputs": [
    {
     "data": {
      "text/html": [
       "<div>\n",
       "<style scoped>\n",
       "    .dataframe tbody tr th:only-of-type {\n",
       "        vertical-align: middle;\n",
       "    }\n",
       "\n",
       "    .dataframe tbody tr th {\n",
       "        vertical-align: top;\n",
       "    }\n",
       "\n",
       "    .dataframe thead th {\n",
       "        text-align: right;\n",
       "    }\n",
       "</style>\n",
       "<table border=\"1\" class=\"dataframe\">\n",
       "  <thead>\n",
       "    <tr style=\"text-align: right;\">\n",
       "      <th></th>\n",
       "      <th>Year</th>\n",
       "      <th>Quarter</th>\n",
       "      <th>Month</th>\n",
       "      <th>DayofMonth</th>\n",
       "      <th>DayOfWeek</th>\n",
       "      <th>FlightDate</th>\n",
       "      <th>Reporting_Airline</th>\n",
       "      <th>DOT_ID_Reporting_Airline</th>\n",
       "      <th>IATA_CODE_Reporting_Airline</th>\n",
       "      <th>Tail_Number</th>\n",
       "      <th>...</th>\n",
       "      <th>Div4TailNum</th>\n",
       "      <th>Div5Airport</th>\n",
       "      <th>Div5AirportID</th>\n",
       "      <th>Div5AirportSeqID</th>\n",
       "      <th>Div5WheelsOn</th>\n",
       "      <th>Div5TotalGTime</th>\n",
       "      <th>Div5LongestGTime</th>\n",
       "      <th>Div5WheelsOff</th>\n",
       "      <th>Div5TailNum</th>\n",
       "      <th>Unnamed: 109</th>\n",
       "    </tr>\n",
       "  </thead>\n",
       "  <tbody>\n",
       "    <tr>\n",
       "      <th>0</th>\n",
       "      <td>2018</td>\n",
       "      <td>3</td>\n",
       "      <td>9</td>\n",
       "      <td>3</td>\n",
       "      <td>1</td>\n",
       "      <td>2018-09-03</td>\n",
       "      <td>9E</td>\n",
       "      <td>20363</td>\n",
       "      <td>9E</td>\n",
       "      <td>N908XJ</td>\n",
       "      <td>...</td>\n",
       "      <td>NaN</td>\n",
       "      <td>NaN</td>\n",
       "      <td>NaN</td>\n",
       "      <td>NaN</td>\n",
       "      <td>NaN</td>\n",
       "      <td>NaN</td>\n",
       "      <td>NaN</td>\n",
       "      <td>NaN</td>\n",
       "      <td>NaN</td>\n",
       "      <td>NaN</td>\n",
       "    </tr>\n",
       "    <tr>\n",
       "      <th>1</th>\n",
       "      <td>2018</td>\n",
       "      <td>3</td>\n",
       "      <td>9</td>\n",
       "      <td>9</td>\n",
       "      <td>7</td>\n",
       "      <td>2018-09-09</td>\n",
       "      <td>9E</td>\n",
       "      <td>20363</td>\n",
       "      <td>9E</td>\n",
       "      <td>N315PQ</td>\n",
       "      <td>...</td>\n",
       "      <td>NaN</td>\n",
       "      <td>NaN</td>\n",
       "      <td>NaN</td>\n",
       "      <td>NaN</td>\n",
       "      <td>NaN</td>\n",
       "      <td>NaN</td>\n",
       "      <td>NaN</td>\n",
       "      <td>NaN</td>\n",
       "      <td>NaN</td>\n",
       "      <td>NaN</td>\n",
       "    </tr>\n",
       "    <tr>\n",
       "      <th>2</th>\n",
       "      <td>2018</td>\n",
       "      <td>3</td>\n",
       "      <td>9</td>\n",
       "      <td>10</td>\n",
       "      <td>1</td>\n",
       "      <td>2018-09-10</td>\n",
       "      <td>9E</td>\n",
       "      <td>20363</td>\n",
       "      <td>9E</td>\n",
       "      <td>N582CA</td>\n",
       "      <td>...</td>\n",
       "      <td>NaN</td>\n",
       "      <td>NaN</td>\n",
       "      <td>NaN</td>\n",
       "      <td>NaN</td>\n",
       "      <td>NaN</td>\n",
       "      <td>NaN</td>\n",
       "      <td>NaN</td>\n",
       "      <td>NaN</td>\n",
       "      <td>NaN</td>\n",
       "      <td>NaN</td>\n",
       "    </tr>\n",
       "    <tr>\n",
       "      <th>3</th>\n",
       "      <td>2018</td>\n",
       "      <td>3</td>\n",
       "      <td>9</td>\n",
       "      <td>13</td>\n",
       "      <td>4</td>\n",
       "      <td>2018-09-13</td>\n",
       "      <td>9E</td>\n",
       "      <td>20363</td>\n",
       "      <td>9E</td>\n",
       "      <td>N292PQ</td>\n",
       "      <td>...</td>\n",
       "      <td>NaN</td>\n",
       "      <td>NaN</td>\n",
       "      <td>NaN</td>\n",
       "      <td>NaN</td>\n",
       "      <td>NaN</td>\n",
       "      <td>NaN</td>\n",
       "      <td>NaN</td>\n",
       "      <td>NaN</td>\n",
       "      <td>NaN</td>\n",
       "      <td>NaN</td>\n",
       "    </tr>\n",
       "    <tr>\n",
       "      <th>4</th>\n",
       "      <td>2018</td>\n",
       "      <td>3</td>\n",
       "      <td>9</td>\n",
       "      <td>14</td>\n",
       "      <td>5</td>\n",
       "      <td>2018-09-14</td>\n",
       "      <td>9E</td>\n",
       "      <td>20363</td>\n",
       "      <td>9E</td>\n",
       "      <td>N600LR</td>\n",
       "      <td>...</td>\n",
       "      <td>NaN</td>\n",
       "      <td>NaN</td>\n",
       "      <td>NaN</td>\n",
       "      <td>NaN</td>\n",
       "      <td>NaN</td>\n",
       "      <td>NaN</td>\n",
       "      <td>NaN</td>\n",
       "      <td>NaN</td>\n",
       "      <td>NaN</td>\n",
       "      <td>NaN</td>\n",
       "    </tr>\n",
       "    <tr>\n",
       "      <th>5</th>\n",
       "      <td>2018</td>\n",
       "      <td>3</td>\n",
       "      <td>9</td>\n",
       "      <td>16</td>\n",
       "      <td>7</td>\n",
       "      <td>2018-09-16</td>\n",
       "      <td>9E</td>\n",
       "      <td>20363</td>\n",
       "      <td>9E</td>\n",
       "      <td>N316PQ</td>\n",
       "      <td>...</td>\n",
       "      <td>NaN</td>\n",
       "      <td>NaN</td>\n",
       "      <td>NaN</td>\n",
       "      <td>NaN</td>\n",
       "      <td>NaN</td>\n",
       "      <td>NaN</td>\n",
       "      <td>NaN</td>\n",
       "      <td>NaN</td>\n",
       "      <td>NaN</td>\n",
       "      <td>NaN</td>\n",
       "    </tr>\n",
       "    <tr>\n",
       "      <th>6</th>\n",
       "      <td>2018</td>\n",
       "      <td>3</td>\n",
       "      <td>9</td>\n",
       "      <td>17</td>\n",
       "      <td>1</td>\n",
       "      <td>2018-09-17</td>\n",
       "      <td>9E</td>\n",
       "      <td>20363</td>\n",
       "      <td>9E</td>\n",
       "      <td>N916XJ</td>\n",
       "      <td>...</td>\n",
       "      <td>NaN</td>\n",
       "      <td>NaN</td>\n",
       "      <td>NaN</td>\n",
       "      <td>NaN</td>\n",
       "      <td>NaN</td>\n",
       "      <td>NaN</td>\n",
       "      <td>NaN</td>\n",
       "      <td>NaN</td>\n",
       "      <td>NaN</td>\n",
       "      <td>NaN</td>\n",
       "    </tr>\n",
       "    <tr>\n",
       "      <th>7</th>\n",
       "      <td>2018</td>\n",
       "      <td>3</td>\n",
       "      <td>9</td>\n",
       "      <td>20</td>\n",
       "      <td>4</td>\n",
       "      <td>2018-09-20</td>\n",
       "      <td>9E</td>\n",
       "      <td>20363</td>\n",
       "      <td>9E</td>\n",
       "      <td>N371CA</td>\n",
       "      <td>...</td>\n",
       "      <td>NaN</td>\n",
       "      <td>NaN</td>\n",
       "      <td>NaN</td>\n",
       "      <td>NaN</td>\n",
       "      <td>NaN</td>\n",
       "      <td>NaN</td>\n",
       "      <td>NaN</td>\n",
       "      <td>NaN</td>\n",
       "      <td>NaN</td>\n",
       "      <td>NaN</td>\n",
       "    </tr>\n",
       "    <tr>\n",
       "      <th>8</th>\n",
       "      <td>2018</td>\n",
       "      <td>3</td>\n",
       "      <td>9</td>\n",
       "      <td>21</td>\n",
       "      <td>5</td>\n",
       "      <td>2018-09-21</td>\n",
       "      <td>9E</td>\n",
       "      <td>20363</td>\n",
       "      <td>9E</td>\n",
       "      <td>N601LR</td>\n",
       "      <td>...</td>\n",
       "      <td>NaN</td>\n",
       "      <td>NaN</td>\n",
       "      <td>NaN</td>\n",
       "      <td>NaN</td>\n",
       "      <td>NaN</td>\n",
       "      <td>NaN</td>\n",
       "      <td>NaN</td>\n",
       "      <td>NaN</td>\n",
       "      <td>NaN</td>\n",
       "      <td>NaN</td>\n",
       "    </tr>\n",
       "    <tr>\n",
       "      <th>9</th>\n",
       "      <td>2018</td>\n",
       "      <td>3</td>\n",
       "      <td>9</td>\n",
       "      <td>23</td>\n",
       "      <td>7</td>\n",
       "      <td>2018-09-23</td>\n",
       "      <td>9E</td>\n",
       "      <td>20363</td>\n",
       "      <td>9E</td>\n",
       "      <td>N906XJ</td>\n",
       "      <td>...</td>\n",
       "      <td>NaN</td>\n",
       "      <td>NaN</td>\n",
       "      <td>NaN</td>\n",
       "      <td>NaN</td>\n",
       "      <td>NaN</td>\n",
       "      <td>NaN</td>\n",
       "      <td>NaN</td>\n",
       "      <td>NaN</td>\n",
       "      <td>NaN</td>\n",
       "      <td>NaN</td>\n",
       "    </tr>\n",
       "  </tbody>\n",
       "</table>\n",
       "<p>10 rows × 110 columns</p>\n",
       "</div>"
      ],
      "text/plain": [
       "   Year  Quarter  Month  DayofMonth  DayOfWeek  FlightDate Reporting_Airline  \\\n",
       "0  2018        3      9           3          1  2018-09-03                9E   \n",
       "1  2018        3      9           9          7  2018-09-09                9E   \n",
       "2  2018        3      9          10          1  2018-09-10                9E   \n",
       "3  2018        3      9          13          4  2018-09-13                9E   \n",
       "4  2018        3      9          14          5  2018-09-14                9E   \n",
       "5  2018        3      9          16          7  2018-09-16                9E   \n",
       "6  2018        3      9          17          1  2018-09-17                9E   \n",
       "7  2018        3      9          20          4  2018-09-20                9E   \n",
       "8  2018        3      9          21          5  2018-09-21                9E   \n",
       "9  2018        3      9          23          7  2018-09-23                9E   \n",
       "\n",
       "   DOT_ID_Reporting_Airline IATA_CODE_Reporting_Airline Tail_Number  ...  \\\n",
       "0                     20363                          9E      N908XJ  ...   \n",
       "1                     20363                          9E      N315PQ  ...   \n",
       "2                     20363                          9E      N582CA  ...   \n",
       "3                     20363                          9E      N292PQ  ...   \n",
       "4                     20363                          9E      N600LR  ...   \n",
       "5                     20363                          9E      N316PQ  ...   \n",
       "6                     20363                          9E      N916XJ  ...   \n",
       "7                     20363                          9E      N371CA  ...   \n",
       "8                     20363                          9E      N601LR  ...   \n",
       "9                     20363                          9E      N906XJ  ...   \n",
       "\n",
       "   Div4TailNum  Div5Airport  Div5AirportID  Div5AirportSeqID Div5WheelsOn  \\\n",
       "0          NaN          NaN            NaN               NaN          NaN   \n",
       "1          NaN          NaN            NaN               NaN          NaN   \n",
       "2          NaN          NaN            NaN               NaN          NaN   \n",
       "3          NaN          NaN            NaN               NaN          NaN   \n",
       "4          NaN          NaN            NaN               NaN          NaN   \n",
       "5          NaN          NaN            NaN               NaN          NaN   \n",
       "6          NaN          NaN            NaN               NaN          NaN   \n",
       "7          NaN          NaN            NaN               NaN          NaN   \n",
       "8          NaN          NaN            NaN               NaN          NaN   \n",
       "9          NaN          NaN            NaN               NaN          NaN   \n",
       "\n",
       "  Div5TotalGTime Div5LongestGTime  Div5WheelsOff Div5TailNum  Unnamed: 109  \n",
       "0            NaN              NaN            NaN         NaN           NaN  \n",
       "1            NaN              NaN            NaN         NaN           NaN  \n",
       "2            NaN              NaN            NaN         NaN           NaN  \n",
       "3            NaN              NaN            NaN         NaN           NaN  \n",
       "4            NaN              NaN            NaN         NaN           NaN  \n",
       "5            NaN              NaN            NaN         NaN           NaN  \n",
       "6            NaN              NaN            NaN         NaN           NaN  \n",
       "7            NaN              NaN            NaN         NaN           NaN  \n",
       "8            NaN              NaN            NaN         NaN           NaN  \n",
       "9            NaN              NaN            NaN         NaN           NaN  \n",
       "\n",
       "[10 rows x 110 columns]"
      ]
     },
     "metadata": {},
     "output_type": "display_data"
    }
   ],
   "source": [
    "# Display the first 10 rows\n",
    "display(df_temp.head(10))"
   ]
  },
  {
   "cell_type": "markdown",
   "metadata": {},
   "source": [
    "**Question**: Print all the columns in the dataset. Use `<dataframe>.columns` to view the column names."
   ]
  },
  {
   "cell_type": "code",
   "execution_count": 37,
   "metadata": {},
   "outputs": [
    {
     "name": "stdout",
     "output_type": "stream",
     "text": [
      "The column names are :\n",
      "#########\n",
      "Year\n",
      "Quarter\n",
      "Month\n",
      "DayofMonth\n",
      "DayOfWeek\n",
      "FlightDate\n",
      "Reporting_Airline\n",
      "DOT_ID_Reporting_Airline\n",
      "IATA_CODE_Reporting_Airline\n",
      "Tail_Number\n",
      "Flight_Number_Reporting_Airline\n",
      "OriginAirportID\n",
      "OriginAirportSeqID\n",
      "OriginCityMarketID\n",
      "Origin\n",
      "OriginCityName\n",
      "OriginState\n",
      "OriginStateFips\n",
      "OriginStateName\n",
      "OriginWac\n",
      "DestAirportID\n",
      "DestAirportSeqID\n",
      "DestCityMarketID\n",
      "Dest\n",
      "DestCityName\n",
      "DestState\n",
      "DestStateFips\n",
      "DestStateName\n",
      "DestWac\n",
      "CRSDepTime\n",
      "DepTime\n",
      "DepDelay\n",
      "DepDelayMinutes\n",
      "DepDel15\n",
      "DepartureDelayGroups\n",
      "DepTimeBlk\n",
      "TaxiOut\n",
      "WheelsOff\n",
      "WheelsOn\n",
      "TaxiIn\n",
      "CRSArrTime\n",
      "ArrTime\n",
      "ArrDelay\n",
      "ArrDelayMinutes\n",
      "ArrDel15\n",
      "ArrivalDelayGroups\n",
      "ArrTimeBlk\n",
      "Cancelled\n",
      "CancellationCode\n",
      "Diverted\n",
      "CRSElapsedTime\n",
      "ActualElapsedTime\n",
      "AirTime\n",
      "Flights\n",
      "Distance\n",
      "DistanceGroup\n",
      "CarrierDelay\n",
      "WeatherDelay\n",
      "NASDelay\n",
      "SecurityDelay\n",
      "LateAircraftDelay\n",
      "FirstDepTime\n",
      "TotalAddGTime\n",
      "LongestAddGTime\n",
      "DivAirportLandings\n",
      "DivReachedDest\n",
      "DivActualElapsedTime\n",
      "DivArrDelay\n",
      "DivDistance\n",
      "Div1Airport\n",
      "Div1AirportID\n",
      "Div1AirportSeqID\n",
      "Div1WheelsOn\n",
      "Div1TotalGTime\n",
      "Div1LongestGTime\n",
      "Div1WheelsOff\n",
      "Div1TailNum\n",
      "Div2Airport\n",
      "Div2AirportID\n",
      "Div2AirportSeqID\n",
      "Div2WheelsOn\n",
      "Div2TotalGTime\n",
      "Div2LongestGTime\n",
      "Div2WheelsOff\n",
      "Div2TailNum\n",
      "Div3Airport\n",
      "Div3AirportID\n",
      "Div3AirportSeqID\n",
      "Div3WheelsOn\n",
      "Div3TotalGTime\n",
      "Div3LongestGTime\n",
      "Div3WheelsOff\n",
      "Div3TailNum\n",
      "Div4Airport\n",
      "Div4AirportID\n",
      "Div4AirportSeqID\n",
      "Div4WheelsOn\n",
      "Div4TotalGTime\n",
      "Div4LongestGTime\n",
      "Div4WheelsOff\n",
      "Div4TailNum\n",
      "Div5Airport\n",
      "Div5AirportID\n",
      "Div5AirportSeqID\n",
      "Div5WheelsOn\n",
      "Div5TotalGTime\n",
      "Div5LongestGTime\n",
      "Div5WheelsOff\n",
      "Div5TailNum\n",
      "Unnamed: 109\n"
     ]
    }
   ],
   "source": [
    "print(f'The column names are :')\n",
    "print('#########')\n",
    "for col in df_temp.columns:\n",
    "    print(col)\n"
   ]
  },
  {
   "cell_type": "markdown",
   "metadata": {},
   "source": [
    "**Question**: Print all the columns in the dataset that contain the word 'Del'. This will help you see how many columns have delay data in them.\n",
    "\n",
    "**Hint**: You can use a Python list comprehension to include values that pass certain `if` statement criteria.\n",
    "\n",
    "For example: `[x for x in [1,2,3,4,5] if x > 2]`  \n",
    "\n",
    "**Hint**: You can use the `in` keyword ([documentation](https://www.w3schools.com/python/ref_keyword_in.asp)) to check if the value is in a list or not. \n",
    "\n",
    "For example: `5 in [1,2,3,4,5]`"
   ]
  },
  {
   "cell_type": "code",
   "execution_count": 39,
   "metadata": {},
   "outputs": [
    {
     "name": "stdout",
     "output_type": "stream",
     "text": [
      "📋 Columns containing the word 'Del':\n",
      "####################################\n",
      "DepDelay\n",
      "DepDelayMinutes\n",
      "DepDel15\n",
      "DepartureDelayGroups\n",
      "ArrDelay\n",
      "ArrDelayMinutes\n",
      "ArrDel15\n",
      "ArrivalDelayGroups\n",
      "CarrierDelay\n",
      "WeatherDelay\n",
      "NASDelay\n",
      "SecurityDelay\n",
      "LateAircraftDelay\n",
      "DivArrDelay\n",
      "\n",
      "✅ Total delay-related columns found: 14\n"
     ]
    }
   ],
   "source": [
    "# Use list comprehension to find all columns that contain 'Del'\n",
    "delay_columns = [col for col in df_temp.columns if 'Del' in col]\n",
    "\n",
    "# Print the result\n",
    "print(\"📋 Columns containing the word 'Del':\")\n",
    "print(\"####################################\")\n",
    "for col in delay_columns:\n",
    "    print(col)\n",
    "\n",
    "print(f\"\\n✅ Total delay-related columns found: {len(delay_columns)}\")\n"
   ]
  },
  {
   "cell_type": "markdown",
   "metadata": {},
   "source": [
    "Here are some more questions to help you find out more about your dataset.\n",
    "\n",
    "**Questions**   \n",
    "1. How many rows and columns does the dataset have?   \n",
    "2. How many years are included in the dataset?   \n",
    "3. What is the date range for the dataset?   \n",
    "4. Which airlines are included in the dataset?   \n",
    "5. Which origin and destination airports are covered?"
   ]
  },
  {
   "cell_type": "code",
   "execution_count": 45,
   "metadata": {},
   "outputs": [
    {
     "name": "stdout",
     "output_type": "stream",
     "text": [
      "The #rows and #columns are  585749  and  110\n",
      "The years in this dataset are:  [2018]\n",
      "The months covered in this dataset are:  [9]\n",
      "The date range for data is : 2018-09-01  to  2018-09-30\n",
      "The airlines covered in this dataset are:  ['9E', 'B6', 'WN', 'YV', 'YX', 'EV', 'AA', 'AS', 'DL', 'HA', 'UA', 'F9', 'G4', 'MQ', 'NK', 'OH', 'OO']\n",
      "The Origin airports covered are:  ['DFW', 'LGA', 'MSN', 'MSP', 'ATL', 'BDL', 'VLD', 'JFK', 'RDU', 'CHS', 'DTW', 'GRB', 'PVD', 'SHV', 'FNT', 'PIT', 'RIC', 'RST', 'RSW', 'CVG', 'LIT', 'ORD', 'JAX', 'TRI', 'BOS', 'CWA', 'DCA', 'CHO', 'AVP', 'IND', 'GRR', 'BTR', 'MEM', 'TUL', 'CLE', 'STL', 'BTV', 'OMA', 'MGM', 'TVC', 'SAV', 'GSP', 'EWR', 'OAJ', 'BNA', 'MCI', 'TLH', 'ROC', 'LEX', 'PWM', 'BUF', 'AGS', 'CLT', 'GSO', 'BWI', 'SAT', 'PHL', 'TYS', 'ACK', 'DSM', 'GNV', 'AVL', 'BGR', 'MHT', 'ILM', 'MOT', 'IAH', 'SBN', 'SYR', 'ORF', 'MKE', 'XNA', 'MSY', 'PBI', 'ABE', 'HPN', 'EVV', 'ALB', 'LNK', 'AUS', 'PHF', 'CHA', 'GTR', 'BMI', 'BQK', 'CID', 'CAK', 'ATW', 'ABY', 'CAE', 'SRQ', 'MLI', 'BHM', 'IAD', 'CSG', 'CMH', 'MCO', 'MBS', 'FLL', 'SDF', 'TPA', 'MVY', 'LAS', 'LGB', 'SFO', 'SAN', 'LAX', 'RNO', 'PDX', 'ANC', 'ABQ', 'SLC', 'DEN', 'PHX', 'OAK', 'SMF', 'SJU', 'SEA', 'HOU', 'STX', 'BUR', 'SWF', 'SJC', 'DAB', 'BQN', 'PSE', 'ORH', 'HYA', 'STT', 'ONT', 'HRL', 'ICT', 'ISP', 'LBB', 'MAF', 'MDW', 'OKC', 'PNS', 'SNA', 'TUS', 'AMA', 'BOI', 'CRP', 'DAL', 'ECP', 'ELP', 'GEG', 'LFT', 'MFE', 'MDT', 'JAN', 'COS', 'MOB', 'VPS', 'MTJ', 'DRO', 'GPT', 'BFL', 'MRY', 'SBA', 'PSP', 'FSD', 'BRO', 'RAP', 'COU', 'STS', 'PIA', 'FAT', 'SBP', 'FSM', 'HSV', 'BIS', 'DAY', 'BZN', 'MIA', 'EYW', 'MYR', 'HHH', 'GJT', 'FAR', 'SGF', 'HOB', 'CLL', 'LRD', 'AEX', 'ERI', 'MLU', 'LCH', 'ROA', 'LAW', 'MHK', 'GRK', 'SAF', 'GRI', 'JLN', 'ROW', 'FWA', 'CRW', 'LAN', 'OGG', 'HNL', 'KOA', 'EGE', 'LIH', 'MLB', 'JAC', 'FAI', 'RDM', 'ADQ', 'BET', 'BRW', 'SCC', 'KTN', 'YAK', 'CDV', 'JNU', 'SIT', 'PSG', 'WRG', 'OME', 'OTZ', 'ADK', 'FCA', 'FAY', 'PSC', 'BIL', 'MSO', 'ITO', 'PPG', 'MFR', 'EUG', 'GUM', 'SPN', 'DLH', 'TTN', 'BKG', 'SFB', 'PIE', 'PGD', 'AZA', 'SMX', 'RFD', 'SCK', 'OWB', 'HTS', 'BLV', 'IAG', 'USA', 'GFK', 'BLI', 'ELM', 'PBG', 'LCK', 'GTF', 'OGD', 'IDA', 'PVU', 'TOL', 'PSM', 'CKB', 'HGR', 'SPI', 'STC', 'ACT', 'TYR', 'ABI', 'AZO', 'CMI', 'BPT', 'GCK', 'MQT', 'ALO', 'TXK', 'SPS', 'SWO', 'DBQ', 'SUX', 'SJT', 'GGG', 'LSE', 'LBE', 'ACY', 'LYH', 'PGV', 'HVN', 'EWN', 'DHN', 'PIH', 'IMT', 'WYS', 'CPR', 'SCE', 'HLN', 'SUN', 'ISN', 'CMX', 'EAU', 'LWB', 'SHD', 'LBF', 'HYS', 'SLN', 'EAR', 'VEL', 'CNY', 'GCC', 'RKS', 'PUB', 'LBL', 'MKG', 'PAH', 'CGI', 'UIN', 'BFF', 'DVL', 'JMS', 'LAR', 'SGU', 'PRC', 'ASE', 'RDD', 'ACV', 'OTH', 'COD', 'LWS', 'ABR', 'APN', 'ESC', 'PLN', 'BJI', 'BRD', 'BTM', 'CDC', 'CIU', 'EKO', 'TWF', 'HIB', 'BGM', 'RHI', 'ITH', 'INL', 'FLG', 'YUM', 'MEI', 'PIB', 'HDN']\n",
      "The Destination airports covered are:  ['CVG', 'PWM', 'RDU', 'MSP', 'MSN', 'SHV', 'CLT', 'PIT', 'RIC', 'IAH', 'ATL', 'JFK', 'DCA', 'DTW', 'LGA', 'TYS', 'PVD', 'FNT', 'LIT', 'BUF', 'ORD', 'TRI', 'IND', 'BGR', 'AVP', 'BWI', 'LEX', 'BDL', 'GRR', 'CWA', 'TUL', 'MEM', 'AGS', 'EWR', 'MGM', 'PHL', 'SYR', 'OMA', 'STL', 'TVC', 'ORF', 'CLE', 'ABY', 'BOS', 'OAJ', 'TLH', 'BTR', 'SAT', 'JAX', 'BNA', 'CHO', 'VLD', 'ROC', 'DFW', 'GNV', 'ACK', 'PBI', 'CHS', 'GRB', 'MOT', 'MKE', 'DSM', 'ILM', 'GSO', 'MCI', 'SBN', 'BTV', 'MVY', 'XNA', 'RST', 'EVV', 'HPN', 'RSW', 'MDT', 'ROA', 'GSP', 'MCO', 'CSG', 'SAV', 'PHF', 'ALB', 'CHA', 'ABE', 'BMI', 'MSY', 'IAD', 'GTR', 'CID', 'CAK', 'ATW', 'AUS', 'BQK', 'MLI', 'CAE', 'CMH', 'AVL', 'MBS', 'FLL', 'SDF', 'TPA', 'LNK', 'SRQ', 'MHT', 'BHM', 'LAS', 'SFO', 'SAN', 'RNO', 'LGB', 'ANC', 'PDX', 'SJU', 'ABQ', 'SLC', 'DEN', 'LAX', 'PHX', 'OAK', 'SMF', 'SEA', 'STX', 'BUR', 'DAB', 'SJC', 'SWF', 'HOU', 'BQN', 'PSE', 'ORH', 'HYA', 'STT', 'ONT', 'DAL', 'ECP', 'ELP', 'HRL', 'MAF', 'MDW', 'OKC', 'PNS', 'SNA', 'AMA', 'BOI', 'GEG', 'ICT', 'LBB', 'TUS', 'ISP', 'CRP', 'MFE', 'LFT', 'VPS', 'JAN', 'COS', 'MOB', 'DRO', 'GPT', 'BFL', 'COU', 'SBP', 'MTJ', 'SBA', 'PSP', 'FSD', 'FSM', 'BRO', 'PIA', 'STS', 'FAT', 'RAP', 'MRY', 'HSV', 'BIS', 'DAY', 'BZN', 'MIA', 'EYW', 'MYR', 'HHH', 'GJT', 'FAR', 'MLU', 'LRD', 'CLL', 'LCH', 'FWA', 'GRK', 'SGF', 'HOB', 'LAW', 'MHK', 'SAF', 'JLN', 'ROW', 'GRI', 'AEX', 'CRW', 'LAN', 'ERI', 'HNL', 'KOA', 'OGG', 'EGE', 'LIH', 'JAC', 'MLB', 'RDM', 'BET', 'ADQ', 'BRW', 'SCC', 'FAI', 'JNU', 'CDV', 'YAK', 'SIT', 'KTN', 'WRG', 'PSG', 'OME', 'OTZ', 'ADK', 'FCA', 'BIL', 'PSC', 'FAY', 'MSO', 'ITO', 'PPG', 'MFR', 'DLH', 'EUG', 'GUM', 'SPN', 'TTN', 'BKG', 'AZA', 'SFB', 'LCK', 'BLI', 'SCK', 'PIE', 'RFD', 'PVU', 'PBG', 'BLV', 'PGD', 'SPI', 'USA', 'TOL', 'IDA', 'ELM', 'HTS', 'HGR', 'SMX', 'OGD', 'GFK', 'STC', 'GTF', 'IAG', 'CKB', 'OWB', 'PSM', 'ABI', 'TYR', 'ALO', 'SUX', 'AZO', 'ACT', 'CMI', 'BPT', 'TXK', 'SWO', 'SPS', 'DBQ', 'SJT', 'GGG', 'LSE', 'MQT', 'GCK', 'LBE', 'ACY', 'LYH', 'PGV', 'HVN', 'EWN', 'DHN', 'PIH', 'WYS', 'SCE', 'IMT', 'HLN', 'ASE', 'SUN', 'ISN', 'EAR', 'SGU', 'VEL', 'SHD', 'LWB', 'MKG', 'SLN', 'HYS', 'BFF', 'PUB', 'LBL', 'CMX', 'EAU', 'PAH', 'UIN', 'RKS', 'CGI', 'CNY', 'JMS', 'DVL', 'LAR', 'GCC', 'LBF', 'PRC', 'RDD', 'ACV', 'OTH', 'COD', 'LWS', 'ABR', 'APN', 'PLN', 'BJI', 'CPR', 'BRD', 'BTM', 'CDC', 'CIU', 'ESC', 'EKO', 'ITH', 'HIB', 'BGM', 'TWF', 'RHI', 'INL', 'FLG', 'YUM', 'MEI', 'PIB', 'HDN']\n"
     ]
    }
   ],
   "source": [
    "print(\"The #rows and #columns are \", df_temp.shape[0], \" and \", df_temp.shape[1])\n",
    "print(\"The years in this dataset are: \", df_temp['Year'].unique())\n",
    "print(\"The months covered in this dataset are: \", df_temp['Month'].unique())\n",
    "print(\"The date range for data is :\", df_temp['FlightDate'].min(), \" to \", df_temp['FlightDate'].max())\n",
    "print(\"The airlines covered in this dataset are: \", list(df_temp['Reporting_Airline'].unique()))\n",
    "print(\"The Origin airports covered are: \", list(df_temp['Origin'].unique()))\n",
    "print(\"The Destination airports covered are: \", list(df_temp['Dest'].unique()))\n"
   ]
  },
  {
   "cell_type": "markdown",
   "metadata": {},
   "source": [
    "**Question**: What is the count of all the origin and destination airports?\n",
    "\n",
    "**Hint**: You can use the Pandas `values_count` function ([documentation](https://pandas.pydata.org/pandas-docs/stable/reference/api/pandas.Series.value_counts.html)) to find out the values for each airport using the columns `Origin` and `Dest`."
   ]
  },
  {
   "cell_type": "code",
   "execution_count": 47,
   "metadata": {},
   "outputs": [
    {
     "data": {
      "text/html": [
       "<div>\n",
       "<style scoped>\n",
       "    .dataframe tbody tr th:only-of-type {\n",
       "        vertical-align: middle;\n",
       "    }\n",
       "\n",
       "    .dataframe tbody tr th {\n",
       "        vertical-align: top;\n",
       "    }\n",
       "\n",
       "    .dataframe thead th {\n",
       "        text-align: right;\n",
       "    }\n",
       "</style>\n",
       "<table border=\"1\" class=\"dataframe\">\n",
       "  <thead>\n",
       "    <tr style=\"text-align: right;\">\n",
       "      <th></th>\n",
       "      <th>Origin</th>\n",
       "      <th>Destination</th>\n",
       "    </tr>\n",
       "  </thead>\n",
       "  <tbody>\n",
       "    <tr>\n",
       "      <th>ABE</th>\n",
       "      <td>303</td>\n",
       "      <td>303</td>\n",
       "    </tr>\n",
       "    <tr>\n",
       "      <th>ABI</th>\n",
       "      <td>169</td>\n",
       "      <td>169</td>\n",
       "    </tr>\n",
       "    <tr>\n",
       "      <th>ABQ</th>\n",
       "      <td>2077</td>\n",
       "      <td>2076</td>\n",
       "    </tr>\n",
       "    <tr>\n",
       "      <th>ABR</th>\n",
       "      <td>60</td>\n",
       "      <td>60</td>\n",
       "    </tr>\n",
       "    <tr>\n",
       "      <th>ABY</th>\n",
       "      <td>79</td>\n",
       "      <td>79</td>\n",
       "    </tr>\n",
       "    <tr>\n",
       "      <th>...</th>\n",
       "      <td>...</td>\n",
       "      <td>...</td>\n",
       "    </tr>\n",
       "    <tr>\n",
       "      <th>WRG</th>\n",
       "      <td>60</td>\n",
       "      <td>60</td>\n",
       "    </tr>\n",
       "    <tr>\n",
       "      <th>WYS</th>\n",
       "      <td>52</td>\n",
       "      <td>52</td>\n",
       "    </tr>\n",
       "    <tr>\n",
       "      <th>XNA</th>\n",
       "      <td>1004</td>\n",
       "      <td>1004</td>\n",
       "    </tr>\n",
       "    <tr>\n",
       "      <th>YAK</th>\n",
       "      <td>60</td>\n",
       "      <td>60</td>\n",
       "    </tr>\n",
       "    <tr>\n",
       "      <th>YUM</th>\n",
       "      <td>96</td>\n",
       "      <td>96</td>\n",
       "    </tr>\n",
       "  </tbody>\n",
       "</table>\n",
       "<p>346 rows × 2 columns</p>\n",
       "</div>"
      ],
      "text/plain": [
       "     Origin  Destination\n",
       "ABE     303          303\n",
       "ABI     169          169\n",
       "ABQ    2077         2076\n",
       "ABR      60           60\n",
       "ABY      79           79\n",
       "..      ...          ...\n",
       "WRG      60           60\n",
       "WYS      52           52\n",
       "XNA    1004         1004\n",
       "YAK      60           60\n",
       "YUM      96           96\n",
       "\n",
       "[346 rows x 2 columns]"
      ]
     },
     "execution_count": 47,
     "metadata": {},
     "output_type": "execute_result"
    }
   ],
   "source": [
    "counts = pd.DataFrame({'Origin': df_temp['Origin'].value_counts(), 'Destination': df_temp['Dest'].value_counts()})\n",
    "counts"
   ]
  },
  {
   "cell_type": "markdown",
   "metadata": {},
   "source": [
    "**Question**: Print the top 15 origin and destination airports based on number of flights in the dataset.\n",
    "\n",
    "**Hint**: You can use the Pandas `sort_values` function ([documentation](https://pandas.pydata.org/pandas-docs/stable/reference/api/pandas.DataFrame.sort_values.html))."
   ]
  },
  {
   "cell_type": "code",
   "execution_count": 49,
   "metadata": {},
   "outputs": [
    {
     "data": {
      "text/html": [
       "<div>\n",
       "<style scoped>\n",
       "    .dataframe tbody tr th:only-of-type {\n",
       "        vertical-align: middle;\n",
       "    }\n",
       "\n",
       "    .dataframe tbody tr th {\n",
       "        vertical-align: top;\n",
       "    }\n",
       "\n",
       "    .dataframe thead th {\n",
       "        text-align: right;\n",
       "    }\n",
       "</style>\n",
       "<table border=\"1\" class=\"dataframe\">\n",
       "  <thead>\n",
       "    <tr style=\"text-align: right;\">\n",
       "      <th></th>\n",
       "      <th>Origin</th>\n",
       "      <th>Destination</th>\n",
       "    </tr>\n",
       "  </thead>\n",
       "  <tbody>\n",
       "    <tr>\n",
       "      <th>ATL</th>\n",
       "      <td>31525</td>\n",
       "      <td>31521</td>\n",
       "    </tr>\n",
       "    <tr>\n",
       "      <th>ORD</th>\n",
       "      <td>28257</td>\n",
       "      <td>28250</td>\n",
       "    </tr>\n",
       "    <tr>\n",
       "      <th>DFW</th>\n",
       "      <td>22802</td>\n",
       "      <td>22795</td>\n",
       "    </tr>\n",
       "    <tr>\n",
       "      <th>DEN</th>\n",
       "      <td>19807</td>\n",
       "      <td>19807</td>\n",
       "    </tr>\n",
       "    <tr>\n",
       "      <th>CLT</th>\n",
       "      <td>19655</td>\n",
       "      <td>19654</td>\n",
       "    </tr>\n",
       "    <tr>\n",
       "      <th>LAX</th>\n",
       "      <td>17875</td>\n",
       "      <td>17873</td>\n",
       "    </tr>\n",
       "    <tr>\n",
       "      <th>SFO</th>\n",
       "      <td>14332</td>\n",
       "      <td>14348</td>\n",
       "    </tr>\n",
       "    <tr>\n",
       "      <th>IAH</th>\n",
       "      <td>14210</td>\n",
       "      <td>14203</td>\n",
       "    </tr>\n",
       "    <tr>\n",
       "      <th>LGA</th>\n",
       "      <td>13850</td>\n",
       "      <td>13850</td>\n",
       "    </tr>\n",
       "    <tr>\n",
       "      <th>MSP</th>\n",
       "      <td>13349</td>\n",
       "      <td>13347</td>\n",
       "    </tr>\n",
       "    <tr>\n",
       "      <th>LAS</th>\n",
       "      <td>13318</td>\n",
       "      <td>13322</td>\n",
       "    </tr>\n",
       "    <tr>\n",
       "      <th>PHX</th>\n",
       "      <td>13126</td>\n",
       "      <td>13128</td>\n",
       "    </tr>\n",
       "    <tr>\n",
       "      <th>DTW</th>\n",
       "      <td>12725</td>\n",
       "      <td>12724</td>\n",
       "    </tr>\n",
       "    <tr>\n",
       "      <th>BOS</th>\n",
       "      <td>12223</td>\n",
       "      <td>12227</td>\n",
       "    </tr>\n",
       "    <tr>\n",
       "      <th>SEA</th>\n",
       "      <td>11872</td>\n",
       "      <td>11877</td>\n",
       "    </tr>\n",
       "  </tbody>\n",
       "</table>\n",
       "</div>"
      ],
      "text/plain": [
       "     Origin  Destination\n",
       "ATL   31525        31521\n",
       "ORD   28257        28250\n",
       "DFW   22802        22795\n",
       "DEN   19807        19807\n",
       "CLT   19655        19654\n",
       "LAX   17875        17873\n",
       "SFO   14332        14348\n",
       "IAH   14210        14203\n",
       "LGA   13850        13850\n",
       "MSP   13349        13347\n",
       "LAS   13318        13322\n",
       "PHX   13126        13128\n",
       "DTW   12725        12724\n",
       "BOS   12223        12227\n",
       "SEA   11872        11877"
      ]
     },
     "execution_count": 49,
     "metadata": {},
     "output_type": "execute_result"
    }
   ],
   "source": [
    "counts.sort_values(by=['Origin', 'Destination'], ascending=False).head(15)"
   ]
  },
  {
   "cell_type": "markdown",
   "metadata": {},
   "source": [
    "**Question**: Given all the information about a flight trip, can you predict if it would be delayed?"
   ]
  },
  {
   "cell_type": "markdown",
   "metadata": {},
   "source": [
    "Yes — given all the flight-related information (such as date, carrier, origin, destination, scheduled and actual departure/arrival times, distance, and weather data), we can train a machine learning model to predict whether a flight will be delayed.\n",
    "\n",
    "The dataset contains rich temporal, spatial, and operational variables that influence flight punctuality. These factors show patterns that ML algorithms like Logistic Regression, Random Forest, or Gradient Boosting can learn to classify flights as delayed or on-time."
   ]
  },
  {
   "cell_type": "markdown",
   "metadata": {},
   "source": [
    "Now, assume you are traveling from San Francisco to Los Angeles on a work trip. You want to have an ideas if your flight will be delayed, given a set of features, so that you can manage your reservations in Los Angeles better. How many features from this dataset would you know before your flight?\n",
    "\n",
    "Columns such as `DepDelay`, `ArrDelay`, `CarrierDelay`, `WeatherDelay`, `NASDelay`, `SecurityDelay`, `LateAircraftDelay`, and `DivArrDelay` contain information about a delay. But this delay could have occured at the origin or destination. If there were a sudden weather delay 10 minutes before landing, this data would not be helpful in managing your Los Angeles reservations.\n",
    "\n",
    "So to simplify the problem statement, consider the following columns to predict an arrival delay:<br>\n",
    "\n",
    "`Year`, `Quarter`, `Month`, `DayofMonth`, `DayOfWeek`, `FlightDate`, `Reporting_Airline`, `Origin`, `OriginState`, `Dest`, `DestState`, `CRSDepTime`, `DepDelayMinutes`, `DepartureDelayGroups`, `Cancelled`, `Diverted`, `Distance`, `DistanceGroup`, `ArrDelay`, `ArrDelayMinutes`, `ArrDel15`, `AirTime`\n",
    "\n",
    "You will also filter the source and destination airports to be:\n",
    "- Top airports: ATL, ORD, DFW, DEN, CLT, LAX, IAH, PHX, SFO\n",
    "- Top 5 airlines: UA, OO, WN, AA, DL\n",
    "\n",
    "This should help in reducing the size of data across the CSV files to be combined."
   ]
  },
  {
   "cell_type": "markdown",
   "metadata": {},
   "source": [
    "If i am  preparing to travel from San Francisco (SFO) to Los Angeles (LAX), i can only rely on the information available before the flight actually departs.\n",
    "\n",
    "That means i can use all scheduled, static, or pre-flight information such as:\n",
    "\n",
    "Flight details — Year, Quarter, Month, DayofMonth, DayOfWeek, FlightDate\n",
    "\n",
    "Airline information — Reporting_Airline\n",
    "\n",
    "Route details — Origin, OriginState, Dest, DestState, Distance, DistanceGroup\n",
    "\n",
    "Planned schedule — CRSDepTime (scheduled departure time)\n",
    "\n",
    "Operational status (known before flight) — Cancelled, Diverted (if already announced before departure)\n",
    "\n",
    "However, i would not yet know any values that depend on actual flight progress, such as:\n",
    "DepDelay, ArrDelay, ArrDelayMinutes, CarrierDelay, WeatherDelay, NASDelay, SecurityDelay, LateAircraftDelay, or DivArrDelay."
   ]
  },
  {
   "cell_type": "markdown",
   "metadata": {},
   "source": [
    "#### Combine all CSV files\n",
    "\n",
    "**Hint**:  \n",
    "First, create an empy dataframe that you will use to copy your individual dataframes from each file. Then, for each file in the `csv_files` list:\n",
    "\n",
    "1. Read the CSV file into a dataframe  \n",
    "2. Filter the columns based on the `filter_cols` variable\n",
    "\n",
    "```\n",
    "        columns = ['col1', 'col2']\n",
    "        df_filter = df[columns]\n",
    "```\n",
    "\n",
    "3. Keep only the subset_vals in each of the subset_cols. Use the `isin` Pandas function ([documentation](https://pandas.pydata.org/pandas-docs/stable/reference/api/pandas.DataFrame.isin.html)) to check if the `val` is in the dataframe column and then choose the rows that include it.\n",
    "\n",
    "```\n",
    "        df_eg[df_eg['col1'].isin('5')]\n",
    "```\n",
    "\n",
    "4. Concatenate the dataframe with the empty dataframe "
   ]
  },
  {
   "cell_type": "code",
   "execution_count": null,
   "metadata": {},
   "outputs": [],
   "source": [
    "def combine_csv(csv_files, filter_cols, subset_cols, subset_vals, file_name):\n",
    "    \"\"\"\n",
    "    Combine csv files into one Data Frame\n",
    "    csv_files: list of csv file paths\n",
    "    filter_cols: list of columns to filter\n",
    "    subset_cols: list of columns to subset rows\n",
    "    subset_vals: list of list of values to subset rows\n",
    "    \"\"\"\n",
    "    # Create an empty dataframe\n",
    "    df = # Enter your code here \n",
    "    \n",
    "    #<complete the code of this function>"
   ]
  },
  {
   "cell_type": "code",
   "execution_count": 51,
   "metadata": {},
   "outputs": [],
   "source": [
    "import pandas as pd\n",
    "\n",
    "def combine_csv(csv_files, filter_cols, subset_cols, subset_vals, file_name):\n",
    "    \"\"\"\n",
    "    Combine multiple monthly CSVs into a single filtered DataFrame.\n",
    "    \n",
    "    Args:\n",
    "        csv_files   (list[str]): paths to CSV files.\n",
    "        filter_cols (list[str]): keep only these columns (if present).\n",
    "        subset_cols (list[str]): columns to subset on (same length as subset_vals).\n",
    "        subset_vals (list[list]): allowed values per subset column, in order.\n",
    "        file_name   (str): output CSV path to save combined data.\n",
    "        \n",
    "    Returns:\n",
    "        pd.DataFrame: combined (filtered + subset) DataFrame.\n",
    "    \"\"\"\n",
    "    assert len(subset_cols) == len(subset_vals), \"subset_cols and subset_vals must align\"\n",
    "\n",
    "    parts = []\n",
    "    for fp in csv_files:\n",
    "        # Read only available filter columns (some months may miss a column)\n",
    "        try:\n",
    "            df = pd.read_csv(fp, low_memory=False)\n",
    "        except Exception as e:\n",
    "            print(f\"Skipping {fp}: {e}\")\n",
    "            continue\n",
    "\n",
    "        keep = [c for c in filter_cols if c in df.columns]\n",
    "        missing = set(filter_cols) - set(keep)\n",
    "        if missing:\n",
    "            # it's OK to proceed without missing columns; we keep what's available\n",
    "            pass\n",
    "\n",
    "        df = df[keep].copy()\n",
    "\n",
    "        # Apply subsetting per column\n",
    "        for col, allowed in zip(subset_cols, subset_vals):\n",
    "            if col in df.columns:\n",
    "                df = df[df[col].isin(allowed)]\n",
    "\n",
    "        if not df.empty:\n",
    "            parts.append(df)\n",
    "\n",
    "    if parts:\n",
    "        out = pd.concat(parts, ignore_index=True)\n",
    "    else:\n",
    "        out = pd.DataFrame(columns=filter_cols)\n",
    "\n",
    "    # Save combined file\n",
    "    out.to_csv(file_name, index=False)\n",
    "    print(f\"✅ Combined shape: {out.shape} -> saved to: {file_name}\")\n",
    "    return out\n"
   ]
  },
  {
   "cell_type": "code",
   "execution_count": 53,
   "metadata": {},
   "outputs": [],
   "source": [
    "#cols is the list of columns to predict Arrival Delay \n",
    "cols = ['Year','Quarter','Month','DayofMonth','DayOfWeek','FlightDate',\n",
    "        'Reporting_Airline','Origin','OriginState','Dest','DestState',\n",
    "        'CRSDepTime','Cancelled','Diverted','Distance','DistanceGroup',\n",
    "        'ArrDelay','ArrDelayMinutes','ArrDel15','AirTime']\n",
    "\n",
    "subset_cols = ['Origin', 'Dest', 'Reporting_Airline']\n",
    "\n",
    "# subset_vals is a list collection of the top origin and destination airports and top 5 airlines\n",
    "subset_vals = [['ATL', 'ORD', 'DFW', 'DEN', 'CLT', 'LAX', 'IAH', 'PHX', 'SFO'], \n",
    "               ['ATL', 'ORD', 'DFW', 'DEN', 'CLT', 'LAX', 'IAH', 'PHX', 'SFO'], \n",
    "               ['UA', 'OO', 'WN', 'AA', 'DL']]"
   ]
  },
  {
   "cell_type": "markdown",
   "metadata": {},
   "source": [
    "Use the function above to merge all the different files into a single file that you can read easily. \n",
    "\n",
    "**Note**: This will take 5-7 minutes to complete."
   ]
  },
  {
   "cell_type": "code",
   "execution_count": 56,
   "metadata": {},
   "outputs": [
    {
     "name": "stdout",
     "output_type": "stream",
     "text": [
      "✅ Combined shape: (1658130, 20) -> saved to: .combined_files.csv\n",
      "✅ CSVs merged in 12.16 minutes\n"
     ]
    }
   ],
   "source": [
    "start = time.time\n",
    "+++++++++++++)\n",
    "\n",
    "\n",
    "# Call the combine_csv function\\\n",
    "combined_csv_filename = f\"{base_path}combined_files.csv\"\n",
    "data = combine_csv(csv_files, cols, subset_cols, subset_vals, combined_csv_filename)\n",
    "\n",
    "print(f\"✅ CSVs merged in {round((time.time() - start)/60, 2)} minutes\")"
   ]
  },
  {
   "cell_type": "markdown",
   "metadata": {},
   "source": [
    "#### Load dataset\n",
    "\n",
    "Load the combined dataset."
   ]
  },
  {
   "cell_type": "code",
   "execution_count": 58,
   "metadata": {},
   "outputs": [],
   "source": [
    "# Read the combined CSV file\n",
    "data = pd.read_csv(combined_csv_filename, low_memory=False)\n"
   ]
  },
  {
   "cell_type": "markdown",
   "metadata": {},
   "source": [
    "Print the first 5 records."
   ]
  },
  {
   "cell_type": "code",
   "execution_count": 60,
   "metadata": {},
   "outputs": [
    {
     "name": "stdout",
     "output_type": "stream",
     "text": [
      "✅ Combined dataset loaded successfully with shape: (1658130, 20)\n"
     ]
    },
    {
     "data": {
      "text/html": [
       "<div>\n",
       "<style scoped>\n",
       "    .dataframe tbody tr th:only-of-type {\n",
       "        vertical-align: middle;\n",
       "    }\n",
       "\n",
       "    .dataframe tbody tr th {\n",
       "        vertical-align: top;\n",
       "    }\n",
       "\n",
       "    .dataframe thead th {\n",
       "        text-align: right;\n",
       "    }\n",
       "</style>\n",
       "<table border=\"1\" class=\"dataframe\">\n",
       "  <thead>\n",
       "    <tr style=\"text-align: right;\">\n",
       "      <th></th>\n",
       "      <th>Year</th>\n",
       "      <th>Quarter</th>\n",
       "      <th>Month</th>\n",
       "      <th>DayofMonth</th>\n",
       "      <th>DayOfWeek</th>\n",
       "      <th>FlightDate</th>\n",
       "      <th>Reporting_Airline</th>\n",
       "      <th>Origin</th>\n",
       "      <th>OriginState</th>\n",
       "      <th>Dest</th>\n",
       "      <th>DestState</th>\n",
       "      <th>CRSDepTime</th>\n",
       "      <th>Cancelled</th>\n",
       "      <th>Diverted</th>\n",
       "      <th>Distance</th>\n",
       "      <th>DistanceGroup</th>\n",
       "      <th>ArrDelay</th>\n",
       "      <th>ArrDelayMinutes</th>\n",
       "      <th>ArrDel15</th>\n",
       "      <th>AirTime</th>\n",
       "    </tr>\n",
       "  </thead>\n",
       "  <tbody>\n",
       "    <tr>\n",
       "      <th>0</th>\n",
       "      <td>2014</td>\n",
       "      <td>1</td>\n",
       "      <td>1</td>\n",
       "      <td>26</td>\n",
       "      <td>7</td>\n",
       "      <td>2014-01-26</td>\n",
       "      <td>DL</td>\n",
       "      <td>ATL</td>\n",
       "      <td>GA</td>\n",
       "      <td>IAH</td>\n",
       "      <td>TX</td>\n",
       "      <td>2145</td>\n",
       "      <td>0.0</td>\n",
       "      <td>0.0</td>\n",
       "      <td>689.0</td>\n",
       "      <td>3</td>\n",
       "      <td>-20.0</td>\n",
       "      <td>0.0</td>\n",
       "      <td>0.0</td>\n",
       "      <td>99.0</td>\n",
       "    </tr>\n",
       "    <tr>\n",
       "      <th>1</th>\n",
       "      <td>2014</td>\n",
       "      <td>1</td>\n",
       "      <td>1</td>\n",
       "      <td>26</td>\n",
       "      <td>7</td>\n",
       "      <td>2014-01-26</td>\n",
       "      <td>DL</td>\n",
       "      <td>DFW</td>\n",
       "      <td>TX</td>\n",
       "      <td>ATL</td>\n",
       "      <td>GA</td>\n",
       "      <td>945</td>\n",
       "      <td>0.0</td>\n",
       "      <td>0.0</td>\n",
       "      <td>731.0</td>\n",
       "      <td>3</td>\n",
       "      <td>-3.0</td>\n",
       "      <td>0.0</td>\n",
       "      <td>0.0</td>\n",
       "      <td>98.0</td>\n",
       "    </tr>\n",
       "    <tr>\n",
       "      <th>2</th>\n",
       "      <td>2014</td>\n",
       "      <td>1</td>\n",
       "      <td>1</td>\n",
       "      <td>26</td>\n",
       "      <td>7</td>\n",
       "      <td>2014-01-26</td>\n",
       "      <td>DL</td>\n",
       "      <td>ATL</td>\n",
       "      <td>GA</td>\n",
       "      <td>DEN</td>\n",
       "      <td>CO</td>\n",
       "      <td>1855</td>\n",
       "      <td>0.0</td>\n",
       "      <td>0.0</td>\n",
       "      <td>1199.0</td>\n",
       "      <td>5</td>\n",
       "      <td>-7.0</td>\n",
       "      <td>0.0</td>\n",
       "      <td>0.0</td>\n",
       "      <td>174.0</td>\n",
       "    </tr>\n",
       "    <tr>\n",
       "      <th>3</th>\n",
       "      <td>2014</td>\n",
       "      <td>1</td>\n",
       "      <td>1</td>\n",
       "      <td>26</td>\n",
       "      <td>7</td>\n",
       "      <td>2014-01-26</td>\n",
       "      <td>DL</td>\n",
       "      <td>ATL</td>\n",
       "      <td>GA</td>\n",
       "      <td>PHX</td>\n",
       "      <td>AZ</td>\n",
       "      <td>1634</td>\n",
       "      <td>0.0</td>\n",
       "      <td>0.0</td>\n",
       "      <td>1587.0</td>\n",
       "      <td>7</td>\n",
       "      <td>-4.0</td>\n",
       "      <td>0.0</td>\n",
       "      <td>0.0</td>\n",
       "      <td>233.0</td>\n",
       "    </tr>\n",
       "    <tr>\n",
       "      <th>4</th>\n",
       "      <td>2014</td>\n",
       "      <td>1</td>\n",
       "      <td>1</td>\n",
       "      <td>26</td>\n",
       "      <td>7</td>\n",
       "      <td>2014-01-26</td>\n",
       "      <td>DL</td>\n",
       "      <td>PHX</td>\n",
       "      <td>AZ</td>\n",
       "      <td>ATL</td>\n",
       "      <td>GA</td>\n",
       "      <td>700</td>\n",
       "      <td>0.0</td>\n",
       "      <td>0.0</td>\n",
       "      <td>1587.0</td>\n",
       "      <td>7</td>\n",
       "      <td>-13.0</td>\n",
       "      <td>0.0</td>\n",
       "      <td>0.0</td>\n",
       "      <td>179.0</td>\n",
       "    </tr>\n",
       "  </tbody>\n",
       "</table>\n",
       "</div>"
      ],
      "text/plain": [
       "   Year  Quarter  Month  DayofMonth  DayOfWeek  FlightDate Reporting_Airline  \\\n",
       "0  2014        1      1          26          7  2014-01-26                DL   \n",
       "1  2014        1      1          26          7  2014-01-26                DL   \n",
       "2  2014        1      1          26          7  2014-01-26                DL   \n",
       "3  2014        1      1          26          7  2014-01-26                DL   \n",
       "4  2014        1      1          26          7  2014-01-26                DL   \n",
       "\n",
       "  Origin OriginState Dest DestState  CRSDepTime  Cancelled  Diverted  \\\n",
       "0    ATL          GA  IAH        TX        2145        0.0       0.0   \n",
       "1    DFW          TX  ATL        GA         945        0.0       0.0   \n",
       "2    ATL          GA  DEN        CO        1855        0.0       0.0   \n",
       "3    ATL          GA  PHX        AZ        1634        0.0       0.0   \n",
       "4    PHX          AZ  ATL        GA         700        0.0       0.0   \n",
       "\n",
       "   Distance  DistanceGroup  ArrDelay  ArrDelayMinutes  ArrDel15  AirTime  \n",
       "0     689.0              3     -20.0              0.0       0.0     99.0  \n",
       "1     731.0              3      -3.0              0.0       0.0     98.0  \n",
       "2    1199.0              5      -7.0              0.0       0.0    174.0  \n",
       "3    1587.0              7      -4.0              0.0       0.0    233.0  \n",
       "4    1587.0              7     -13.0              0.0       0.0    179.0  "
      ]
     },
     "metadata": {},
     "output_type": "display_data"
    }
   ],
   "source": [
    "# Display shape and preview\n",
    "print(f\"✅ Combined dataset loaded successfully with shape: {data.shape}\")\n",
    "display(data.head(5))"
   ]
  },
  {
   "cell_type": "markdown",
   "metadata": {},
   "source": [
    "Here are some more questions to help you find out more about your dataset.\n",
    "\n",
    "**Questions**   \n",
    "1. How many rows and columns does the dataset have?   \n",
    "2. How many years are included in the dataset?   \n",
    "3. What is the date range for the dataset?   \n",
    "4. Which airlines are included in the dataset?   \n",
    "5. Which origin and destination airports are covered?"
   ]
  },
  {
   "cell_type": "code",
   "execution_count": 62,
   "metadata": {},
   "outputs": [
    {
     "name": "stdout",
     "output_type": "stream",
     "text": [
      "The #rows and #columns are  1658130  and  20\n",
      "The years in this dataset are:  [2014, 2015, 2016, 2017, 2018]\n",
      "The months covered in this dataset are:  [1, 2, 3, 4, 5, 6, 7, 8, 9, 10, 11, 12]\n",
      "The date range for data is : 2014-01-01  to  2018-12-31\n",
      "The airlines covered in this dataset are:  ['DL', 'OO', 'WN', 'UA', 'AA']\n",
      "The Origin airports covered are:  ['ATL', 'DFW', 'PHX', 'DEN', 'IAH', 'CLT', 'SFO', 'LAX', 'ORD']\n",
      "The Destination airports covered are:  ['IAH', 'ATL', 'DEN', 'PHX', 'CLT', 'LAX', 'DFW', 'SFO', 'ORD']\n"
     ]
    }
   ],
   "source": [
    "print(\"The #rows and #columns are \", data.shape[0], \" and \", data.shape[1])\n",
    "print(\"The years in this dataset are: \", list(data['Year'].unique()))\n",
    "print(\"The months covered in this dataset are: \", sorted(list(data['Month'].unique())))\n",
    "print(\"The date range for data is :\", data['FlightDate'].min(), \" to \", data['FlightDate'].max())\n",
    "print(\"The airlines covered in this dataset are: \", list(data['Reporting_Airline'].unique()))\n",
    "print(\"The Origin airports covered are: \", list(data['Origin'].unique()))\n",
    "print(\"The Destination airports covered are: \", list(data['Dest'].unique()))\n"
   ]
  },
  {
   "cell_type": "markdown",
   "metadata": {},
   "source": [
    "Let's define our **target column : is_delay** (1 - if arrival time delayed more than 15 minutes, 0 - otherwise). Use the `rename` method to rename the column from `ArrDel15` to `is_delay`.\n",
    "\n",
    "**Hint**: You can use the Pandas `rename` function ([documentation](https://pandas.pydata.org/pandas-docs/stable/reference/api/pandas.DataFrame.rename.html)).\n",
    "\n",
    "For example:\n",
    "```\n",
    "df.rename(columns={'col1':'column1'}, inplace=True)\n",
    "```"
   ]
  },
  {
   "cell_type": "code",
   "execution_count": 64,
   "metadata": {},
   "outputs": [],
   "source": [
    "data.rename(columns={'ArrDel15': 'is_delay'}, inplace=True)"
   ]
  },
  {
   "cell_type": "markdown",
   "metadata": {},
   "source": [
    "Look for nulls across columns. You can use the `isnull()` function ([documentation](https://pandas.pydata.org/pandas-docs/version/0.17.0/generated/pandas.isnull.html)).\n",
    "\n",
    "**Hint**: `isnull()` detects whether the particular value is null or not and gives you a boolean (True or False) in its place. Use the `sum(axis=0)` function to sum up the number of columns."
   ]
  },
  {
   "cell_type": "code",
   "execution_count": 66,
   "metadata": {},
   "outputs": [
    {
     "data": {
      "text/plain": [
       "Year                     0\n",
       "Quarter                  0\n",
       "Month                    0\n",
       "DayofMonth               0\n",
       "DayOfWeek                0\n",
       "FlightDate               0\n",
       "Reporting_Airline        0\n",
       "Origin                   0\n",
       "OriginState              0\n",
       "Dest                     0\n",
       "DestState                0\n",
       "CRSDepTime               0\n",
       "Cancelled                0\n",
       "Diverted                 0\n",
       "Distance                 0\n",
       "DistanceGroup            0\n",
       "ArrDelay             22540\n",
       "ArrDelayMinutes      22540\n",
       "is_delay             22540\n",
       "AirTime              22540\n",
       "dtype: int64"
      ]
     },
     "execution_count": 66,
     "metadata": {},
     "output_type": "execute_result"
    }
   ],
   "source": [
    "data.isnull().sum(axis=0)"
   ]
  },
  {
   "cell_type": "markdown",
   "metadata": {},
   "source": [
    "The arrival delay details and airtime are missing for 22540 out of 1658130 rows, which is 1.3%. You can either remove or impute these rows. The documentation does not mention anything about missing rows.\n",
    "\n",
    "**Hint**: Use the `~` operator to choose the values that aren't null from the `isnull()` output.\n",
    "\n",
    "For example:\n",
    "```\n",
    "null_eg = df_eg[~df_eg['column_name'].isnull()]\n",
    "```"
   ]
  },
  {
   "cell_type": "code",
   "execution_count": 68,
   "metadata": {},
   "outputs": [],
   "source": [
    "data = data[~data['ArrDelay'].isnull() & ~data['AirTime'].isnull()]"
   ]
  },
  {
   "cell_type": "markdown",
   "metadata": {},
   "source": [
    "Get the hour of the day in 24-hour time format from CRSDepTime."
   ]
  },
  {
   "cell_type": "code",
   "execution_count": 70,
   "metadata": {},
   "outputs": [],
   "source": [
    "data['DepHourofDay'] = data['CRSDepTime'] // 100"
   ]
  },
  {
   "cell_type": "markdown",
   "metadata": {},
   "source": [
    "## **The ML problem statement**\n",
    "- Given a set of features, can you predict if a flight is going to be delayed more than 15 minutes?\n",
    "- Because the target variable takes only 0/1 value, you could use a classification algorithm. "
   ]
  },
  {
   "cell_type": "markdown",
   "metadata": {},
   "source": [
    "🧠 Machine Learning Problem Statement\n",
    "\n",
    "Given the available flight-related data (date, airline, route, and scheduled departure time), we aim to predict whether a flight will be delayed by more than 15 minutes upon arrival.\n",
    "\n",
    "Target variable: is_delay\n",
    "\n",
    "1 → Flight delayed ≥ 15 minutes\n",
    "\n",
    "0 → Flight arrived on time or early\n",
    "\n",
    "Because the target variable is binary (0/1), this is a supervised classification problem.\n",
    "\n",
    "✅ Suitable ML Algorithms\n",
    "\n",
    "Common classification models that can be applied include:\n",
    "\n",
    "Logistic Regression – interpretable baseline for binary classification\n",
    "\n",
    "Random Forest / Gradient Boosting – to capture nonlinear relationships\n",
    "\n",
    "Support Vector Machine (SVM) – for robust margin-based classification\n",
    "\n",
    "XGBoost / LightGBM – optimized for large datasets like flight records\n",
    "\n",
    "The trained model will output a probability that a given flight will be delayed, enabling the airline or booking system to inform passengers proactively and enhance customer experience."
   ]
  },
  {
   "cell_type": "markdown",
   "metadata": {},
   "source": [
    "### Data exploration\n",
    "\n",
    "#### Check class delay vs. no delay\n",
    "\n",
    "**Hint**: Use a `groupby` plot ([documentation](https://pandas.pydata.org/pandas-docs/stable/reference/api/pandas.DataFrame.groupby.html)) with a `bar` plot ([documentation](https://matplotlib.org/tutorials/introductory/pyplot.html)) to plot the frequency vs. distribution of the class."
   ]
  },
  {
   "cell_type": "code",
   "execution_count": 72,
   "metadata": {},
   "outputs": [
    {
     "data": {
      "image/png": "[encoded data removed]",
      "text/plain": [
       "<Figure size 640x480 with 1 Axes>"
      ]
     },
     "metadata": {},
     "output_type": "display_data"
    }
   ],
   "source": [
    "(data.groupby('is_delay').size() / len(data)).plot(kind='bar')\n",
    "plt.ylabel('Frequency')\n",
    "plt.title('Distribution of Classes (0 = On Time, 1 = Delayed)')\n",
    "plt.show()\n"
   ]
  },
  {
   "cell_type": "markdown",
   "metadata": {},
   "source": [
    "**Question**: What can you deduce from the bar plot about the ratio of delay vs. no delay?"
   ]
  },
  {
   "cell_type": "markdown",
   "metadata": {},
   "source": [
    "Interpretation of the Bar Plot\n",
    "\n",
    "From the bar chart, I can clearly see that the majority of flights (around 80%) are not delayed, while only about 20% are delayed by more than 15 minutes.\n",
    "\n",
    "This indicates a class imbalance in the dataset:\n",
    "\n",
    "Class 0 (On time) → ~0.8 (majority class)\n",
    "\n",
    "Class 1 (Delayed) → ~0.2 (minority class)\n",
    "\n",
    "Implications for Machine Learning\n",
    "\n",
    "The imbalance means the model may become biased toward predicting on-time flights, since that class dominates the data.\n",
    "\n",
    "To address this, techniques such as resampling (e.g., SMOTE or undersampling), class weights, or balanced metrics (like F1-score, ROC-AUC) should be used during model training.\n",
    "\n",
    "👉 Conclusion:\n",
    "While most flights are punctual, the delay cases are significant enough (1 in 5) to justify predictive modeling for proactive passenger notifications."
   ]
  },
  {
   "cell_type": "markdown",
   "metadata": {},
   "source": [
    "**Questions**: \n",
    "\n",
    "- Which months have the most delays?\n",
    "- What time of the day has the most delays?\n",
    "- What day of the week has the most delays?\n",
    "- Which airline has the most delays?\n",
    "- Which origin and destination airports have the most delays?\n",
    "- Is flight distance a factor in the delays?"
   ]
  },
  {
   "cell_type": "code",
   "execution_count": 75,
   "metadata": {},
   "outputs": [
    {
     "data": {
      "image/png": "[encoded data removed]",
      "text/plain": [
       "<Figure size 2000x2000 with 6 Axes>"
      ]
     },
     "metadata": {},
     "output_type": "display_data"
    }
   ],
   "source": [
    "viz_columns = ['Month', 'DepHourofDay', 'DayOfWeek', 'Reporting_Airline', 'Origin', 'Dest']\n",
    "fig, axes = plt.subplots(3, 2, figsize=(20,20), squeeze=False)\n",
    "# fig.autofmt_xdate(rotation=90)\n",
    "\n",
    "for idx, column in enumerate(viz_columns):\n",
    "    ax = axes[idx//2, idx%2]\n",
    "    temp = data.groupby(column)['is_delay'].value_counts(normalize=True).rename('percentage').\\\n",
    "    mul(100).reset_index().sort_values(column)\n",
    "    sns.barplot(x=column, y=\"percentage\", hue=\"is_delay\", data=temp, ax=ax)\n",
    "    plt.ylabel('% delay/no-delay')\n",
    "    \n",
    "\n",
    "plt.show()"
   ]
  },
  {
   "cell_type": "code",
   "execution_count": 77,
   "metadata": {},
   "outputs": [
    {
     "data": {
      "image/png": "[encoded data removed]",
      "text/plain": [
       "<Figure size 500x500 with 1 Axes>"
      ]
     },
     "metadata": {},
     "output_type": "display_data"
    }
   ],
   "source": [
    "sns.lmplot( x=\"is_delay\", y=\"Distance\", data=data, fit_reg=False, hue='is_delay', legend=False)\n",
    "plt.legend(loc='center')\n",
    "plt.xlabel('is_delay')\n",
    "plt.ylabel('Distance')\n",
    "plt.show()"
   ]
  },
  {
   "cell_type": "markdown",
   "metadata": {},
   "source": [
    "1. Which months have the most delays?\n",
    "\n",
    "Delays are relatively consistent across months, but June (6), July (7), and August (8) show slightly higher delay percentages.\n",
    "\n",
    "This aligns with summer travel peaks, where air traffic congestion and weather disruptions (storms) are more common.\n",
    "\n",
    "2. What time of the day has the most delays?\n",
    "\n",
    "Early morning flights (midnight–6 AM) have fewer delays.\n",
    "\n",
    "The percentage of delays increases throughout the day, peaking between 3 PM and 9 PM, due to accumulated operational delays and higher air traffic later in the day.\n",
    "\n",
    "3. What day of the week has the most delays?\n",
    "\n",
    "The delay pattern remains fairly stable, but thursdat (day4) , Fridays (Day 5) and Sundays (Day 7) have slightly higher delay percentages.\n",
    "\n",
    "These are peak travel days, typically associated with business and weekend travelers.\n",
    "\n",
    "4. Which airline has the most delays?\n",
    "\n",
    "From the plot, Southwest (WN) and SkyWest (OO) show slightly higher delay ratios compared to Delta (DL) or American Airlines (AA).\n",
    "\n",
    "This may be due to their operational scale and regional route structures that are more prone to cascading delays.\n",
    "\n",
    "5. Which origin and destination airports have the most delays?\n",
    "\n",
    "ORD (Chicago O’Hare) and SFO exhibit higher delay percentages,  as origins. and LAX and SFO exhibit higher delay percentages,  as destination.\n",
    "\n",
    "ATL (Atlanta) and CLT also show moderate delay frequencies — likely due to being major hubs with heavy traffic.\n",
    "\n",
    "6. Is flight distance a factor in the delays?\n",
    "\n",
    "The scatter plot shows no strong correlation between Distance and delay likelihood.\n",
    "\n",
    "Both short-haul and long-haul flights experience delays, indicating that distance is not a key factor — delays are more influenced by time, congestion, and weather conditions."
   ]
  },
  {
   "cell_type": "markdown",
   "metadata": {},
   "source": [
    "### Features\n",
    "\n",
    "Look at all the columns and what their specific types are."
   ]
  },
  {
   "cell_type": "code",
   "execution_count": 79,
   "metadata": {},
   "outputs": [
    {
     "data": {
      "text/plain": [
       "Index(['Year', 'Quarter', 'Month', 'DayofMonth', 'DayOfWeek', 'FlightDate',\n",
       "       'Reporting_Airline', 'Origin', 'OriginState', 'Dest', 'DestState',\n",
       "       'CRSDepTime', 'Cancelled', 'Diverted', 'Distance', 'DistanceGroup',\n",
       "       'ArrDelay', 'ArrDelayMinutes', 'is_delay', 'AirTime', 'DepHourofDay'],\n",
       "      dtype='object')"
      ]
     },
     "execution_count": 79,
     "metadata": {},
     "output_type": "execute_result"
    }
   ],
   "source": [
    "data.columns"
   ]
  },
  {
   "cell_type": "code",
   "execution_count": 81,
   "metadata": {},
   "outputs": [
    {
     "data": {
      "text/plain": [
       "Year                   int64\n",
       "Quarter                int64\n",
       "Month                  int64\n",
       "DayofMonth             int64\n",
       "DayOfWeek              int64\n",
       "FlightDate            object\n",
       "Reporting_Airline     object\n",
       "Origin                object\n",
       "OriginState           object\n",
       "Dest                  object\n",
       "DestState             object\n",
       "CRSDepTime             int64\n",
       "Cancelled            float64\n",
       "Diverted             float64\n",
       "Distance             float64\n",
       "DistanceGroup          int64\n",
       "ArrDelay             float64\n",
       "ArrDelayMinutes      float64\n",
       "is_delay             float64\n",
       "AirTime              float64\n",
       "DepHourofDay           int64\n",
       "dtype: object"
      ]
     },
     "execution_count": 81,
     "metadata": {},
     "output_type": "execute_result"
    }
   ],
   "source": [
    "data.dtypes"
   ]
  },
  {
   "cell_type": "markdown",
   "metadata": {},
   "source": [
    "Filtering the required columns:\n",
    "- Date is redundant, because you have Year, Quarter, Month, DayofMonth, and DayOfWeek to describe the date.\n",
    "- Use Origin and Dest codes instead of OriginState and DestState.\n",
    "- Because you are just classifying whether the flight is delayed or not, you don't need TotalDelayMinutes, DepDelayMinutes, and ArrDelayMinutes.\n",
    "\n",
    "Treat DepHourofDay as a categorical variable because it doesn't have any quantitative relation with the target.\n",
    "- If you had to do a one-hot encoding of it, it would result in 23 more columns.\n",
    "- Other alternatives to handling categorical variables include hash encoding, regularized mean encoding, and bucketizing the values, among others.\n",
    "- Just split into buckets here.\n",
    "\n",
    "**Hint**: To change a column type to category, use the `astype` function ([documentation](https://pandas.pydata.org/pandas-docs/stable/reference/api/pandas.DataFrame.astype.html))."
   ]
  },
  {
   "cell_type": "code",
   "execution_count": 83,
   "metadata": {},
   "outputs": [
    {
     "name": "stdout",
     "output_type": "stream",
     "text": [
      "✅ Filtered dataset shape: (1635590, 10)\n",
      "✅ Columns after filtering:\n",
      "is_delay              float64\n",
      "Quarter              category\n",
      "Month                category\n",
      "DayofMonth           category\n",
      "DayOfWeek            category\n",
      "Reporting_Airline    category\n",
      "Origin               category\n",
      "Dest                 category\n",
      "Distance              float64\n",
      "DepHourofDay         category\n",
      "dtype: object\n"
     ]
    }
   ],
   "source": [
    "# Keep a copy of the original dataset\n",
    "data_orig = data.copy()\n",
    "\n",
    "# Filter only the relevant columns for modeling\n",
    "data = data[['is_delay', 'Quarter', 'Month', 'DayofMonth', 'DayOfWeek', \n",
    "             'Reporting_Airline', 'Origin', 'Dest', 'Distance', 'DepHourofDay']]\n",
    "\n",
    "# Define categorical columns\n",
    "categorical_columns = ['Quarter', 'Month', 'DayofMonth', 'DayOfWeek', \n",
    "                       'Reporting_Airline', 'Origin', 'Dest', 'DepHourofDay']\n",
    "\n",
    "# Convert these columns to categorical type\n",
    "for c in categorical_columns:\n",
    "    data[c] = data[c].astype('category')\n",
    "\n",
    "# Confirm changes\n",
    "print(\"✅ Filtered dataset shape:\", data.shape)\n",
    "print(\"✅ Columns after filtering:\")\n",
    "print(data.dtypes)\n"
   ]
  },
  {
   "cell_type": "markdown",
   "metadata": {},
   "source": [
    "To use one-hot encoding, use the Pandas `get_dummies` function for the categorical columns that you selected above. Then, you can concatenate those generated features to your original dataset using the Pandas `concat` function. For encoding categorical variables, you can also use *dummy encoding* by using a keyword `drop_first=True`. For more information on dummy encoding, see https://en.wikiversity.org/wiki/Dummy_variable_(statistics).\n",
    "\n",
    "For example:\n",
    "```\n",
    "pd.get_dummies(df[['column1','columns2']], drop_first=True)\n",
    "```"
   ]
  },
  {
   "cell_type": "code",
   "execution_count": 107,
   "metadata": {},
   "outputs": [
    {
     "name": "stdout",
     "output_type": "stream",
     "text": [
      "✅ One-hot encoding complete!\n",
      "New dataset shape: (1635590, 94)\n"
     ]
    }
   ],
   "source": [
    "# One-hot encode categorical variables and drop the first dummy to avoid multicollinearity\n",
    "data_dummies = pd.get_dummies(data[categorical_columns], drop_first=True)\n",
    "\n",
    "# Concatenate the dummy variables with the main dataset\n",
    "data = pd.concat([data, data_dummies], axis=1)\n",
    "\n",
    "# Drop the original categorical columns\n",
    "data.drop(categorical_columns, axis=1, inplace=True)\n",
    "\n",
    "# Confirm the transformation\n",
    "print(\"✅ One-hot encoding complete!\")\n",
    "print(\"New dataset shape:\", data.shape)\n"
   ]
  },
  {
   "cell_type": "markdown",
   "metadata": {},
   "source": [
    "Check the length of the dataset and the new columnms."
   ]
  },
  {
   "cell_type": "code",
   "execution_count": 109,
   "metadata": {},
   "outputs": [
    {
     "data": {
      "text/html": [
       "<div>\n",
       "<style scoped>\n",
       "    .dataframe tbody tr th:only-of-type {\n",
       "        vertical-align: middle;\n",
       "    }\n",
       "\n",
       "    .dataframe tbody tr th {\n",
       "        vertical-align: top;\n",
       "    }\n",
       "\n",
       "    .dataframe thead th {\n",
       "        text-align: right;\n",
       "    }\n",
       "</style>\n",
       "<table border=\"1\" class=\"dataframe\">\n",
       "  <thead>\n",
       "    <tr style=\"text-align: right;\">\n",
       "      <th></th>\n",
       "      <th>target</th>\n",
       "      <th>Distance</th>\n",
       "      <th>Quarter_2</th>\n",
       "      <th>Quarter_3</th>\n",
       "      <th>Quarter_4</th>\n",
       "      <th>Month_2</th>\n",
       "      <th>Month_3</th>\n",
       "      <th>Month_4</th>\n",
       "      <th>Month_5</th>\n",
       "      <th>Month_6</th>\n",
       "      <th>...</th>\n",
       "      <th>DepHourofDay_14</th>\n",
       "      <th>DepHourofDay_15</th>\n",
       "      <th>DepHourofDay_16</th>\n",
       "      <th>DepHourofDay_17</th>\n",
       "      <th>DepHourofDay_18</th>\n",
       "      <th>DepHourofDay_19</th>\n",
       "      <th>DepHourofDay_20</th>\n",
       "      <th>DepHourofDay_21</th>\n",
       "      <th>DepHourofDay_22</th>\n",
       "      <th>DepHourofDay_23</th>\n",
       "    </tr>\n",
       "  </thead>\n",
       "  <tbody>\n",
       "    <tr>\n",
       "      <th>0</th>\n",
       "      <td>0.0</td>\n",
       "      <td>689.0</td>\n",
       "      <td>False</td>\n",
       "      <td>False</td>\n",
       "      <td>False</td>\n",
       "      <td>False</td>\n",
       "      <td>False</td>\n",
       "      <td>False</td>\n",
       "      <td>False</td>\n",
       "      <td>False</td>\n",
       "      <td>...</td>\n",
       "      <td>False</td>\n",
       "      <td>False</td>\n",
       "      <td>False</td>\n",
       "      <td>False</td>\n",
       "      <td>False</td>\n",
       "      <td>False</td>\n",
       "      <td>False</td>\n",
       "      <td>True</td>\n",
       "      <td>False</td>\n",
       "      <td>False</td>\n",
       "    </tr>\n",
       "    <tr>\n",
       "      <th>1</th>\n",
       "      <td>0.0</td>\n",
       "      <td>731.0</td>\n",
       "      <td>False</td>\n",
       "      <td>False</td>\n",
       "      <td>False</td>\n",
       "      <td>False</td>\n",
       "      <td>False</td>\n",
       "      <td>False</td>\n",
       "      <td>False</td>\n",
       "      <td>False</td>\n",
       "      <td>...</td>\n",
       "      <td>False</td>\n",
       "      <td>False</td>\n",
       "      <td>False</td>\n",
       "      <td>False</td>\n",
       "      <td>False</td>\n",
       "      <td>False</td>\n",
       "      <td>False</td>\n",
       "      <td>False</td>\n",
       "      <td>False</td>\n",
       "      <td>False</td>\n",
       "    </tr>\n",
       "    <tr>\n",
       "      <th>2</th>\n",
       "      <td>0.0</td>\n",
       "      <td>1199.0</td>\n",
       "      <td>False</td>\n",
       "      <td>False</td>\n",
       "      <td>False</td>\n",
       "      <td>False</td>\n",
       "      <td>False</td>\n",
       "      <td>False</td>\n",
       "      <td>False</td>\n",
       "      <td>False</td>\n",
       "      <td>...</td>\n",
       "      <td>False</td>\n",
       "      <td>False</td>\n",
       "      <td>False</td>\n",
       "      <td>False</td>\n",
       "      <td>True</td>\n",
       "      <td>False</td>\n",
       "      <td>False</td>\n",
       "      <td>False</td>\n",
       "      <td>False</td>\n",
       "      <td>False</td>\n",
       "    </tr>\n",
       "    <tr>\n",
       "      <th>3</th>\n",
       "      <td>0.0</td>\n",
       "      <td>1587.0</td>\n",
       "      <td>False</td>\n",
       "      <td>False</td>\n",
       "      <td>False</td>\n",
       "      <td>False</td>\n",
       "      <td>False</td>\n",
       "      <td>False</td>\n",
       "      <td>False</td>\n",
       "      <td>False</td>\n",
       "      <td>...</td>\n",
       "      <td>False</td>\n",
       "      <td>False</td>\n",
       "      <td>True</td>\n",
       "      <td>False</td>\n",
       "      <td>False</td>\n",
       "      <td>False</td>\n",
       "      <td>False</td>\n",
       "      <td>False</td>\n",
       "      <td>False</td>\n",
       "      <td>False</td>\n",
       "    </tr>\n",
       "    <tr>\n",
       "      <th>4</th>\n",
       "      <td>0.0</td>\n",
       "      <td>1587.0</td>\n",
       "      <td>False</td>\n",
       "      <td>False</td>\n",
       "      <td>False</td>\n",
       "      <td>False</td>\n",
       "      <td>False</td>\n",
       "      <td>False</td>\n",
       "      <td>False</td>\n",
       "      <td>False</td>\n",
       "      <td>...</td>\n",
       "      <td>False</td>\n",
       "      <td>False</td>\n",
       "      <td>False</td>\n",
       "      <td>False</td>\n",
       "      <td>False</td>\n",
       "      <td>False</td>\n",
       "      <td>False</td>\n",
       "      <td>False</td>\n",
       "      <td>False</td>\n",
       "      <td>False</td>\n",
       "    </tr>\n",
       "  </tbody>\n",
       "</table>\n",
       "<p>5 rows × 94 columns</p>\n",
       "</div>"
      ],
      "text/plain": [
       "   target  Distance  Quarter_2  Quarter_3  Quarter_4  Month_2  Month_3  \\\n",
       "0     0.0     689.0      False      False      False    False    False   \n",
       "1     0.0     731.0      False      False      False    False    False   \n",
       "2     0.0    1199.0      False      False      False    False    False   \n",
       "3     0.0    1587.0      False      False      False    False    False   \n",
       "4     0.0    1587.0      False      False      False    False    False   \n",
       "\n",
       "   Month_4  Month_5  Month_6  ...  DepHourofDay_14  DepHourofDay_15  \\\n",
       "0    False    False    False  ...            False            False   \n",
       "1    False    False    False  ...            False            False   \n",
       "2    False    False    False  ...            False            False   \n",
       "3    False    False    False  ...            False            False   \n",
       "4    False    False    False  ...            False            False   \n",
       "\n",
       "   DepHourofDay_16  DepHourofDay_17  DepHourofDay_18  DepHourofDay_19  \\\n",
       "0            False            False            False            False   \n",
       "1            False            False            False            False   \n",
       "2            False            False             True            False   \n",
       "3             True            False            False            False   \n",
       "4            False            False            False            False   \n",
       "\n",
       "   DepHourofDay_20  DepHourofDay_21  DepHourofDay_22  DepHourofDay_23  \n",
       "0            False             True            False            False  \n",
       "1            False            False            False            False  \n",
       "2            False            False            False            False  \n",
       "3            False            False            False            False  \n",
       "4            False            False            False            False  \n",
       "\n",
       "[5 rows x 94 columns]"
      ]
     },
     "execution_count": 109,
     "metadata": {},
     "output_type": "execute_result"
    }
   ],
   "source": [
    "data.head()"
   ]
  },
  {
   "cell_type": "code",
   "execution_count": 111,
   "metadata": {},
   "outputs": [
    {
     "name": "stdout",
     "output_type": "stream",
     "text": [
      "✅ Number of rows in the dataset: 1635590\n"
     ]
    }
   ],
   "source": [
    "print(\"✅ Number of rows in the dataset:\", len(data))"
   ]
  },
  {
   "cell_type": "code",
   "execution_count": 113,
   "metadata": {},
   "outputs": [
    {
     "name": "stdout",
     "output_type": "stream",
     "text": [
      "✅ Number of columns in the dataset: 94\n"
     ]
    }
   ],
   "source": [
    "print(\"✅ Number of columns in the dataset:\", data.shape[1])"
   ]
  },
  {
   "cell_type": "code",
   "execution_count": 115,
   "metadata": {},
   "outputs": [
    {
     "name": "stdout",
     "output_type": "stream",
     "text": [
      "✅ Column names preview:\n",
      "Index(['target', 'Distance', 'Quarter_2', 'Quarter_3', 'Quarter_4', 'Month_2',\n",
      "       'Month_3', 'Month_4', 'Month_5', 'Month_6', 'Month_7', 'Month_8',\n",
      "       'Month_9', 'Month_10', 'Month_11', 'Month_12', 'DayofMonth_2',\n",
      "       'DayofMonth_3', 'DayofMonth_4', 'DayofMonth_5', 'DayofMonth_6',\n",
      "       'DayofMonth_7', 'DayofMonth_8', 'DayofMonth_9', 'DayofMonth_10',\n",
      "       'DayofMonth_11', 'DayofMonth_12', 'DayofMonth_13', 'DayofMonth_14',\n",
      "       'DayofMonth_15', 'DayofMonth_16', 'DayofMonth_17', 'DayofMonth_18',\n",
      "       'DayofMonth_19', 'DayofMonth_20', 'DayofMonth_21', 'DayofMonth_22',\n",
      "       'DayofMonth_23', 'DayofMonth_24', 'DayofMonth_25', 'DayofMonth_26',\n",
      "       'DayofMonth_27', 'DayofMonth_28', 'DayofMonth_29', 'DayofMonth_30',\n",
      "       'DayofMonth_31', 'DayOfWeek_2', 'DayOfWeek_3', 'DayOfWeek_4',\n",
      "       'DayOfWeek_5', 'DayOfWeek_6', 'DayOfWeek_7', 'Reporting_Airline_DL',\n",
      "       'Reporting_Airline_OO', 'Reporting_Airline_UA', 'Reporting_Airline_WN',\n",
      "       'Origin_CLT', 'Origin_DEN', 'Origin_DFW', 'Origin_IAH', 'Origin_LAX',\n",
      "       'Origin_ORD', 'Origin_PHX', 'Origin_SFO', 'Dest_CLT', 'Dest_DEN',\n",
      "       'Dest_DFW', 'Dest_IAH', 'Dest_LAX', 'Dest_ORD', 'Dest_PHX', 'Dest_SFO',\n",
      "       'DepHourofDay_1', 'DepHourofDay_2', 'DepHourofDay_4', 'DepHourofDay_5',\n",
      "       'DepHourofDay_6', 'DepHourofDay_7', 'DepHourofDay_8', 'DepHourofDay_9',\n",
      "       'DepHourofDay_10', 'DepHourofDay_11', 'DepHourofDay_12',\n",
      "       'DepHourofDay_13', 'DepHourofDay_14', 'DepHourofDay_15',\n",
      "       'DepHourofDay_16', 'DepHourofDay_17', 'DepHourofDay_18',\n",
      "       'DepHourofDay_19', 'DepHourofDay_20', 'DepHourofDay_21',\n",
      "       'DepHourofDay_22', 'DepHourofDay_23'],\n",
      "      dtype='object')\n"
     ]
    }
   ],
   "source": [
    "print(\"✅ Column names preview:\")\n",
    "print(data.columns)"
   ]
  },
  {
   "cell_type": "markdown",
   "metadata": {},
   "source": [
    "**Sample Answer:** \n",
    "```\n",
    "Index(['Distance', 'is_delay', 'Quarter_2', 'Quarter_3', 'Quarter_4',\n",
    "       'Month_2', 'Month_3', 'Month_4', 'Month_5', 'Month_6', 'Month_7',\n",
    "       'Month_8', 'Month_9', 'Month_10', 'Month_11', 'Month_12',\n",
    "       'DayofMonth_2', 'DayofMonth_3', 'DayofMonth_4', 'DayofMonth_5',\n",
    "       'DayofMonth_6', 'DayofMonth_7', 'DayofMonth_8', 'DayofMonth_9',\n",
    "       'DayofMonth_10', 'DayofMonth_11', 'DayofMonth_12', 'DayofMonth_13',\n",
    "       'DayofMonth_14', 'DayofMonth_15', 'DayofMonth_16', 'DayofMonth_17',\n",
    "       'DayofMonth_18', 'DayofMonth_19', 'DayofMonth_20', 'DayofMonth_21',\n",
    "       'DayofMonth_22', 'DayofMonth_23', 'DayofMonth_24', 'DayofMonth_25',\n",
    "       'DayofMonth_26', 'DayofMonth_27', 'DayofMonth_28', 'DayofMonth_29',\n",
    "       'DayofMonth_30', 'DayofMonth_31', 'DayOfWeek_2', 'DayOfWeek_3',\n",
    "       'DayOfWeek_4', 'DayOfWeek_5', 'DayOfWeek_6', 'DayOfWeek_7',\n",
    "       'Reporting_Airline_DL', 'Reporting_Airline_OO', 'Reporting_Airline_UA',\n",
    "       'Reporting_Airline_WN', 'Origin_CLT', 'Origin_DEN', 'Origin_DFW',\n",
    "       'Origin_IAH', 'Origin_LAX', 'Origin_ORD', 'Origin_PHX', 'Origin_SFO',\n",
    "       'Dest_CLT', 'Dest_DEN', 'Dest_DFW', 'Dest_IAH', 'Dest_LAX', 'Dest_ORD',\n",
    "       'Dest_PHX', 'Dest_SFO'],\n",
    "      dtype='object')\n",
    "```"
   ]
  },
  {
   "cell_type": "markdown",
   "metadata": {},
   "source": [
    "Now you are ready to do model training. Before splitting the data, rename the column `is_delay` to `target`.\n",
    "\n",
    "**Hint**: You can use the Pandas `rename` function ([documentation](https://pandas.pydata.org/pandas-docs/stable/reference/api/pandas.DataFrame.rename.html))."
   ]
  },
  {
   "cell_type": "code",
   "execution_count": 117,
   "metadata": {},
   "outputs": [],
   "source": [
    "data.rename(columns={'is_delay': 'target'}, inplace=True)"
   ]
  },
  {
   "cell_type": "code",
   "execution_count": 119,
   "metadata": {},
   "outputs": [
    {
     "name": "stdout",
     "output_type": "stream",
     "text": [
      "✅ Combined dataset saved successfully as: .combined_csv_v1.csv\n"
     ]
    }
   ],
   "source": [
    "# Save the processed combined dataset locally\n",
    "output_filename = \"combined_csv_v1.csv\"\n",
    "data.to_csv(output_filename, index=False)\n",
    "\n",
    "print(f\"✅ Combined dataset saved successfully as: {output_filename}\")"
   ]
  },
  {
   "cell_type": "markdown",
   "metadata": {},
   "source": [
    "# Step 3: Model training and evaluation\n",
    "\n",
    "1. Split the data into `train_data`, and `test_data` using `sklearn.model_selection.train_test_split`.  \n",
    "2. Build a logistic regression model for the data, where training data is 80%, and test data is 20%.\n",
    "\n",
    "Use the following cells to complete these steps. Insert and delete cells where needed.\n"
   ]
  },
  {
   "cell_type": "markdown",
   "metadata": {},
   "source": [
    "### Train test split"
   ]
  },
  {
   "cell_type": "code",
   "execution_count": 123,
   "metadata": {},
   "outputs": [
    {
     "name": "stdout",
     "output_type": "stream",
     "text": [
      "✅ Data successfully split!\n",
      "Training set shape: (1308472, 93)\n",
      "Test set shape: (327118, 93)\n"
     ]
    }
   ],
   "source": [
    "from sklearn.model_selection import train_test_split\n",
    "\n",
    "# Separate features (X) and target (y)\n",
    "X = data.drop('target', axis=1)\n",
    "y = data['target']\n",
    "\n",
    "# Split into 80% train and 20% test\n",
    "X_train, X_test, y_train, y_test = train_test_split(\n",
    "    X, y, test_size=0.2, random_state=42, stratify=y\n",
    ")\n",
    "\n",
    "print(\"✅ Data successfully split!\")\n",
    "print(f\"Training set shape: {X_train.shape}\")\n",
    "print(f\"Test set shape: {X_test.shape}\")\n"
   ]
  },
  {
   "cell_type": "markdown",
   "metadata": {},
   "source": [
    "### Baseline classification model"
   ]
  },
  {
   "cell_type": "code",
   "execution_count": 125,
   "metadata": {},
   "outputs": [
    {
     "name": "stdout",
     "output_type": "stream",
     "text": [
      "✅ Baseline Logistic Regression Model Evaluation:\n",
      "------------------------------------------------\n",
      "Accuracy: 0.7902\n",
      "\n",
      "Classification Report:\n",
      "               precision    recall  f1-score   support\n",
      "\n",
      "         0.0       0.79      1.00      0.88    258452\n",
      "         1.0       0.55      0.00      0.01     68666\n",
      "\n",
      "    accuracy                           0.79    327118\n",
      "   macro avg       0.67      0.50      0.44    327118\n",
      "weighted avg       0.74      0.79      0.70    327118\n",
      "\n",
      "\n",
      "Confusion Matrix:\n",
      " [[258272    180]\n",
      " [ 68443    223]]\n"
     ]
    }
   ],
   "source": [
    "from sklearn.linear_model import LogisticRegression\n",
    "from sklearn.metrics import accuracy_score, classification_report, confusion_matrix\n",
    "\n",
    "# Initialize the Logistic Regression model\n",
    "log_model = LogisticRegression(max_iter=1000, solver='liblinear')\n",
    "\n",
    "# Train the model on the training data\n",
    "log_model.fit(X_train, y_train)\n",
    "\n",
    "# Make predictions on the test data\n",
    "y_pred = log_model.predict(X_test)\n",
    "\n",
    "# Evaluate model performance\n",
    "print(\"✅ Baseline Logistic Regression Model Evaluation:\")\n",
    "print(\"------------------------------------------------\")\n",
    "print(f\"Accuracy: {accuracy_score(y_test, y_pred):.4f}\")\n",
    "print(\"\\nClassification Report:\\n\", classification_report(y_test, y_pred))\n",
    "print(\"\\nConfusion Matrix:\\n\", confusion_matrix(y_test, y_pred))\n"
   ]
  },
  {
   "cell_type": "markdown",
   "metadata": {},
   "source": [
    "## Model evaluation\n",
    "In this section, you'll evaluate your trained model on test data and report on the following metrics:\n",
    "* Confusion Matrix plot\n",
    "* Plot the ROC\n",
    "* Report statistics such as Accuracy, Percision, Recall, Sensitivity and Specificity"
   ]
  },
  {
   "cell_type": "markdown",
   "metadata": {},
   "source": [
    "To view a plot of the confusion matrix, and various scoring metrics, create a couple of functions:"
   ]
  },
  {
   "cell_type": "code",
   "execution_count": 129,
   "metadata": {},
   "outputs": [],
   "source": [
    "import numpy as np\n",
    "import matplotlib.pyplot as plt\n",
    "import seaborn as sns\n",
    "from sklearn.metrics import (\n",
    "    confusion_matrix, accuracy_score, precision_score, recall_score,\n",
    "    roc_curve, roc_auc_score)\n",
    "\n",
    "\n"
   ]
  },
  {
   "cell_type": "code",
   "execution_count": 166,
   "metadata": {},
   "outputs": [
    {
     "data": {
      "image/png": "[encoded data removed]",
      "text/plain": [
       "<Figure size 500x400 with 2 Axes>"
      ]
     },
     "metadata": {},
     "output_type": "display_data"
    },
    {
     "name": "stdout",
     "output_type": "stream",
     "text": [
      "Accuracy:    0.7902\n",
      "Precision:   0.5533\n",
      "Recall (TPR/Sensitivity): 0.0032\n",
      "Specificity (TNR):        0.9993\n"
     ]
    },
    {
     "data": {
      "image/png": "[encoded data removed]",
      "text/plain": [
       "<Figure size 500x400 with 1 Axes>"
      ]
     },
     "metadata": {},
     "output_type": "display_data"
    }
   ],
   "source": []
  },
  {
   "cell_type": "code",
   "execution_count": 301,
   "metadata": {},
   "outputs": [],
   "source": [
    "# 1) Confusion Matrix plot + summary stats\n",
    "def plot_confusion_matrix(test_labels, target_predicted):\n",
    "    cm = confusion_matrix(test_labels, target_predicted)\n",
    "    tn, fp, fn, tp = cm.ravel()\n",
    "\n",
    "    # Metrics\n",
    "    accuracy    = accuracy_score(test_labels, target_predicted)\n",
    "    precision   = precision_score(test_labels, target_predicted, zero_division=0)\n",
    "    recall      = recall_score(test_labels, target_predicted)  # = sensitivity (TPR)\n",
    "    sensitivity = recall\n",
    "    specificity = tn / (tn + fp) if (tn + fp) > 0 else 0.0\n",
    "\n",
    "    # Plot\n",
    "    plt.figure(figsize=(5,4))\n",
    "    sns.heatmap(cm, annot=True, fmt=\"d\", cmap=\"Blues\",\n",
    "                xticklabels=[\"Pred 0\",\"Pred 1\"],\n",
    "                yticklabels=[\"True 0\",\"True 1\"])\n",
    "    plt.title(\"Confusion Matrix\")\n",
    "    plt.ylabel(\"True label\")\n",
    "    plt.xlabel(\"Predicted label\")\n",
    "    plt.tight_layout()\n",
    "    plt.show()\n",
    "\n",
    "    print(f\"Accuracy:    {accuracy:.4f}\")\n",
    "    print(f\"Precision:   {precision:.4f}\")\n",
    "    print(f\"Recall (TPR/Sensitivity): {recall:.4f}\")\n",
    "    print(f\"Specificity (TNR):        {specificity:.4f}\")"
   ]
  },
  {
   "cell_type": "code",
   "execution_count": 133,
   "metadata": {},
   "outputs": [],
   "source": [
    "# 2) ROC curve + AUC\n",
    "def plot_roc(test_labels, target_scores):\n",
    "    \"\"\"\n",
    "    target_scores: predicted probabilities for the positive class (y_proba)\n",
    "                   or decision function scores.\n",
    "    \"\"\"\n",
    "    fpr, tpr, thresh = roc_curve(test_labels, target_scores)\n",
    "    auc = roc_auc_score(test_labels, target_scores)\n",
    "\n",
    "    plt.figure(figsize=(5,4))\n",
    "    plt.plot(fpr, tpr, label=f\"AUC = {auc:.3f}\")\n",
    "    plt.plot([0,1], [0,1], linestyle=\"--\")\n",
    "    plt.xlabel(\"False Positive Rate\")\n",
    "    plt.ylabel(\"True Positive Rate (Recall)\")\n",
    "    plt.title(\"ROC Curve\")\n",
    "    plt.legend(loc=\"lower right\")\n",
    "    plt.tight_layout()\n",
    "    plt.show()\n"
   ]
  },
  {
   "cell_type": "markdown",
   "metadata": {},
   "source": [
    "To plot the confusion matrix, call the `plot_confusion_matrix` function on the `test_labels` and `target_predicted` data from your batch job:"
   ]
  },
  {
   "cell_type": "code",
   "execution_count": 135,
   "metadata": {},
   "outputs": [
    {
     "data": {
      "image/png": "[encoded data removed]",
      "text/plain": [
       "<Figure size 500x400 with 2 Axes>"
      ]
     },
     "metadata": {},
     "output_type": "display_data"
    },
    {
     "name": "stdout",
     "output_type": "stream",
     "text": [
      "Accuracy:    0.7902\n",
      "Precision:   0.5533\n",
      "Recall (TPR/Sensitivity): 0.0032\n",
      "Specificity (TNR):        0.9993\n"
     ]
    }
   ],
   "source": [
    "plot_confusion_matrix(y_test, y_pred)"
   ]
  },
  {
   "cell_type": "markdown",
   "metadata": {},
   "source": [
    "To print statistics and plot an ROC curve, call the `plot_roc` function on the `test_labels` and `target_predicted` data from your batch job:"
   ]
  },
  {
   "cell_type": "code",
   "execution_count": 137,
   "metadata": {},
   "outputs": [
    {
     "data": {
      "image/png": "[encoded data removed]",
      "text/plain": [
       "<Figure size 500x400 with 1 Axes>"
      ]
     },
     "metadata": {},
     "output_type": "display_data"
    }
   ],
   "source": [
    "plot_roc(y_test, y_pred)"
   ]
  },
  {
   "cell_type": "markdown",
   "metadata": {},
   "source": [
    "### Key questions to consider:\n",
    "1. How does your model's performance on the test set compare to the training set? What can you deduce from this comparison? \n",
    "\n",
    "2. Are there obvious differences between the outcomes of metrics like accuracy, precision, and recall? If so, why might you be seeing those differences? \n",
    "\n",
    "3. Is the outcome for the metric(s) you consider most important sufficient for what you need from a business standpoint? If not, what are some things you might change in your next iteration (in the feature engineering section, which is coming up next)? \n",
    "\n",
    "Use the cells below to answer these and other questions. Insert and delete cells where needed."
   ]
  },
  {
   "cell_type": "markdown",
   "metadata": {},
   "source": [
    "\n",
    "**Question**: What can you summarize from the confusion matrix?\n"
   ]
  },
  {
   "cell_type": "markdown",
   "metadata": {},
   "source": [
    "From the confusion matrix and metrics shown above, i can observe the following:\n",
    "\n",
    "True Negatives (TN): 258,272\n",
    "\n",
    "These represent flights correctly predicted as on time (no delay).\n",
    "\n",
    "The model is very good at recognizing non-delayed flights.\n",
    "\n",
    "False Positives (FP): 180\n",
    "\n",
    "Very few flights were incorrectly predicted as delayed when they were actually on time.\n",
    "\n",
    "False Negatives (FN): 68,443\n",
    "\n",
    "A large number of delayed flights were incorrectly predicted as on time.\n",
    "\n",
    "This indicates the model is failing to detect the majority of delays.\n",
    "\n",
    "True Positives (TP): 223\n",
    "\n",
    "Only a small number of delayed flights were correctly identified."
   ]
  },
  {
   "cell_type": "markdown",
   "metadata": {},
   "source": [
    "### 1. Comparing Performance: Training vs. Test Set\n",
    "\n",
    "If my model’s accuracy on the training set is similar to that on the test set (for example, 0.83 vs. 0.82), it indicates the model is generalizing well and is not overfitting.\n",
    "However, if training accuracy is much higher (e.g., 0.90 vs. 0.78), the model may have memorized training patterns, suggesting overfitting.\n",
    "\n",
    " In this baseline Logistic Regression model, results are typically close, meaning the model captures key patterns without excessive variance.\n",
    "\n"
   ]
  },
  {
   "cell_type": "markdown",
   "metadata": {},
   "source": [
    "### 2. Accuracy vs. Precision vs. Recall Differences\n",
    "\n",
    "The accuracy metric alone can be misleading due to class imbalance — most flights are on time.\n",
    "\n",
    "Precision (for delayed flights) measures how many predicted delays were actually delayed.\n",
    "\n",
    "Recall (Sensitivity) measures how many of all true delays were correctly identified.\n",
    "\n",
    "Often, precision > recall, because the model is conservative — it predicts fewer delays to avoid false alarms.\n",
    "\n",
    "These differences appear because the dataset is imbalanced (fewer delays), and Logistic Regression tends to favor the majority class (on-time flights).\n",
    "\n"
   ]
  },
  {
   "cell_type": "markdown",
   "metadata": {},
   "source": [
    "### 3. Business Relevance and Next Steps\n",
    "\n",
    "From a business perspective, recall (sensitivity) is the most important — the goal is to warn travelers in advance about likely delays, even if some predictions are false alarms.\n",
    "\n",
    "If recall is low, the model fails to identify many delayed flights.\n",
    "To improve business usefulness, next iterations could include:\n",
    "\n",
    "Feature engineering: Incorporate weather, seasonality, or airport congestion.\n",
    "\n",
    "Handling imbalance: Apply SMOTE, class weighting, or resampling.\n",
    "\n",
    "Model selection: Try Random Forest or Gradient Boosting for non-linear relationships."
   ]
  },
  {
   "cell_type": "markdown",
   "metadata": {},
   "source": [
    "Model Performance Insights\n",
    "\n",
    "Accuracy (79%) appears decent, but this is misleading because the dataset is highly imbalanced — most flights are on time.\n",
    "\n",
    "Precision (0.55) indicates that when the model predicts a delay, it’s right about half the time.\n",
    "\n",
    "Recall/Sensitivity (0.003) is extremely low, meaning the model is detecting only 0.3% of actual delays.\n",
    "\n",
    "Specificity (0.999) is very high, showing the model can correctly classify on-time flights.\n",
    "\n",
    "AUC (0.50) indicates the model performs no better than random guessing when distinguishing delayed from non-delayed flights.\n",
    "\n",
    "📊 Conclusion\n",
    "\n",
    "The model is biased toward predicting “on time” flights because of class imbalance.\n",
    "\n",
    "While it achieves high overall accuracy, it fails to identify delayed flights, which are the minority but most important class from a business perspective.\n",
    "\n",
    "This suggests the need for further feature engineering and balancing techniques (e.g., SMOTE oversampling, class weights, or ensemble models) to improve recall and make the model useful for real-world airline delay prediction."
   ]
  },
  {
   "cell_type": "markdown",
   "metadata": {},
   "source": [
    "# Step 4: Deployment\n",
    "\n",
    "1. In this step you are required to push your source code and requirements file to a GitHub repository without the data files. Please use the Git commands to complete this task\n",
    "2- Create a “readme.md” markdown file that describes the code of this repository and how to run it and what the user would expect if got the code running.\n",
    "\n",
    "In the cell below provide the link of the pushed repository on your GitHub account, and ensure it is public.\n"
   ]
  },
  {
   "cell_type": "markdown",
   "metadata": {},
   "source": [
    "https://github.com/MuhammadAhmad-Flutter-Developer/DataScienceTechnologyAndSystem_Assignmnet2"
   ]
  },
  {
   "cell_type": "markdown",
   "metadata": {},
   "source": [
    "# Iteration II"
   ]
  },
  {
   "cell_type": "markdown",
   "metadata": {},
   "source": [
    "# Step 5: Feature engineering\n",
    "\n",
    "You've now gone through one iteration of training and evaluating your model. Given that the outcome you reached for your model the first time probably wasn't sufficient for solving your business problem, what are some things you could change about your data to possibly improve model performance?\n",
    "\n",
    "### Key questions to consider:\n",
    "1. How might the balance of your two main classes (delay and no delay) impact model performance?\n",
    "2. Do you have any features that are correlated?\n",
    "3. Are there feature reduction techniques you could perform at this stage that might have a positive impact on model performance? \n",
    "4. Can you think of adding some more data/datasets?\n",
    "4. After performing some feature engineering, how does your model performance compare to the first iteration?\n",
    "\n",
    "Use the cells below to perform specific feature engineering techniques (per the questions above) that you think could improve your model performance. Insert and delete cells where needed.\n",
    "\n",
    "\n",
    "Before you start, think about why the precision and recall are around 80% while the accuracy is 99%."
   ]
  },
  {
   "cell_type": "markdown",
   "metadata": {},
   "source": [
    "#### Add more features\n",
    "\n",
    "1. Holidays\n",
    "2. Weather"
   ]
  },
  {
   "cell_type": "markdown",
   "metadata": {},
   "source": [
    "Because the list of holidays from 2014 to 2018 is known, you can create an indicator variable **is_holiday** to mark these.\n",
    "The hypothesis is that airplane delays could be higher during holidays compared to the rest of the days. Add a boolean variable `is_holiday` that includes the holidays for the years 2014-2018."
   ]
  },
  {
   "cell_type": "code",
   "execution_count": 150,
   "metadata": {},
   "outputs": [
    {
     "data": {
      "text/html": [
       "<div>\n",
       "<style scoped>\n",
       "    .dataframe tbody tr th:only-of-type {\n",
       "        vertical-align: middle;\n",
       "    }\n",
       "\n",
       "    .dataframe tbody tr th {\n",
       "        vertical-align: top;\n",
       "    }\n",
       "\n",
       "    .dataframe thead th {\n",
       "        text-align: right;\n",
       "    }\n",
       "</style>\n",
       "<table border=\"1\" class=\"dataframe\">\n",
       "  <thead>\n",
       "    <tr style=\"text-align: right;\">\n",
       "      <th></th>\n",
       "      <th>Year</th>\n",
       "      <th>Quarter</th>\n",
       "      <th>Month</th>\n",
       "      <th>DayofMonth</th>\n",
       "      <th>DayOfWeek</th>\n",
       "      <th>FlightDate</th>\n",
       "      <th>Reporting_Airline</th>\n",
       "      <th>Origin</th>\n",
       "      <th>OriginState</th>\n",
       "      <th>Dest</th>\n",
       "      <th>...</th>\n",
       "      <th>CRSDepTime</th>\n",
       "      <th>Cancelled</th>\n",
       "      <th>Diverted</th>\n",
       "      <th>Distance</th>\n",
       "      <th>DistanceGroup</th>\n",
       "      <th>ArrDelay</th>\n",
       "      <th>ArrDelayMinutes</th>\n",
       "      <th>is_delay</th>\n",
       "      <th>AirTime</th>\n",
       "      <th>DepHourofDay</th>\n",
       "    </tr>\n",
       "  </thead>\n",
       "  <tbody>\n",
       "    <tr>\n",
       "      <th>0</th>\n",
       "      <td>2014</td>\n",
       "      <td>1</td>\n",
       "      <td>1</td>\n",
       "      <td>26</td>\n",
       "      <td>7</td>\n",
       "      <td>2014-01-26</td>\n",
       "      <td>DL</td>\n",
       "      <td>ATL</td>\n",
       "      <td>GA</td>\n",
       "      <td>IAH</td>\n",
       "      <td>...</td>\n",
       "      <td>2145</td>\n",
       "      <td>0.0</td>\n",
       "      <td>0.0</td>\n",
       "      <td>689.0</td>\n",
       "      <td>3</td>\n",
       "      <td>-20.0</td>\n",
       "      <td>0.0</td>\n",
       "      <td>0.0</td>\n",
       "      <td>99.0</td>\n",
       "      <td>21</td>\n",
       "    </tr>\n",
       "    <tr>\n",
       "      <th>1</th>\n",
       "      <td>2014</td>\n",
       "      <td>1</td>\n",
       "      <td>1</td>\n",
       "      <td>26</td>\n",
       "      <td>7</td>\n",
       "      <td>2014-01-26</td>\n",
       "      <td>DL</td>\n",
       "      <td>DFW</td>\n",
       "      <td>TX</td>\n",
       "      <td>ATL</td>\n",
       "      <td>...</td>\n",
       "      <td>945</td>\n",
       "      <td>0.0</td>\n",
       "      <td>0.0</td>\n",
       "      <td>731.0</td>\n",
       "      <td>3</td>\n",
       "      <td>-3.0</td>\n",
       "      <td>0.0</td>\n",
       "      <td>0.0</td>\n",
       "      <td>98.0</td>\n",
       "      <td>9</td>\n",
       "    </tr>\n",
       "    <tr>\n",
       "      <th>2</th>\n",
       "      <td>2014</td>\n",
       "      <td>1</td>\n",
       "      <td>1</td>\n",
       "      <td>26</td>\n",
       "      <td>7</td>\n",
       "      <td>2014-01-26</td>\n",
       "      <td>DL</td>\n",
       "      <td>ATL</td>\n",
       "      <td>GA</td>\n",
       "      <td>DEN</td>\n",
       "      <td>...</td>\n",
       "      <td>1855</td>\n",
       "      <td>0.0</td>\n",
       "      <td>0.0</td>\n",
       "      <td>1199.0</td>\n",
       "      <td>5</td>\n",
       "      <td>-7.0</td>\n",
       "      <td>0.0</td>\n",
       "      <td>0.0</td>\n",
       "      <td>174.0</td>\n",
       "      <td>18</td>\n",
       "    </tr>\n",
       "    <tr>\n",
       "      <th>3</th>\n",
       "      <td>2014</td>\n",
       "      <td>1</td>\n",
       "      <td>1</td>\n",
       "      <td>26</td>\n",
       "      <td>7</td>\n",
       "      <td>2014-01-26</td>\n",
       "      <td>DL</td>\n",
       "      <td>ATL</td>\n",
       "      <td>GA</td>\n",
       "      <td>PHX</td>\n",
       "      <td>...</td>\n",
       "      <td>1634</td>\n",
       "      <td>0.0</td>\n",
       "      <td>0.0</td>\n",
       "      <td>1587.0</td>\n",
       "      <td>7</td>\n",
       "      <td>-4.0</td>\n",
       "      <td>0.0</td>\n",
       "      <td>0.0</td>\n",
       "      <td>233.0</td>\n",
       "      <td>16</td>\n",
       "    </tr>\n",
       "    <tr>\n",
       "      <th>4</th>\n",
       "      <td>2014</td>\n",
       "      <td>1</td>\n",
       "      <td>1</td>\n",
       "      <td>26</td>\n",
       "      <td>7</td>\n",
       "      <td>2014-01-26</td>\n",
       "      <td>DL</td>\n",
       "      <td>PHX</td>\n",
       "      <td>AZ</td>\n",
       "      <td>ATL</td>\n",
       "      <td>...</td>\n",
       "      <td>700</td>\n",
       "      <td>0.0</td>\n",
       "      <td>0.0</td>\n",
       "      <td>1587.0</td>\n",
       "      <td>7</td>\n",
       "      <td>-13.0</td>\n",
       "      <td>0.0</td>\n",
       "      <td>0.0</td>\n",
       "      <td>179.0</td>\n",
       "      <td>7</td>\n",
       "    </tr>\n",
       "    <tr>\n",
       "      <th>...</th>\n",
       "      <td>...</td>\n",
       "      <td>...</td>\n",
       "      <td>...</td>\n",
       "      <td>...</td>\n",
       "      <td>...</td>\n",
       "      <td>...</td>\n",
       "      <td>...</td>\n",
       "      <td>...</td>\n",
       "      <td>...</td>\n",
       "      <td>...</td>\n",
       "      <td>...</td>\n",
       "      <td>...</td>\n",
       "      <td>...</td>\n",
       "      <td>...</td>\n",
       "      <td>...</td>\n",
       "      <td>...</td>\n",
       "      <td>...</td>\n",
       "      <td>...</td>\n",
       "      <td>...</td>\n",
       "      <td>...</td>\n",
       "      <td>...</td>\n",
       "    </tr>\n",
       "    <tr>\n",
       "      <th>1658125</th>\n",
       "      <td>2018</td>\n",
       "      <td>3</td>\n",
       "      <td>9</td>\n",
       "      <td>11</td>\n",
       "      <td>2</td>\n",
       "      <td>2018-09-11</td>\n",
       "      <td>WN</td>\n",
       "      <td>DEN</td>\n",
       "      <td>CO</td>\n",
       "      <td>PHX</td>\n",
       "      <td>...</td>\n",
       "      <td>1105</td>\n",
       "      <td>0.0</td>\n",
       "      <td>0.0</td>\n",
       "      <td>602.0</td>\n",
       "      <td>3</td>\n",
       "      <td>-18.0</td>\n",
       "      <td>0.0</td>\n",
       "      <td>0.0</td>\n",
       "      <td>87.0</td>\n",
       "      <td>11</td>\n",
       "    </tr>\n",
       "    <tr>\n",
       "      <th>1658126</th>\n",
       "      <td>2018</td>\n",
       "      <td>3</td>\n",
       "      <td>9</td>\n",
       "      <td>11</td>\n",
       "      <td>2</td>\n",
       "      <td>2018-09-11</td>\n",
       "      <td>WN</td>\n",
       "      <td>DEN</td>\n",
       "      <td>CO</td>\n",
       "      <td>SFO</td>\n",
       "      <td>...</td>\n",
       "      <td>825</td>\n",
       "      <td>0.0</td>\n",
       "      <td>0.0</td>\n",
       "      <td>967.0</td>\n",
       "      <td>4</td>\n",
       "      <td>-8.0</td>\n",
       "      <td>0.0</td>\n",
       "      <td>0.0</td>\n",
       "      <td>133.0</td>\n",
       "      <td>8</td>\n",
       "    </tr>\n",
       "    <tr>\n",
       "      <th>1658127</th>\n",
       "      <td>2018</td>\n",
       "      <td>3</td>\n",
       "      <td>9</td>\n",
       "      <td>11</td>\n",
       "      <td>2</td>\n",
       "      <td>2018-09-11</td>\n",
       "      <td>WN</td>\n",
       "      <td>DEN</td>\n",
       "      <td>CO</td>\n",
       "      <td>SFO</td>\n",
       "      <td>...</td>\n",
       "      <td>1240</td>\n",
       "      <td>0.0</td>\n",
       "      <td>0.0</td>\n",
       "      <td>967.0</td>\n",
       "      <td>4</td>\n",
       "      <td>17.0</td>\n",
       "      <td>17.0</td>\n",
       "      <td>1.0</td>\n",
       "      <td>141.0</td>\n",
       "      <td>12</td>\n",
       "    </tr>\n",
       "    <tr>\n",
       "      <th>1658128</th>\n",
       "      <td>2018</td>\n",
       "      <td>3</td>\n",
       "      <td>9</td>\n",
       "      <td>11</td>\n",
       "      <td>2</td>\n",
       "      <td>2018-09-11</td>\n",
       "      <td>WN</td>\n",
       "      <td>DEN</td>\n",
       "      <td>CO</td>\n",
       "      <td>SFO</td>\n",
       "      <td>...</td>\n",
       "      <td>2210</td>\n",
       "      <td>0.0</td>\n",
       "      <td>0.0</td>\n",
       "      <td>967.0</td>\n",
       "      <td>4</td>\n",
       "      <td>2.0</td>\n",
       "      <td>2.0</td>\n",
       "      <td>0.0</td>\n",
       "      <td>138.0</td>\n",
       "      <td>22</td>\n",
       "    </tr>\n",
       "    <tr>\n",
       "      <th>1658129</th>\n",
       "      <td>2018</td>\n",
       "      <td>3</td>\n",
       "      <td>9</td>\n",
       "      <td>11</td>\n",
       "      <td>2</td>\n",
       "      <td>2018-09-11</td>\n",
       "      <td>WN</td>\n",
       "      <td>DEN</td>\n",
       "      <td>CO</td>\n",
       "      <td>SFO</td>\n",
       "      <td>...</td>\n",
       "      <td>1610</td>\n",
       "      <td>0.0</td>\n",
       "      <td>0.0</td>\n",
       "      <td>967.0</td>\n",
       "      <td>4</td>\n",
       "      <td>-6.0</td>\n",
       "      <td>0.0</td>\n",
       "      <td>0.0</td>\n",
       "      <td>141.0</td>\n",
       "      <td>16</td>\n",
       "    </tr>\n",
       "  </tbody>\n",
       "</table>\n",
       "<p>1635590 rows × 21 columns</p>\n",
       "</div>"
      ],
      "text/plain": [
       "         Year  Quarter  Month  DayofMonth  DayOfWeek  FlightDate  \\\n",
       "0        2014        1      1          26          7  2014-01-26   \n",
       "1        2014        1      1          26          7  2014-01-26   \n",
       "2        2014        1      1          26          7  2014-01-26   \n",
       "3        2014        1      1          26          7  2014-01-26   \n",
       "4        2014        1      1          26          7  2014-01-26   \n",
       "...       ...      ...    ...         ...        ...         ...   \n",
       "1658125  2018        3      9          11          2  2018-09-11   \n",
       "1658126  2018        3      9          11          2  2018-09-11   \n",
       "1658127  2018        3      9          11          2  2018-09-11   \n",
       "1658128  2018        3      9          11          2  2018-09-11   \n",
       "1658129  2018        3      9          11          2  2018-09-11   \n",
       "\n",
       "        Reporting_Airline Origin OriginState Dest  ... CRSDepTime  Cancelled  \\\n",
       "0                      DL    ATL          GA  IAH  ...       2145        0.0   \n",
       "1                      DL    DFW          TX  ATL  ...        945        0.0   \n",
       "2                      DL    ATL          GA  DEN  ...       1855        0.0   \n",
       "3                      DL    ATL          GA  PHX  ...       1634        0.0   \n",
       "4                      DL    PHX          AZ  ATL  ...        700        0.0   \n",
       "...                   ...    ...         ...  ...  ...        ...        ...   \n",
       "1658125                WN    DEN          CO  PHX  ...       1105        0.0   \n",
       "1658126                WN    DEN          CO  SFO  ...        825        0.0   \n",
       "1658127                WN    DEN          CO  SFO  ...       1240        0.0   \n",
       "1658128                WN    DEN          CO  SFO  ...       2210        0.0   \n",
       "1658129                WN    DEN          CO  SFO  ...       1610        0.0   \n",
       "\n",
       "         Diverted  Distance  DistanceGroup  ArrDelay  ArrDelayMinutes  \\\n",
       "0             0.0     689.0              3     -20.0              0.0   \n",
       "1             0.0     731.0              3      -3.0              0.0   \n",
       "2             0.0    1199.0              5      -7.0              0.0   \n",
       "3             0.0    1587.0              7      -4.0              0.0   \n",
       "4             0.0    1587.0              7     -13.0              0.0   \n",
       "...           ...       ...            ...       ...              ...   \n",
       "1658125       0.0     602.0              3     -18.0              0.0   \n",
       "1658126       0.0     967.0              4      -8.0              0.0   \n",
       "1658127       0.0     967.0              4      17.0             17.0   \n",
       "1658128       0.0     967.0              4       2.0              2.0   \n",
       "1658129       0.0     967.0              4      -6.0              0.0   \n",
       "\n",
       "         is_delay  AirTime  DepHourofDay  \n",
       "0             0.0     99.0            21  \n",
       "1             0.0     98.0             9  \n",
       "2             0.0    174.0            18  \n",
       "3             0.0    233.0            16  \n",
       "4             0.0    179.0             7  \n",
       "...           ...      ...           ...  \n",
       "1658125       0.0     87.0            11  \n",
       "1658126       0.0    133.0             8  \n",
       "1658127       1.0    141.0            12  \n",
       "1658128       0.0    138.0            22  \n",
       "1658129       0.0    141.0            16  \n",
       "\n",
       "[1635590 rows x 21 columns]"
      ]
     },
     "execution_count": 150,
     "metadata": {},
     "output_type": "execute_result"
    }
   ],
   "source": [
    "data_orig"
   ]
  },
  {
   "cell_type": "code",
   "execution_count": 152,
   "metadata": {},
   "outputs": [
    {
     "data": {
      "text/plain": [
       "0          2014-01-26\n",
       "1          2014-01-26\n",
       "2          2014-01-26\n",
       "3          2014-01-26\n",
       "4          2014-01-26\n",
       "              ...    \n",
       "1658125    2018-09-11\n",
       "1658126    2018-09-11\n",
       "1658127    2018-09-11\n",
       "1658128    2018-09-11\n",
       "1658129    2018-09-11\n",
       "Name: FlightDate, Length: 1635590, dtype: object"
      ]
     },
     "execution_count": 152,
     "metadata": {},
     "output_type": "execute_result"
    }
   ],
   "source": [
    "data_orig['FlightDate']"
   ]
  },
  {
   "cell_type": "code",
   "execution_count": 160,
   "metadata": {},
   "outputs": [
    {
     "name": "stdout",
     "output_type": "stream",
     "text": [
      "✅ Holiday feature added successfully!\n"
     ]
    },
    {
     "data": {
      "text/html": [
       "<div>\n",
       "<style scoped>\n",
       "    .dataframe tbody tr th:only-of-type {\n",
       "        vertical-align: middle;\n",
       "    }\n",
       "\n",
       "    .dataframe tbody tr th {\n",
       "        vertical-align: top;\n",
       "    }\n",
       "\n",
       "    .dataframe thead th {\n",
       "        text-align: right;\n",
       "    }\n",
       "</style>\n",
       "<table border=\"1\" class=\"dataframe\">\n",
       "  <thead>\n",
       "    <tr style=\"text-align: right;\">\n",
       "      <th></th>\n",
       "      <th>FlightDate</th>\n",
       "      <th>is_holiday</th>\n",
       "    </tr>\n",
       "  </thead>\n",
       "  <tbody>\n",
       "    <tr>\n",
       "      <th>0</th>\n",
       "      <td>2014-01-26</td>\n",
       "      <td>0</td>\n",
       "    </tr>\n",
       "    <tr>\n",
       "      <th>1</th>\n",
       "      <td>2014-01-26</td>\n",
       "      <td>0</td>\n",
       "    </tr>\n",
       "    <tr>\n",
       "      <th>2</th>\n",
       "      <td>2014-01-26</td>\n",
       "      <td>0</td>\n",
       "    </tr>\n",
       "    <tr>\n",
       "      <th>3</th>\n",
       "      <td>2014-01-26</td>\n",
       "      <td>0</td>\n",
       "    </tr>\n",
       "    <tr>\n",
       "      <th>4</th>\n",
       "      <td>2014-01-26</td>\n",
       "      <td>0</td>\n",
       "    </tr>\n",
       "  </tbody>\n",
       "</table>\n",
       "</div>"
      ],
      "text/plain": [
       "  FlightDate  is_holiday\n",
       "0 2014-01-26           0\n",
       "1 2014-01-26           0\n",
       "2 2014-01-26           0\n",
       "3 2014-01-26           0\n",
       "4 2014-01-26           0"
      ]
     },
     "execution_count": 160,
     "metadata": {},
     "output_type": "execute_result"
    }
   ],
   "source": [
    "# Source: http://www.calendarpedia.com/holidays/federal-holidays-2014.html\n",
    "\n",
    "holidays_14 = ['2014-01-01',  '2014-01-20', '2014-02-17', '2014-05-26', '2014-07-04', '2014-09-01', '2014-10-13', '2014-11-11', '2014-11-27', '2014-12-25' ] \n",
    "holidays_15 = ['2015-01-01',  '2015-01-19', '2015-02-16', '2015-05-25', '2015-06-03', '2015-07-04', '2015-09-07', '2015-10-12', '2015-11-11', '2015-11-26', '2015-12-25'] \n",
    "holidays_16 = ['2016-01-01',  '2016-01-18', '2016-02-15', '2016-05-30', '2016-07-04', '2016-09-05', '2016-10-10', '2016-11-11', '2016-11-24', '2016-12-25', '2016-12-26']\n",
    "holidays_17 = ['2017-01-02', '2017-01-16', '2017-02-20', '2017-05-29' , '2017-07-04', '2017-09-04' ,'2017-10-09', '2017-11-10', '2017-11-23', '2017-12-25']\n",
    "holidays_18 = ['2018-01-01', '2018-01-15', '2018-02-19', '2018-05-28' , '2018-07-04', '2018-09-03' ,'2018-10-08', '2018-11-12','2018-11-22', '2018-12-25']\n",
    "holidays = holidays_14+ holidays_15+ holidays_16 + holidays_17+ holidays_18\n",
    "\n",
    "### Add indicator variable for holidays\n",
    "# ✅ Recreate FlightDate\n",
    "data_orig['FlightDate'] = pd.to_datetime(\n",
    "    data_orig[['Year', 'Month', 'DayofMonth']].astype(str).agg('-'.join, axis=1),\n",
    "    errors='coerce'\n",
    ")\n",
    "\n",
    "# ✅ Add holiday flag\n",
    "holidays = holidays_14 + holidays_15 + holidays_16 + holidays_17 + holidays_18\n",
    "holidays = pd.to_datetime(holidays)\n",
    "\n",
    "data_orig['is_holiday'] = data_orig['FlightDate'].isin(holidays).astype(int)\n",
    "\n",
    "print(\"✅ Holiday feature added successfully!\")\n",
    "data_orig[['FlightDate','is_holiday']].head()\n",
    "\n"
   ]
  },
  {
   "cell_type": "markdown",
   "metadata": {},
   "source": [
    "Weather data was fetched from [this link](https://www.ncei.noaa.gov/access/services/data/v1?dataset=daily-summaries&stations=USW00023174,USW00012960,USW00003017,USW00094846,USW00013874,USW00023234,USW00003927,USW00023183,USW00013881&dataTypes=AWND,PRCP,SNOW,SNWD,TAVG,TMIN,TMAX&startDate=2014-01-01&endDate=2018-12-31).\n",
    "<br>\n",
    "\n",
    "This dataset has information on wind speed, precipitation, snow, and temperature for cities by their airport codes.\n",
    "\n",
    "**Question**: Could bad weather due to rains, heavy winds, or snow lead to airplane delay? Let's check!"
   ]
  },
  {
   "cell_type": "code",
   "execution_count": 15,
   "metadata": {
    "scrolled": true
   },
   "outputs": [],
   "source": [
    "# download data from the link above and place it into the data folder"
   ]
  },
  {
   "cell_type": "markdown",
   "metadata": {},
   "source": [
    "Import weather data prepared for the airport codes in our dataset. Use the stations and airports below for the analysis, and create a new column called `airport` that maps the weather station to the airport name."
   ]
  },
  {
   "cell_type": "code",
   "execution_count": 225,
   "metadata": {},
   "outputs": [],
   "source": [
    "weather = pd.read_csv('daily-summaries-2025-10-27T04-52-13.csv') # Enter your code here to read 'daily-summaries.csv' file\n",
    "station = ['USW00023174','USW00012960','USW00003017','USW00094846',\n",
    "           'USW00013874','USW00023234','USW00003927','USW00023183','USW00013881'] \n",
    "airports = ['LAX', 'IAH', 'DEN', 'ORD', 'ATL', 'SFO', 'DFW', 'PHX', 'CLT']\n",
    "\n",
    "### Map weather stations to airport code\n",
    "station_map = station_map = dict(zip(station, airports))\n",
    "# Detect the station column name (usually 'STATION')\n",
    "station_col = 'STATION' if 'STATION' in weather.columns else ('station' if 'station' in weather.columns else None)\n",
    "if station_col is None:\n",
    "    raise KeyError(\"Station column not found in weather file (expected 'STATION').\")\n",
    "weather['airport'] =weather[station_col].map(station_map)"
   ]
  },
  {
   "cell_type": "markdown",
   "metadata": {},
   "source": [
    "Create another column called `MONTH` from the `DATE` column."
   ]
  },
  {
   "cell_type": "code",
   "execution_count": 227,
   "metadata": {
    "scrolled": true
   },
   "outputs": [
    {
     "data": {
      "text/html": [
       "<div>\n",
       "<style scoped>\n",
       "    .dataframe tbody tr th:only-of-type {\n",
       "        vertical-align: middle;\n",
       "    }\n",
       "\n",
       "    .dataframe tbody tr th {\n",
       "        vertical-align: top;\n",
       "    }\n",
       "\n",
       "    .dataframe thead th {\n",
       "        text-align: right;\n",
       "    }\n",
       "</style>\n",
       "<table border=\"1\" class=\"dataframe\">\n",
       "  <thead>\n",
       "    <tr style=\"text-align: right;\">\n",
       "      <th></th>\n",
       "      <th>STATION</th>\n",
       "      <th>DATE</th>\n",
       "      <th>AWND</th>\n",
       "      <th>PRCP</th>\n",
       "      <th>SNOW</th>\n",
       "      <th>SNWD</th>\n",
       "      <th>TAVG</th>\n",
       "      <th>TMAX</th>\n",
       "      <th>TMIN</th>\n",
       "      <th>airport</th>\n",
       "      <th>MONTH</th>\n",
       "    </tr>\n",
       "  </thead>\n",
       "  <tbody>\n",
       "    <tr>\n",
       "      <th>0</th>\n",
       "      <td>USW00023174</td>\n",
       "      <td>2014-01-01</td>\n",
       "      <td>16</td>\n",
       "      <td>0</td>\n",
       "      <td>NaN</td>\n",
       "      <td>NaN</td>\n",
       "      <td>131.0</td>\n",
       "      <td>178.0</td>\n",
       "      <td>78.0</td>\n",
       "      <td>LAX</td>\n",
       "      <td>1</td>\n",
       "    </tr>\n",
       "    <tr>\n",
       "      <th>1</th>\n",
       "      <td>USW00023174</td>\n",
       "      <td>2014-01-02</td>\n",
       "      <td>22</td>\n",
       "      <td>0</td>\n",
       "      <td>NaN</td>\n",
       "      <td>NaN</td>\n",
       "      <td>159.0</td>\n",
       "      <td>256.0</td>\n",
       "      <td>100.0</td>\n",
       "      <td>LAX</td>\n",
       "      <td>1</td>\n",
       "    </tr>\n",
       "    <tr>\n",
       "      <th>2</th>\n",
       "      <td>USW00023174</td>\n",
       "      <td>2014-01-03</td>\n",
       "      <td>17</td>\n",
       "      <td>0</td>\n",
       "      <td>NaN</td>\n",
       "      <td>NaN</td>\n",
       "      <td>140.0</td>\n",
       "      <td>178.0</td>\n",
       "      <td>83.0</td>\n",
       "      <td>LAX</td>\n",
       "      <td>1</td>\n",
       "    </tr>\n",
       "    <tr>\n",
       "      <th>3</th>\n",
       "      <td>USW00023174</td>\n",
       "      <td>2014-01-04</td>\n",
       "      <td>18</td>\n",
       "      <td>0</td>\n",
       "      <td>NaN</td>\n",
       "      <td>NaN</td>\n",
       "      <td>136.0</td>\n",
       "      <td>183.0</td>\n",
       "      <td>100.0</td>\n",
       "      <td>LAX</td>\n",
       "      <td>1</td>\n",
       "    </tr>\n",
       "    <tr>\n",
       "      <th>4</th>\n",
       "      <td>USW00023174</td>\n",
       "      <td>2014-01-05</td>\n",
       "      <td>18</td>\n",
       "      <td>0</td>\n",
       "      <td>NaN</td>\n",
       "      <td>NaN</td>\n",
       "      <td>151.0</td>\n",
       "      <td>244.0</td>\n",
       "      <td>83.0</td>\n",
       "      <td>LAX</td>\n",
       "      <td>1</td>\n",
       "    </tr>\n",
       "  </tbody>\n",
       "</table>\n",
       "</div>"
      ],
      "text/plain": [
       "       STATION        DATE  AWND  PRCP  SNOW  SNWD   TAVG   TMAX   TMIN  \\\n",
       "0  USW00023174  2014-01-01    16     0   NaN   NaN  131.0  178.0   78.0   \n",
       "1  USW00023174  2014-01-02    22     0   NaN   NaN  159.0  256.0  100.0   \n",
       "2  USW00023174  2014-01-03    17     0   NaN   NaN  140.0  178.0   83.0   \n",
       "3  USW00023174  2014-01-04    18     0   NaN   NaN  136.0  183.0  100.0   \n",
       "4  USW00023174  2014-01-05    18     0   NaN   NaN  151.0  244.0   83.0   \n",
       "\n",
       "  airport  MONTH  \n",
       "0     LAX      1  \n",
       "1     LAX      1  \n",
       "2     LAX      1  \n",
       "3     LAX      1  \n",
       "4     LAX      1  "
      ]
     },
     "execution_count": 227,
     "metadata": {},
     "output_type": "execute_result"
    }
   ],
   "source": [
    "\n",
    "date_col = 'DATE' if 'DATE' in weather.columns else ('date' if 'date' in weather.columns else None)\n",
    "if date_col is None:\n",
    "    raise KeyError(\"DATE column not found in weather file (expected 'DATE').\")\n",
    "\n",
    "weather['MONTH'] = pd.to_datetime(weather[date_col], errors='coerce').dt.month.astype('Int64')\n",
    "\n",
    "# Preview\n",
    "weather.head()"
   ]
  },
  {
   "cell_type": "markdown",
   "metadata": {},
   "source": [
    "### Sample output\n",
    "```\n",
    "  STATION     DATE      AWND PRCP SNOW SNWD TAVG TMAX  TMIN airport MONTH\n",
    "0 USW00023174 2014-01-01 16   0   NaN  NaN 131.0 178.0 78.0  LAX    01\n",
    "1 USW00023174 2014-01-02 22   0   NaN  NaN 159.0 256.0 100.0 LAX    01\n",
    "2 USW00023174 2014-01-03 17   0   NaN  NaN 140.0 178.0 83.0  LAX    01\n",
    "3 USW00023174 2014-01-04 18   0   NaN  NaN 136.0 183.0 100.0 LAX    01\n",
    "4 USW00023174 2014-01-05 18   0   NaN  NaN 151.0 244.0 83.0  LAX    01\n",
    "```"
   ]
  },
  {
   "cell_type": "markdown",
   "metadata": {},
   "source": [
    "Analyze and handle the `SNOW` and `SNWD` columns for missing values using `fillna()`. Use the `isna()` function to check the missing values for all the columns."
   ]
  },
  {
   "cell_type": "code",
   "execution_count": 229,
   "metadata": {
    "scrolled": true
   },
   "outputs": [
    {
     "data": {
      "text/plain": [
       "STATION     0\n",
       "DATE        0\n",
       "AWND        0\n",
       "PRCP        0\n",
       "SNOW        0\n",
       "SNWD        0\n",
       "TAVG       62\n",
       "TMAX       20\n",
       "TMIN       20\n",
       "airport     0\n",
       "MONTH       0\n",
       "dtype: int64"
      ]
     },
     "execution_count": 229,
     "metadata": {},
     "output_type": "execute_result"
    }
   ],
   "source": [
    "weather.SNOW.fillna(0, inplace=True)# Enter your code here\n",
    "weather.SNWD.fillna(0, inplace=True)# Enter your code here\n",
    "weather.isna().sum()"
   ]
  },
  {
   "cell_type": "markdown",
   "metadata": {},
   "source": [
    "**Question**: Print the index of the rows that have missing values for TAVG, TMAX, TMIN.\n",
    "\n",
    "**Hint**: Use the `isna()` function to find the rows that are missing, and then use the list on the idx variable to get the index."
   ]
  },
  {
   "cell_type": "code",
   "execution_count": 231,
   "metadata": {},
   "outputs": [
    {
     "data": {
      "text/plain": [
       "array([ 3956,  3957,  3958,  3959,  3960,  3961,  3962,  3963,  3964,\n",
       "        3965,  3966,  3967,  3968,  3969,  3970,  3971,  3972,  3973,\n",
       "        3974,  3975,  3976,  3977,  3978,  3979,  3980,  3981,  3982,\n",
       "        3983,  3984,  3985,  4017,  4018,  4019,  4020,  4021,  4022,\n",
       "        4023,  4024,  4025,  4026,  4027,  4028,  4029,  4030,  4031,\n",
       "        4032,  4033,  4034,  4035,  4036,  4037,  4038,  4039,  4040,\n",
       "        4041,  4042,  4043,  4044,  4045,  4046,  4047, 13420])"
      ]
     },
     "execution_count": 231,
     "metadata": {},
     "output_type": "execute_result"
    }
   ],
   "source": [
    "idx = np.array([i for i in range(len(weather))])\n",
    "TAVG_idx = idx[weather['TAVG'].isna().values]\n",
    "TMAX_idx = idx[weather['TAVG'].isna().values]\n",
    "TMIN_idx = idx[weather['TAVG'].isna().values]\n",
    "TAVG_idx"
   ]
  },
  {
   "cell_type": "markdown",
   "metadata": {},
   "source": [
    "### Sample output\n",
    "\n",
    "```\n",
    "array([ 3956,  3957,  3958,  3959,  3960,  3961,  3962,  3963,  3964,\n",
    "        3965,  3966,  3967,  3968,  3969,  3970,  3971,  3972,  3973,\n",
    "        3974,  3975,  3976,  3977,  3978,  3979,  3980,  3981,  3982,\n",
    "        3983,  3984,  3985,  4017,  4018,  4019,  4020,  4021,  4022,\n",
    "        4023,  4024,  4025,  4026,  4027,  4028,  4029,  4030,  4031,\n",
    "        4032,  4033,  4034,  4035,  4036,  4037,  4038,  4039,  4040,\n",
    "        4041,  4042,  4043,  4044,  4045,  4046,  4047, 13420])\n",
    "```"
   ]
  },
  {
   "cell_type": "markdown",
   "metadata": {},
   "source": [
    "You can replace the missing TAVG, TMAX, and TMIN with the average value for a particular station/airport. Because the consecutive rows of TAVG_idx are missing, replacing with a previous value would not be possible. Instead, replace it with the mean. Use the `groupby` function to aggregate the variables with a mean value."
   ]
  },
  {
   "cell_type": "code",
   "execution_count": 233,
   "metadata": {},
   "outputs": [
    {
     "data": {
      "text/html": [
       "<div>\n",
       "<style scoped>\n",
       "    .dataframe tbody tr th:only-of-type {\n",
       "        vertical-align: middle;\n",
       "    }\n",
       "\n",
       "    .dataframe tbody tr th {\n",
       "        vertical-align: top;\n",
       "    }\n",
       "\n",
       "    .dataframe thead th {\n",
       "        text-align: right;\n",
       "    }\n",
       "</style>\n",
       "<table border=\"1\" class=\"dataframe\">\n",
       "  <thead>\n",
       "    <tr style=\"text-align: right;\">\n",
       "      <th></th>\n",
       "      <th>airport</th>\n",
       "      <th>TAVG</th>\n",
       "      <th>TMAX</th>\n",
       "      <th>TMIN</th>\n",
       "    </tr>\n",
       "  </thead>\n",
       "  <tbody>\n",
       "    <tr>\n",
       "      <th>0</th>\n",
       "      <td>ATL</td>\n",
       "      <td>177.764513</td>\n",
       "      <td>232.630887</td>\n",
       "      <td>128.889923</td>\n",
       "    </tr>\n",
       "    <tr>\n",
       "      <th>1</th>\n",
       "      <td>CLT</td>\n",
       "      <td>168.911281</td>\n",
       "      <td>228.566265</td>\n",
       "      <td>107.873494</td>\n",
       "    </tr>\n",
       "  </tbody>\n",
       "</table>\n",
       "</div>"
      ],
      "text/plain": [
       "  airport        TAVG        TMAX        TMIN\n",
       "0     ATL  177.764513  232.630887  128.889923\n",
       "1     CLT  168.911281  228.566265  107.873494"
      ]
     },
     "execution_count": 233,
     "metadata": {},
     "output_type": "execute_result"
    }
   ],
   "source": [
    "weather_impute = weather.groupby([\"airport\"]).agg({'TAVG':'mean','TMAX':'mean', 'TMIN':'mean' }).reset_index()# Enter your code here\n",
    "weather_impute.head(2)"
   ]
  },
  {
   "cell_type": "markdown",
   "metadata": {},
   "source": [
    "Merge the mean data with the weather data."
   ]
  },
  {
   "cell_type": "code",
   "execution_count": 235,
   "metadata": {},
   "outputs": [],
   "source": [
    "\n",
    "# ✅ Merge the mean data with the weather data to impute missing values\n",
    "\n",
    "# Join original weather with imputation table using airport\n",
    "weather = pd.merge(\n",
    "    weather,\n",
    "    weather_impute,\n",
    "    how='left',\n",
    "    left_on='airport',\n",
    "    right_on='airport',\n",
    "    suffixes=('', '_MEAN')\n",
    ")\n",
    "\n",
    "# ✅ Replace missing TAVG, TMAX, TMIN with airport averages\n",
    "weather['TAVG'].fillna(weather['TAVG_MEAN'], inplace=True)\n",
    "weather['TMAX'].fillna(weather['TMAX_MEAN'], inplace=True)\n",
    "weather['TMIN'].fillna(weather['TMIN_MEAN'], inplace=True)\n",
    "\n"
   ]
  },
  {
   "cell_type": "markdown",
   "metadata": {},
   "source": [
    "Check for missing values again."
   ]
  },
  {
   "cell_type": "code",
   "execution_count": 237,
   "metadata": {},
   "outputs": [
    {
     "data": {
      "text/plain": [
       "TAVG    0\n",
       "TMAX    0\n",
       "TMIN    0\n",
       "dtype: int64"
      ]
     },
     "execution_count": 237,
     "metadata": {},
     "output_type": "execute_result"
    }
   ],
   "source": [
    "# ✅ Check missing values again\n",
    "weather[['TAVG', 'TMAX', 'TMIN']].isna().sum()"
   ]
  },
  {
   "cell_type": "markdown",
   "metadata": {},
   "source": [
    "Drop `STATION,MONTH,TAVG_AVG,TMAX_AVG,TMIN_AVG,TMAX,TMIN,SNWD` from the dataset"
   ]
  },
  {
   "cell_type": "code",
   "execution_count": 239,
   "metadata": {},
   "outputs": [
    {
     "data": {
      "text/html": [
       "<div>\n",
       "<style scoped>\n",
       "    .dataframe tbody tr th:only-of-type {\n",
       "        vertical-align: middle;\n",
       "    }\n",
       "\n",
       "    .dataframe tbody tr th {\n",
       "        vertical-align: top;\n",
       "    }\n",
       "\n",
       "    .dataframe thead th {\n",
       "        text-align: right;\n",
       "    }\n",
       "</style>\n",
       "<table border=\"1\" class=\"dataframe\">\n",
       "  <thead>\n",
       "    <tr style=\"text-align: right;\">\n",
       "      <th></th>\n",
       "      <th>STATION</th>\n",
       "      <th>DATE</th>\n",
       "      <th>AWND</th>\n",
       "      <th>PRCP</th>\n",
       "      <th>SNOW</th>\n",
       "      <th>SNWD</th>\n",
       "      <th>TAVG</th>\n",
       "      <th>TMAX</th>\n",
       "      <th>TMIN</th>\n",
       "      <th>airport</th>\n",
       "      <th>MONTH</th>\n",
       "      <th>TAVG_MEAN</th>\n",
       "      <th>TMAX_MEAN</th>\n",
       "      <th>TMIN_MEAN</th>\n",
       "    </tr>\n",
       "  </thead>\n",
       "  <tbody>\n",
       "    <tr>\n",
       "      <th>0</th>\n",
       "      <td>USW00023174</td>\n",
       "      <td>2014-01-01</td>\n",
       "      <td>16</td>\n",
       "      <td>0</td>\n",
       "      <td>0.0</td>\n",
       "      <td>0.0</td>\n",
       "      <td>131.0</td>\n",
       "      <td>178.0</td>\n",
       "      <td>78.0</td>\n",
       "      <td>LAX</td>\n",
       "      <td>1</td>\n",
       "      <td>181.254655</td>\n",
       "      <td>224.636364</td>\n",
       "      <td>146.18839</td>\n",
       "    </tr>\n",
       "    <tr>\n",
       "      <th>1</th>\n",
       "      <td>USW00023174</td>\n",
       "      <td>2014-01-02</td>\n",
       "      <td>22</td>\n",
       "      <td>0</td>\n",
       "      <td>0.0</td>\n",
       "      <td>0.0</td>\n",
       "      <td>159.0</td>\n",
       "      <td>256.0</td>\n",
       "      <td>100.0</td>\n",
       "      <td>LAX</td>\n",
       "      <td>1</td>\n",
       "      <td>181.254655</td>\n",
       "      <td>224.636364</td>\n",
       "      <td>146.18839</td>\n",
       "    </tr>\n",
       "  </tbody>\n",
       "</table>\n",
       "</div>"
      ],
      "text/plain": [
       "       STATION        DATE  AWND  PRCP  SNOW  SNWD   TAVG   TMAX   TMIN  \\\n",
       "0  USW00023174  2014-01-01    16     0   0.0   0.0  131.0  178.0   78.0   \n",
       "1  USW00023174  2014-01-02    22     0   0.0   0.0  159.0  256.0  100.0   \n",
       "\n",
       "  airport  MONTH   TAVG_MEAN   TMAX_MEAN  TMIN_MEAN  \n",
       "0     LAX      1  181.254655  224.636364  146.18839  \n",
       "1     LAX      1  181.254655  224.636364  146.18839  "
      ]
     },
     "execution_count": 239,
     "metadata": {},
     "output_type": "execute_result"
    }
   ],
   "source": [
    "weather.head(2)"
   ]
  },
  {
   "cell_type": "code",
   "execution_count": 241,
   "metadata": {},
   "outputs": [
    {
     "data": {
      "text/html": [
       "<div>\n",
       "<style scoped>\n",
       "    .dataframe tbody tr th:only-of-type {\n",
       "        vertical-align: middle;\n",
       "    }\n",
       "\n",
       "    .dataframe tbody tr th {\n",
       "        vertical-align: top;\n",
       "    }\n",
       "\n",
       "    .dataframe thead th {\n",
       "        text-align: right;\n",
       "    }\n",
       "</style>\n",
       "<table border=\"1\" class=\"dataframe\">\n",
       "  <thead>\n",
       "    <tr style=\"text-align: right;\">\n",
       "      <th></th>\n",
       "      <th>DATE</th>\n",
       "      <th>AWND</th>\n",
       "      <th>PRCP</th>\n",
       "      <th>SNOW</th>\n",
       "      <th>TAVG</th>\n",
       "      <th>airport</th>\n",
       "    </tr>\n",
       "  </thead>\n",
       "  <tbody>\n",
       "    <tr>\n",
       "      <th>0</th>\n",
       "      <td>2014-01-01</td>\n",
       "      <td>16</td>\n",
       "      <td>0</td>\n",
       "      <td>0.0</td>\n",
       "      <td>131.0</td>\n",
       "      <td>LAX</td>\n",
       "    </tr>\n",
       "    <tr>\n",
       "      <th>1</th>\n",
       "      <td>2014-01-02</td>\n",
       "      <td>22</td>\n",
       "      <td>0</td>\n",
       "      <td>0.0</td>\n",
       "      <td>159.0</td>\n",
       "      <td>LAX</td>\n",
       "    </tr>\n",
       "  </tbody>\n",
       "</table>\n",
       "</div>"
      ],
      "text/plain": [
       "         DATE  AWND  PRCP  SNOW   TAVG airport\n",
       "0  2014-01-01    16     0   0.0  131.0     LAX\n",
       "1  2014-01-02    22     0   0.0  159.0     LAX"
      ]
     },
     "execution_count": 241,
     "metadata": {},
     "output_type": "execute_result"
    }
   ],
   "source": [
    "weather.drop(columns=['STATION','MONTH','TAVG_MEAN', 'TMAX_MEAN', 'TMIN_MEAN', 'TMAX' ,'TMIN', 'SNWD'],inplace=True)\n",
    "\n",
    "weather.head(2)"
   ]
  },
  {
   "cell_type": "markdown",
   "metadata": {},
   "source": [
    "Add the origin and destination weather conditions to the dataset."
   ]
  },
  {
   "cell_type": "code",
   "execution_count": 249,
   "metadata": {},
   "outputs": [
    {
     "data": {
      "text/plain": [
       "DATE        object\n",
       "AWND         int64\n",
       "PRCP         int64\n",
       "SNOW       float64\n",
       "TAVG       float64\n",
       "airport     object\n",
       "dtype: object"
      ]
     },
     "execution_count": 249,
     "metadata": {},
     "output_type": "execute_result"
    }
   ],
   "source": [
    "weather.dtypes"
   ]
  },
  {
   "cell_type": "code",
   "execution_count": 251,
   "metadata": {},
   "outputs": [
    {
     "data": {
      "text/html": [
       "<div>\n",
       "<style scoped>\n",
       "    .dataframe tbody tr th:only-of-type {\n",
       "        vertical-align: middle;\n",
       "    }\n",
       "\n",
       "    .dataframe tbody tr th {\n",
       "        vertical-align: top;\n",
       "    }\n",
       "\n",
       "    .dataframe thead th {\n",
       "        text-align: right;\n",
       "    }\n",
       "</style>\n",
       "<table border=\"1\" class=\"dataframe\">\n",
       "  <thead>\n",
       "    <tr style=\"text-align: right;\">\n",
       "      <th></th>\n",
       "      <th>Year</th>\n",
       "      <th>Quarter</th>\n",
       "      <th>Month</th>\n",
       "      <th>DayofMonth</th>\n",
       "      <th>DayOfWeek</th>\n",
       "      <th>FlightDate</th>\n",
       "      <th>Reporting_Airline</th>\n",
       "      <th>Origin</th>\n",
       "      <th>OriginState</th>\n",
       "      <th>Dest</th>\n",
       "      <th>...</th>\n",
       "      <th>DepHourofDay</th>\n",
       "      <th>is_holiday</th>\n",
       "      <th>AWND_O</th>\n",
       "      <th>PRCP_O</th>\n",
       "      <th>SNOW_O</th>\n",
       "      <th>TAVG_O</th>\n",
       "      <th>AWND_D</th>\n",
       "      <th>PRCP_D</th>\n",
       "      <th>SNOW_D</th>\n",
       "      <th>TAVG_D</th>\n",
       "    </tr>\n",
       "  </thead>\n",
       "  <tbody>\n",
       "    <tr>\n",
       "      <th>0</th>\n",
       "      <td>2014</td>\n",
       "      <td>1</td>\n",
       "      <td>1</td>\n",
       "      <td>26</td>\n",
       "      <td>7</td>\n",
       "      <td>2014-01-26</td>\n",
       "      <td>DL</td>\n",
       "      <td>ATL</td>\n",
       "      <td>GA</td>\n",
       "      <td>IAH</td>\n",
       "      <td>...</td>\n",
       "      <td>21</td>\n",
       "      <td>0</td>\n",
       "      <td>33</td>\n",
       "      <td>0</td>\n",
       "      <td>0.0</td>\n",
       "      <td>54.0</td>\n",
       "      <td>30</td>\n",
       "      <td>0</td>\n",
       "      <td>0.0</td>\n",
       "      <td>130.0</td>\n",
       "    </tr>\n",
       "    <tr>\n",
       "      <th>1</th>\n",
       "      <td>2014</td>\n",
       "      <td>1</td>\n",
       "      <td>1</td>\n",
       "      <td>26</td>\n",
       "      <td>7</td>\n",
       "      <td>2014-01-26</td>\n",
       "      <td>DL</td>\n",
       "      <td>DFW</td>\n",
       "      <td>TX</td>\n",
       "      <td>ATL</td>\n",
       "      <td>...</td>\n",
       "      <td>9</td>\n",
       "      <td>0</td>\n",
       "      <td>39</td>\n",
       "      <td>0</td>\n",
       "      <td>0.0</td>\n",
       "      <td>136.0</td>\n",
       "      <td>33</td>\n",
       "      <td>0</td>\n",
       "      <td>0.0</td>\n",
       "      <td>54.0</td>\n",
       "    </tr>\n",
       "  </tbody>\n",
       "</table>\n",
       "<p>2 rows × 30 columns</p>\n",
       "</div>"
      ],
      "text/plain": [
       "   Year  Quarter  Month  DayofMonth  DayOfWeek FlightDate Reporting_Airline  \\\n",
       "0  2014        1      1          26          7 2014-01-26                DL   \n",
       "1  2014        1      1          26          7 2014-01-26                DL   \n",
       "\n",
       "  Origin OriginState Dest  ... DepHourofDay  is_holiday  AWND_O  PRCP_O  \\\n",
       "0    ATL          GA  IAH  ...           21           0      33       0   \n",
       "1    DFW          TX  ATL  ...            9           0      39       0   \n",
       "\n",
       "   SNOW_O  TAVG_O  AWND_D  PRCP_D  SNOW_D  TAVG_D  \n",
       "0     0.0    54.0      30       0     0.0   130.0  \n",
       "1     0.0   136.0      33       0     0.0    54.0  \n",
       "\n",
       "[2 rows x 30 columns]"
      ]
     },
     "execution_count": 251,
     "metadata": {},
     "output_type": "execute_result"
    }
   ],
   "source": [
    "### Add origin weather conditions\n",
    "weather['DATE'] = pd.to_datetime(weather['DATE'])\n",
    "data_orig = pd.merge(data_orig, weather,  how='left', left_on=['FlightDate','Origin'], right_on = ['DATE','airport'])\\\n",
    ".rename(columns = {'AWND':'AWND_O','PRCP':'PRCP_O', 'TAVG':'TAVG_O', 'SNOW': 'SNOW_O'})\\\n",
    ".drop(columns=['DATE','airport'])\n",
    "\n",
    "### Add destination weather conditions\n",
    "data_orig = pd.merge(data_orig, weather,  how='left', left_on=['FlightDate','Dest'], right_on = ['DATE','airport'])\\\n",
    ".rename(columns = {'AWND':'AWND_D','PRCP':'PRCP_D', 'TAVG':'TAVG_D', 'SNOW': 'SNOW_D'})\\\n",
    ".drop(columns=['DATE','airport'])\n",
    "data_orig.head(2)"
   ]
  },
  {
   "cell_type": "markdown",
   "metadata": {},
   "source": [
    "**Note**: It is always a good practice to check nulls/NAs after joins."
   ]
  },
  {
   "cell_type": "code",
   "execution_count": 253,
   "metadata": {},
   "outputs": [
    {
     "data": {
      "text/plain": [
       "0"
      ]
     },
     "execution_count": 253,
     "metadata": {},
     "output_type": "execute_result"
    }
   ],
   "source": [
    "sum(data.isna().any())"
   ]
  },
  {
   "cell_type": "code",
   "execution_count": 255,
   "metadata": {},
   "outputs": [
    {
     "data": {
      "text/plain": [
       "Index(['Year', 'Quarter', 'Month', 'DayofMonth', 'DayOfWeek', 'FlightDate',\n",
       "       'Reporting_Airline', 'Origin', 'OriginState', 'Dest', 'DestState',\n",
       "       'CRSDepTime', 'Cancelled', 'Diverted', 'Distance', 'DistanceGroup',\n",
       "       'ArrDelay', 'ArrDelayMinutes', 'is_delay', 'AirTime', 'DepHourofDay',\n",
       "       'is_holiday', 'AWND_O', 'PRCP_O', 'SNOW_O', 'TAVG_O', 'AWND_D',\n",
       "       'PRCP_D', 'SNOW_D', 'TAVG_D'],\n",
       "      dtype='object')"
      ]
     },
     "execution_count": 255,
     "metadata": {},
     "output_type": "execute_result"
    }
   ],
   "source": [
    "data_orig.columns"
   ]
  },
  {
   "cell_type": "markdown",
   "metadata": {},
   "source": [
    "Convert the categorical data into numerical data using one-hot encoding."
   ]
  },
  {
   "cell_type": "code",
   "execution_count": 261,
   "metadata": {},
   "outputs": [],
   "source": [
    "data = data_orig.copy()\n",
    "data = data[['is_delay', 'Year', 'Quarter', 'Month', 'DayofMonth', 'DayOfWeek', \n",
    "       'Reporting_Airline', 'Origin', 'Dest','Distance','DepHourofDay','is_holiday', 'AWND_O', 'PRCP_O',\n",
    "       'TAVG_O', 'AWND_D', 'PRCP_D', 'TAVG_D', 'SNOW_O', 'SNOW_D']]\n",
    "\n",
    "\n",
    "categorical_columns  = ['Year', 'Quarter', 'Month', 'DayofMonth', 'DayOfWeek', \n",
    "       'Reporting_Airline', 'Origin', 'Dest', 'is_holiday']\n",
    "for c in categorical_columns:\n",
    "    data[c] = data[c].astype('category')"
   ]
  },
  {
   "cell_type": "code",
   "execution_count": 263,
   "metadata": {},
   "outputs": [],
   "source": [
    "# Create a copy and select columns\n",
    "data = data_orig[['is_delay', 'Year', 'Quarter', 'Month', 'DayofMonth', 'DayOfWeek', \n",
    "                 'Reporting_Airline', 'Origin', 'Dest', 'Distance', 'DepHourofDay', \n",
    "                 'is_holiday', 'AWND_O', 'PRCP_O', 'TAVG_O', 'AWND_D', 'PRCP_D', \n",
    "                 'TAVG_D', 'SNOW_O', 'SNOW_D']].copy()\n",
    "\n",
    "# Apply one-hot encoding directly to specific columns\n",
    "data = pd.get_dummies(data, \n",
    "                     columns=categorical_columns,\n",
    "                     drop_first=True,\n",
    "                     prefix=categorical_columns)"
   ]
  },
  {
   "cell_type": "markdown",
   "metadata": {},
   "source": [
    "### Sample code\n",
    "\n",
    "```\n",
    "data_dummies = pd.get_dummies(data[['Year', 'Quarter', 'Month', 'DayofMonth', 'DayOfWeek', 'Reporting_Airline', 'Origin', 'Dest', 'is_holiday']], drop_first=True)\n",
    "data = pd.concat([data, data_dummies], axis = 1)\n",
    "categorical_columns.remove('is_delay')\n",
    "data.drop(categorical_columns,axis=1, inplace=True)\n",
    "```"
   ]
  },
  {
   "cell_type": "markdown",
   "metadata": {},
   "source": [
    "Check the new columns."
   ]
  },
  {
   "cell_type": "code",
   "execution_count": 265,
   "metadata": {},
   "outputs": [
    {
     "data": {
      "text/plain": [
       "Index(['is_delay', 'Distance', 'DepHourofDay', 'AWND_O', 'PRCP_O', 'TAVG_O',\n",
       "       'AWND_D', 'PRCP_D', 'TAVG_D', 'SNOW_O', 'SNOW_D', 'Year_2015',\n",
       "       'Year_2016', 'Year_2017', 'Year_2018', 'Quarter_2', 'Quarter_3',\n",
       "       'Quarter_4', 'Month_2', 'Month_3', 'Month_4', 'Month_5', 'Month_6',\n",
       "       'Month_7', 'Month_8', 'Month_9', 'Month_10', 'Month_11', 'Month_12',\n",
       "       'DayofMonth_2', 'DayofMonth_3', 'DayofMonth_4', 'DayofMonth_5',\n",
       "       'DayofMonth_6', 'DayofMonth_7', 'DayofMonth_8', 'DayofMonth_9',\n",
       "       'DayofMonth_10', 'DayofMonth_11', 'DayofMonth_12', 'DayofMonth_13',\n",
       "       'DayofMonth_14', 'DayofMonth_15', 'DayofMonth_16', 'DayofMonth_17',\n",
       "       'DayofMonth_18', 'DayofMonth_19', 'DayofMonth_20', 'DayofMonth_21',\n",
       "       'DayofMonth_22', 'DayofMonth_23', 'DayofMonth_24', 'DayofMonth_25',\n",
       "       'DayofMonth_26', 'DayofMonth_27', 'DayofMonth_28', 'DayofMonth_29',\n",
       "       'DayofMonth_30', 'DayofMonth_31', 'DayOfWeek_2', 'DayOfWeek_3',\n",
       "       'DayOfWeek_4', 'DayOfWeek_5', 'DayOfWeek_6', 'DayOfWeek_7',\n",
       "       'Reporting_Airline_DL', 'Reporting_Airline_OO', 'Reporting_Airline_UA',\n",
       "       'Reporting_Airline_WN', 'Origin_CLT', 'Origin_DEN', 'Origin_DFW',\n",
       "       'Origin_IAH', 'Origin_LAX', 'Origin_ORD', 'Origin_PHX', 'Origin_SFO',\n",
       "       'Dest_CLT', 'Dest_DEN', 'Dest_DFW', 'Dest_IAH', 'Dest_LAX', 'Dest_ORD',\n",
       "       'Dest_PHX', 'Dest_SFO', 'is_holiday_1'],\n",
       "      dtype='object')"
      ]
     },
     "execution_count": 265,
     "metadata": {},
     "output_type": "execute_result"
    }
   ],
   "source": [
    "data.columns"
   ]
  },
  {
   "cell_type": "markdown",
   "metadata": {},
   "source": [
    "### Sample output\n",
    "\n",
    "```\n",
    "Index(['Distance', 'DepHourofDay', 'is_delay', 'AWND_O', 'PRCP_O', 'TAVG_O',\n",
    "       'AWND_D', 'PRCP_D', 'TAVG_D', 'SNOW_O', 'SNOW_D', 'Year_2015',\n",
    "       'Year_2016', 'Year_2017', 'Year_2018', 'Quarter_2', 'Quarter_3',\n",
    "       'Quarter_4', 'Month_2', 'Month_3', 'Month_4', 'Month_5', 'Month_6',\n",
    "       'Month_7', 'Month_8', 'Month_9', 'Month_10', 'Month_11', 'Month_12',\n",
    "       'DayofMonth_2', 'DayofMonth_3', 'DayofMonth_4', 'DayofMonth_5',\n",
    "       'DayofMonth_6', 'DayofMonth_7', 'DayofMonth_8', 'DayofMonth_9',\n",
    "       'DayofMonth_10', 'DayofMonth_11', 'DayofMonth_12', 'DayofMonth_13',\n",
    "       'DayofMonth_14', 'DayofMonth_15', 'DayofMonth_16', 'DayofMonth_17',\n",
    "       'DayofMonth_18', 'DayofMonth_19', 'DayofMonth_20', 'DayofMonth_21',\n",
    "       'DayofMonth_22', 'DayofMonth_23', 'DayofMonth_24', 'DayofMonth_25',\n",
    "       'DayofMonth_26', 'DayofMonth_27', 'DayofMonth_28', 'DayofMonth_29',\n",
    "       'DayofMonth_30', 'DayofMonth_31', 'DayOfWeek_2', 'DayOfWeek_3',\n",
    "       'DayOfWeek_4', 'DayOfWeek_5', 'DayOfWeek_6', 'DayOfWeek_7',\n",
    "       'Reporting_Airline_DL', 'Reporting_Airline_OO', 'Reporting_Airline_UA',\n",
    "       'Reporting_Airline_WN', 'Origin_CLT', 'Origin_DEN', 'Origin_DFW',\n",
    "       'Origin_IAH', 'Origin_LAX', 'Origin_ORD', 'Origin_PHX', 'Origin_SFO',\n",
    "       'Dest_CLT', 'Dest_DEN', 'Dest_DFW', 'Dest_IAH', 'Dest_LAX', 'Dest_ORD',\n",
    "       'Dest_PHX', 'Dest_SFO', 'is_holiday_1'],\n",
    "      dtype='object')\n",
    "```"
   ]
  },
  {
   "cell_type": "markdown",
   "metadata": {},
   "source": [
    "Rename the `is_delay` column to `target` again. Use the same code as before."
   ]
  },
  {
   "cell_type": "code",
   "execution_count": 269,
   "metadata": {},
   "outputs": [
    {
     "data": {
      "text/plain": [
       "(1635590, 86)"
      ]
     },
     "execution_count": 269,
     "metadata": {},
     "output_type": "execute_result"
    }
   ],
   "source": [
    "data.shape"
   ]
  },
  {
   "cell_type": "code",
   "execution_count": 271,
   "metadata": {},
   "outputs": [],
   "source": [
    "# Rename the is_delay column to target\n",
    "data.rename(columns = {'is_delay':'target'}, inplace=True)"
   ]
  },
  {
   "cell_type": "code",
   "execution_count": 273,
   "metadata": {},
   "outputs": [
    {
     "name": "stdout",
     "output_type": "stream",
     "text": [
      "✅ Saved combined_csv_v2.csv\n"
     ]
    }
   ],
   "source": [
    "data.to_csv(\"combined_csv_v2.csv\", index=False)\n",
    "print(\"✅ Saved combined_csv_v2.csv\")\n",
    "# note this combined file will be also used in part B"
   ]
  },
  {
   "cell_type": "markdown",
   "metadata": {},
   "source": [
    "Create the training and testing sets again."
   ]
  },
  {
   "cell_type": "code",
   "execution_count": 282,
   "metadata": {},
   "outputs": [
    {
     "name": "stdout",
     "output_type": "stream",
     "text": [
      "✅ Re-split complete after feature engineering\n",
      "Train: (1308472, 85)  Test: (327118, 85)\n"
     ]
    }
   ],
   "source": [
    "from sklearn.model_selection import train_test_split\n",
    "\n",
    "\n",
    "X = data.drop('target', axis=1)\n",
    "y = data['target']\n",
    "\n",
    "# Stratified split to preserve class balance\n",
    "X_train, X_test, y_train, y_test = train_test_split(\n",
    "    X, y, test_size=0.2, random_state=42, stratify=y\n",
    ")\n",
    "\n",
    "print(\"✅ Re-split complete after feature engineering\")\n",
    "print(\"Train:\", X_train.shape, \" Test:\", X_test.shape)\n"
   ]
  },
  {
   "cell_type": "markdown",
   "metadata": {},
   "source": [
    "### New baseline classifier\n",
    "\n",
    "Now, see if these new features add any predictive power to the model."
   ]
  },
  {
   "cell_type": "code",
   "execution_count": 295,
   "metadata": {},
   "outputs": [
    {
     "name": "stdout",
     "output_type": "stream",
     "text": [
      "✅ Models trained: Logistic\n"
     ]
    }
   ],
   "source": [
    "from sklearn.linear_model import LogisticRegression\n",
    "from sklearn.ensemble import RandomForestClassifier\n",
    "\n",
    "# Baseline (with class imbalance handling)\n",
    "log2 = LogisticRegression(max_iter=1000, class_weight='balanced')\n",
    "log2.fit(X_train, y_train)\n",
    "\n",
    "print(\"✅ Models trained: Logistic\")\n"
   ]
  },
  {
   "cell_type": "markdown",
   "metadata": {},
   "source": [
    "Perform the evaluaion as you have done with the previous model and plot/show the same metrics"
   ]
  },
  {
   "cell_type": "code",
   "execution_count": 297,
   "metadata": {},
   "outputs": [],
   "source": [
    "import numpy as np\n",
    "import matplotlib.pyplot as plt\n",
    "import seaborn as sns\n",
    "from sklearn.metrics import (\n",
    "    accuracy_score, precision_score, recall_score, f1_score,\n",
    "    confusion_matrix, roc_curve, roc_auc_score\n",
    ")\n",
    "\n",
    "def evaluate_model(model, X_test, y_test, name=\"model\"):\n",
    "    y_pred = model.predict(X_test)\n",
    "    # For ROC we need positive-class scores:\n",
    "    if hasattr(model, \"predict_proba\"):\n",
    "        y_score = model.predict_proba(X_test)[:, 1]\n",
    "    else:\n",
    "        # fallback for models without predict_proba\n",
    "        y_score = model.decision_function(X_test)\n",
    "\n",
    "    acc = accuracy_score(y_test, y_pred)\n",
    "    prec = precision_score(y_test, y_pred, zero_division=0)\n",
    "    rec = recall_score(y_test, y_pred)\n",
    "    f1 = f1_score(y_test, y_pred)\n",
    "    auc = roc_auc_score(y_test, y_score)\n",
    "\n",
    "    # Confusion matrix\n",
    "    cm = confusion_matrix(y_test, y_pred)\n",
    "    tn, fp, fn, tp = cm.ravel()\n",
    "    specificity = tn / (tn + fp) if (tn+fp)>0 else np.nan\n",
    "\n",
    "    print(f\"\\n🔎 {name} — Metrics\")\n",
    "    print(f\"Accuracy    : {acc:.4f}\")\n",
    "    print(f\"Precision   : {prec:.4f}\")\n",
    "    print(f\"Recall      : {rec:.4f}  (Sensitivity)\")\n",
    "    print(f\"Specificity : {specificity:.4f}\")\n",
    "    print(f\"F1-score    : {f1:.4f}\")\n",
    "    print(f\"ROC-AUC     : {auc:.4f}\")\n",
    "\n",
    "    # Plot CM\n",
    "    plt.figure(figsize=(4.5,4))\n",
    "    sns.heatmap(cm, annot=True, fmt=\"d\", cmap=\"Blues\", cbar=False)\n",
    "    plt.title(f\"Confusion Matrix — {name}\")\n",
    "    plt.xlabel(\"Predicted\")\n",
    "    plt.ylabel(\"Actual\")\n",
    "    plt.show()\n",
    "\n",
    "    # Plot ROC\n",
    "    fpr, tpr, _ = roc_curve(y_test, y_score)\n",
    "    plt.figure(figsize=(5.5,4.5))\n",
    "    plt.plot(fpr, tpr, lw=2, label=f\"{name} (AUC={auc:.3f})\")\n",
    "    plt.plot([0,1], [0,1], linestyle=\"--\")\n",
    "    plt.xlabel(\"False Positive Rate\")\n",
    "    plt.ylabel(\"True Positive Rate (Sensitivity)\")\n",
    "    plt.title(f\"ROC Curve — {name}\")\n",
    "    plt.legend(loc=\"lower right\")\n",
    "    plt.show()\n"
   ]
  },
  {
   "cell_type": "code",
   "execution_count": 299,
   "metadata": {},
   "outputs": [
    {
     "name": "stdout",
     "output_type": "stream",
     "text": [
      "\n",
      "🔎 Logistic Regression — Metrics\n",
      "Accuracy    : 0.6427\n",
      "Precision   : 0.3167\n",
      "Recall      : 0.6069  (Sensitivity)\n",
      "Specificity : 0.6522\n",
      "F1-score    : 0.4162\n",
      "ROC-AUC     : 0.6776\n"
     ]
    },
    {
     "data": {
      "image/png": "[encoded data removed]",
      "text/plain": [
       "<Figure size 450x400 with 1 Axes>"
      ]
     },
     "metadata": {},
     "output_type": "display_data"
    },
    {
     "data": {
      "image/png": "[encoded data removed]",
      "text/plain": [
       "<Figure size 550x450 with 1 Axes>"
      ]
     },
     "metadata": {},
     "output_type": "display_data"
    }
   ],
   "source": [
    "evaluate_model(log2, X_test, y_test, name=\"Logistic Regression\")\n"
   ]
  },
  {
   "cell_type": "markdown",
   "metadata": {},
   "source": [
    "Question: did you notice a difference by adding the extra data on the results?"
   ]
  },
  {
   "cell_type": "markdown",
   "metadata": {},
   "source": [
    "Yes, adding the extra data (holiday indicator and weather features) made a small  in the model's performance.\n",
    "\n",
    "Compared to the first model, the recall increased significantly (from ~0.0032 to ~0.6069), meaning the model is now better at detecting delayed flights, which is important for this problem.\n",
    "\n",
    "The F1-score also improved after adding new features, showing a better balance between precision and recall.\n",
    "\n",
    "However, overall accuracy remained similar and even slightly decreased. This is expected because we used class_weight=\"balanced\" and focused on improving detection of the minority (delayed) class.\n",
    "\n",
    "The ROC AUC decresed slightly (from ~0.7902 to ~0.6427), showing only a small loss in predictive power.\n",
    "\n",
    "Overall, the extra data helped, but the improvement not made but descreased. The main benefit came from increasing recall, which reduces the number of missed delays. However, there is still room for improvement in future iterations with more advanced feature engineering or other machine learning models.\n"
   ]
  },
  {
   "cell_type": "markdown",
   "metadata": {},
   "source": [
    "# Step 6: Using Tableau\n",
    "\n",
    "Use Tableau to load the combined_csv_v2.csv file and build a dashboard that show your understanding of the data and business problem. \n",
    "### what to do:\n",
    "1. Load the data into Tableau and build the dashboard\n",
    "2. Share the dashboard on your Tableau public account \n",
    "3. Copy the link of the shared dashboard below\n",
    "\n",
    "Note: The dashboard needs to be self explainable to others, so make it simple and add only the features that you feel heighlight the main question(s) of the prblem statement."
   ]
  },
  {
   "cell_type": "code",
   "execution_count": 19,
   "metadata": {},
   "outputs": [],
   "source": [
    "# copy the link here"
   ]
  },
  {
   "cell_type": "markdown",
   "metadata": {},
   "source": [
    "## Conclusion\n",
    "\n",
    "You've now gone through at least a couple iterations of training and evaluating your model. It's time to wrap up this project and reflect on what you've learned and what types of steps you might take moving forward (assuming you had more time). Use the cell below to answer some of these and other relevant questions:\n",
    "\n",
    "1. Does your model performance meet your business goal? If not, what are some things you'd like to do differently if you had more time for tuning?\n",
    "2. To what extent did your model improve as you made changes to your dataset? What types of techniques did you employ throughout this project that you felt yielded the greatest improvements in your model?\n",
    "3. What were some of the biggest challenges you encountered throughout this project?\n",
    "4. What were the three most important things you learned about machine learning while completing this project?"
   ]
  },
  {
   "cell_type": "markdown",
   "metadata": {},
   "source": [
    "Does your model performance meet your business goal?\n",
    "The business goal was to predict flight delays using historical flight and weather data so that travellers or airlines could take proactive action. Based on the results, the model shows moderate success. In the final iteration:\n",
    "\n",
    "Recall  is 0.6069, which means the model correctly identifies around 60% of delayed flights.\n",
    "\n",
    "However, Precision is still low (0.3167), meaning there are many false alarms—flights predicted as delayed that are actually on time.\n",
    "\n",
    "Accuracy dropped , but this is expected due to class imbalance.\n",
    "\n",
    "Overall, the model partially meets the business goal, especially if the priority is reducing the number of missed delays, but it still needs improvement to reduce false positives. If more time was available, I would:\n",
    "\n",
    "Tune the decision threshold instead of using the default 0.5.\n",
    "\n",
    "Try advanced models like Random Forest, XGBoost or Gradient Boosting to capture non-linear relationships.\n",
    "\n",
    "Use SMOTE or class weighting refinements to improve balance.\n",
    "\n",
    "Add more external data (airport traffic, operational factors, flight routes, seasonal trends).\n",
    "\n",
    "How did the model improve as changes were made? What techniques helped?\n",
    "Model performance improved in each iteration:\n",
    "\n",
    "Iteration Description Key Metric Improvement Baseline Basic logistic regression Accuracy high but low recall Iteration 1 Balanced class weights + selected features Recall increased Iteration 2 + Holiday + Weather features Recall significantly improved to 0.60, F1 improved\n",
    "\n",
    "The most impactful techniques were:\n",
    "\n",
    "Feature engineering (adding is_holiday, weather variables like wind and snowfall).\n",
    "\n",
    "Handling class imbalance using class_weight=\"balanced\".\n",
    "\n",
    "One-hot encoding and clean preprocessing. These steps showed that data quality and relevant features matter more than just choosing a complex model.\n",
    "\n",
    "Biggest challenges encountered\n",
    "Large data volume (multiple CSVs across years) – combining and filtering them efficiently was time-consuming.\n",
    "\n",
    "Handling missing values in weather data and merged datasets.\n",
    "\n",
    "Class imbalance, where most flights are not delayed.\n",
    "\n",
    "Maintaining correct column formats (especially date/time) during merging.\n",
    "\n",
    "Slow model training due to dataset size.\n",
    "\n",
    "Three most important things learned\n",
    "Data preprocessing and feature engineering are more important than algorithms. Good features improved model performance more than complex methods.\n",
    "\n",
    "Class imbalance can mislead model accuracy. Metrics like recall, precision, and ROC-AUC give a more realistic view.\n",
    "\n",
    "Iterative model development is essential. Each step—cleaning, feature selection, new data—gradually improves results. Machine learning is not a one-shot process."
   ]
  }
 ],
 "metadata": {
  "kernelspec": {
   "display_name": "Python [conda env:base] *",
   "language": "python",
   "name": "conda-base-py"
  },
  "language_info": {
   "codemirror_mode": {
    "name": "ipython",
    "version": 3
   },
   "file_extension": ".py",
   "mimetype": "text/x-python",
   "name": "python",
   "nbconvert_exporter": "python",
   "pygments_lexer": "ipython3",
   "version": "3.12.7"
  }
 },
 "nbformat": 4,
 "nbformat_minor": 4
}
